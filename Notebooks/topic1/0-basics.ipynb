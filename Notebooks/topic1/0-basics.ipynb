{
 "cells": [
  {
   "attachments": {},
   "cell_type": "markdown",
   "metadata": {
    "deletable": false,
    "editable": false,
    "nbgrader": {
     "grade": false,
     "grade_id": "cell-166d0b0bd7d2633f",
     "locked": true,
     "schema_version": 1,
     "solution": false
    }
   },
   "source": [
    "# Python review: Values, variables, types, lists, and strings\n",
    "\n",
    "These first few notebooks are a set of exercises designed to reinforce various aspects of Python programming."
   ]
  },
  {
   "attachments": {},
   "cell_type": "markdown",
   "metadata": {
    "deletable": false,
    "editable": false,
    "nbgrader": {
     "grade": false,
     "grade_id": "cell-92648f77b2c73f26",
     "locked": true,
     "schema_version": 1,
     "solution": false
    }
   },
   "source": [
    "**Study hint: Read the test code!** You'll notice that most of the exercises below have a place for you to code up your answer followed by a \"test cell.\" That's a code cell that checks the output of your code to see whether it appears to produce correct results. You can often learn a lot by reading the test code. In fact, sometimes it gives you a hint about how to approach the problem. As such, we encourage you to try to read the test cells even if they seem cryptic, which is deliberate!\n",
    "\n",
    "**Debugging tip: Read assertions.** The test cells often run an `assert` statement to see whether some condition that it thinks should be true is true. If an assertion fails, look at the condition being checked and use that as a guide to help you debug. For example, if an assertion reads, `assert a + b == 3`, and that fails, inspect the values and types of `a` and `b` to help determine why their sum does not equal 3."
   ]
  },
  {
   "attachments": {},
   "cell_type": "markdown",
   "metadata": {
    "deletable": false,
    "editable": false,
    "nbgrader": {
     "grade": false,
     "grade_id": "cell-9a91d97e7aa9c67f",
     "locked": true,
     "schema_version": 1,
     "solution": false
    }
   },
   "source": [
    "**Exercise 0** (1 point). Run the code cell below. It should display the output string, `Hello, world!`."
   ]
  },
  {
   "cell_type": "code",
   "execution_count": 1,
   "metadata": {
    "deletable": false,
    "editable": false,
    "nbgrader": {
     "grade": true,
     "grade_id": "hello_world_test",
     "locked": true,
     "points": 1,
     "schema_version": 1,
     "solution": false
    }
   },
   "outputs": [
    {
     "name": "stdout",
     "output_type": "stream",
     "text": [
      "Hello, world!\n"
     ]
    }
   ],
   "source": [
    "print(\"Hello, world!\")"
   ]
  },
  {
   "attachments": {},
   "cell_type": "markdown",
   "metadata": {
    "deletable": false,
    "editable": false,
    "nbgrader": {
     "grade": false,
     "grade_id": "cell-2de1352e57946ac5",
     "locked": true,
     "schema_version": 1,
     "solution": false
    }
   },
   "source": [
    "**Exercise 1** (`x_float_test`: 1 point). Create a variable named `x_float` whose numerical value is one (1) and whose type is *floating-point* (i.e., `float`)."
   ]
  },
  {
   "cell_type": "code",
   "execution_count": 2,
   "metadata": {
    "collapsed": true,
    "nbgrader": {
     "grade": false,
     "grade_id": "x_float",
     "locked": false,
     "schema_version": 1,
     "solution": true
    }
   },
   "outputs": [],
   "source": [
    "\n",
    "x_float = float(1)"
   ]
  },
  {
   "cell_type": "code",
   "execution_count": 3,
   "metadata": {
    "deletable": false,
    "editable": false,
    "nbgrader": {
     "grade": true,
     "grade_id": "x_float_test",
     "locked": true,
     "points": 1,
     "schema_version": 1,
     "solution": false
    }
   },
   "outputs": [
    {
     "name": "stdout",
     "output_type": "stream",
     "text": [
      "\n",
      "(Passed!)\n"
     ]
    }
   ],
   "source": [
    "# `x_float_test`: Test cell\n",
    "assert x_float == 1, f\"`x_float` has the wrong value ({x_float} rather than 1.0)\"\n",
    "assert type(x_float) is float, f\"`type(x_float)` == {type(x_float)} rather than `float`\"\n",
    "print(\"\\n(Passed!)\")"
   ]
  },
  {
   "attachments": {},
   "cell_type": "markdown",
   "metadata": {
    "deletable": false,
    "editable": false,
    "nbgrader": {
     "grade": false,
     "grade_id": "cell-2b53cd92e2ac58a1",
     "locked": true,
     "schema_version": 1,
     "solution": false
    }
   },
   "source": [
    "**Exercise 2** (`strcat_ba_test`: 1 point). Complete the following function, `strcat_ba(a, b)`, so that given two strings, `a` and `b`, it returns the concatenation of `b` followed by `a` (pay attention to the order in these instructions!)."
   ]
  },
  {
   "cell_type": "code",
   "execution_count": 6,
   "metadata": {
    "collapsed": true,
    "nbgrader": {
     "grade": false,
     "grade_id": "strcat_ba",
     "locked": false,
     "schema_version": 1,
     "solution": true
    }
   },
   "outputs": [],
   "source": [
    "def strcat_ba(a, b):\n",
    "    return b + a\n"
   ]
  },
  {
   "cell_type": "code",
   "execution_count": 7,
   "metadata": {
    "deletable": false,
    "editable": false,
    "nbgrader": {
     "grade": true,
     "grade_id": "strcat_ba_test",
     "locked": true,
     "points": 1,
     "schema_version": 1,
     "solution": false
    }
   },
   "outputs": [
    {
     "name": "stdout",
     "output_type": "stream",
     "text": [
      "strcat_ba(\"rnkqo\", \"ccx\") == \"ccxrnkqo\"\n",
      "\n",
      "(Passed!)\n"
     ]
    }
   ],
   "source": [
    "# `strcat_ba_test`: Test cell\n",
    "\n",
    "# Workaround:  # Python 3.5.2 does not have `random.choices()` (available in 3.6+)\n",
    "def random_letter():\n",
    "    from random import choice\n",
    "    return choice('abcdefghijklmnopqrstuvwxyz')\n",
    "\n",
    "def random_string(n, fun=random_letter):\n",
    "    return ''.join([str(fun()) for _ in range(n)])\n",
    "\n",
    "a = random_string(5)\n",
    "b = random_string(3)\n",
    "c = strcat_ba(a, b)\n",
    "print('strcat_ba(\"{}\", \"{}\") == \"{}\"'.format(a, b, c))\n",
    "assert len(c) == len(a) + len(b), \"`c` has the wrong length: {len(c)} rather than {len(a)+len(b)}\"\n",
    "assert c[:len(b)] == b\n",
    "assert c[-len(a):] == a\n",
    "print(\"\\n(Passed!)\")"
   ]
  },
  {
   "attachments": {},
   "cell_type": "markdown",
   "metadata": {
    "deletable": false,
    "editable": false,
    "nbgrader": {
     "grade": false,
     "grade_id": "cell-75fe9a45cd6b3f9a",
     "locked": true,
     "schema_version": 1,
     "solution": false
    }
   },
   "source": [
    "**Exercise 3** (`strcat_list_test`: 2 points). Complete the following function, `strcat_list(L)`, which generalizes the previous function: given a *list* of strings, `L[:]`, returns the concatenation of the strings in reverse order. For example:\n",
    "\n",
    "```python\n",
    "    strcat_list(['abc', 'def', 'ghi']) == 'ghidefabc'\n",
    "```"
   ]
  },
  {
   "cell_type": "code",
   "execution_count": 16,
   "metadata": {
    "collapsed": true,
    "nbgrader": {
     "grade": false,
     "grade_id": "strcat_list",
     "locked": false,
     "schema_version": 1,
     "solution": true
    }
   },
   "outputs": [
    {
     "data": {
      "text/plain": [
       "'ghidefabc'"
      ]
     },
     "execution_count": 16,
     "metadata": {},
     "output_type": "execute_result"
    }
   ],
   "source": [
    "def strcat_list(L):\n",
    "    return ''.join(L[::-1])\n",
    "\n",
    "strcat_list(['abc', 'def', 'ghi'])"
   ]
  },
  {
   "cell_type": "code",
   "execution_count": 17,
   "metadata": {
    "deletable": false,
    "editable": false,
    "nbgrader": {
     "grade": true,
     "grade_id": "strcat_list_test",
     "locked": true,
     "points": 2,
     "schema_version": 1,
     "solution": false
    }
   },
   "outputs": [
    {
     "name": "stdout",
     "output_type": "stream",
     "text": [
      "L == ['xpc', 'ihl', 'acp', 'phm', 'gye', 'jxd']\n",
      "strcat_list(L) == 'jxdgyephmacpihlxpc'\n",
      "\n",
      "(Passed!)\n"
     ]
    }
   ],
   "source": [
    "# `strcat_list_test`: Test cell\n",
    "n = 3\n",
    "nL = 6\n",
    "L = [random_string(n) for _ in range(nL)]\n",
    "Lc = strcat_list(L)\n",
    "\n",
    "print('L == {}'.format(L))\n",
    "print('strcat_list(L) == \\'{}\\''.format(Lc))\n",
    "assert all([Lc[i*n:(i+1)*n] == L[nL-i-1] for i, x in zip(range(nL), L)])\n",
    "print(\"\\n(Passed!)\")"
   ]
  },
  {
   "attachments": {},
   "cell_type": "markdown",
   "metadata": {
    "deletable": false,
    "editable": false,
    "nbgrader": {
     "grade": false,
     "grade_id": "cell-06e37dd37379b6b8",
     "locked": true,
     "schema_version": 1,
     "solution": false
    }
   },
   "source": [
    "##### **Exercise 4** (`floor_fraction_test`: 1 point). Suppose you are given two variables, `a` and `b`, whose values are the real numbers, $a \\geq 0$ (non-negative) and $b > 0$ (positive). Complete the function, `floor_fraction(a, b)` so that it returns $\\left\\lfloor\\frac{a}{b}\\right\\rfloor$, that is, the *floor* of $\\frac{a}{b}$. The *type* of the returned value must be `int` (an integer)."
   ]
  },
  {
   "cell_type": "code",
   "execution_count": 18,
   "metadata": {
    "collapsed": true,
    "nbgrader": {
     "grade": false,
     "grade_id": "floor_fraction",
     "locked": false,
     "schema_version": 1,
     "solution": true
    }
   },
   "outputs": [],
   "source": [
    "# def is_number(x):\n",
    "#     \"\"\"Returns `True` if `x` is a number-like type, e.g., `int`, `float`, `Decimal()`, ...\"\"\"\n",
    "#     from numbers import Number\n",
    "#     return isinstance(x, Number)\n",
    "    \n",
    "def floor_fraction(a, b):\n",
    "    return int(a/b)\n"
   ]
  },
  {
   "cell_type": "code",
   "execution_count": 19,
   "metadata": {
    "deletable": false,
    "editable": false,
    "nbgrader": {
     "grade": true,
     "grade_id": "floor_fraction_test",
     "locked": true,
     "points": 1,
     "schema_version": 1,
     "solution": false
    }
   },
   "outputs": [
    {
     "name": "stdout",
     "output_type": "stream",
     "text": [
      "floor_fraction(0.10990833020287727, 0.28701763556557036) == floor(0.38293232395389953) == 0\n",
      "\n",
      "(Passed!)\n"
     ]
    }
   ],
   "source": [
    "# `floor_fraction_test`: Test cell\n",
    "from random import random\n",
    "a = random()\n",
    "b = random()\n",
    "c = floor_fraction(a, b)\n",
    "\n",
    "print('floor_fraction({}, {}) == floor({}) == {}'.format(a, b, a/b, c))\n",
    "assert b*c <= a <= b*(c+1)\n",
    "assert type(c) is int, f\"type(c) == {type(c)} rather than `int`\"\n",
    "print('\\n(Passed!)')"
   ]
  },
  {
   "attachments": {},
   "cell_type": "markdown",
   "metadata": {
    "deletable": false,
    "editable": false,
    "nbgrader": {
     "grade": false,
     "grade_id": "cell-e98590d39e95bc25",
     "locked": true,
     "schema_version": 1,
     "solution": false
    }
   },
   "source": [
    "**Exercise 5** (`ceiling_fraction_test`: 1 point). Complete the function, `ceiling_fraction(a, b)`, which for any numeric inputs, `a` and `b`, corresponding to real numbers, $a \\geq 0$ and $b > 0$, returns $\\left\\lceil\\frac{a}{b}\\right\\rceil$, that is, the *ceiling* of $\\frac{a}{b}$. The type of the returned value must be `int`."
   ]
  },
  {
   "cell_type": "code",
   "execution_count": 20,
   "metadata": {
    "collapsed": true,
    "nbgrader": {
     "grade": false,
     "grade_id": "ceiling_fraction",
     "locked": false,
     "schema_version": 1,
     "solution": true
    }
   },
   "outputs": [],
   "source": [
    "import math\n",
    "def ceiling_fraction(a, b):\n",
    "    return int(math.ceil(a/b))\n"
   ]
  },
  {
   "cell_type": "code",
   "execution_count": 21,
   "metadata": {
    "deletable": false,
    "editable": false,
    "nbgrader": {
     "grade": true,
     "grade_id": "ceiling_fraction_test",
     "locked": true,
     "points": 1,
     "schema_version": 1,
     "solution": false
    }
   },
   "outputs": [
    {
     "name": "stdout",
     "output_type": "stream",
     "text": [
      "ceiling_fraction(0.51543393307421, 0.45374470143083345) == ceiling(1.1359558171122361) == 2\n",
      "\n",
      "(Passed!)\n"
     ]
    }
   ],
   "source": [
    "# `ceiling_fraction_test`: Test cell\n",
    "from random import random\n",
    "a = random()\n",
    "b = random()\n",
    "c = ceiling_fraction(a, b)\n",
    "print('ceiling_fraction({}, {}) == ceiling({}) == {}'.format(a, b, a/b, c))\n",
    "assert b*(c-1) <= a <= b*c\n",
    "assert type(c) is int\n",
    "print(\"\\n(Passed!)\")"
   ]
  },
  {
   "cell_type": "code",
   "execution_count": 22,
   "metadata": {},
   "outputs": [
    {
     "name": "stdout",
     "output_type": "stream",
     "text": [
      "2.9999999999999996\n",
      "------------\n",
      "ceiling_fraction(0.3, 0.1) == ceiling(2.9999999999999996) == 3\n"
     ]
    }
   ],
   "source": [
    "a = 0.3\n",
    "b = 0.1\n",
    "c = ceiling_fraction(a, b)\n",
    "print(f\"{a/b}\")\n",
    "print('------------')\n",
    "print('ceiling_fraction({}, {}) == ceiling({}) == {}'.format(a, b, a/b, c))"
   ]
  },
  {
   "attachments": {},
   "cell_type": "markdown",
   "metadata": {},
   "source": [
    "**Exercise 6** (`report_exam_avg_test`: 1 point). Let `a`, `b`, and `c` represent three exam scores as numerical values. Complete the function, `report_exam_avg(a, b, c)` so that it computes the average score (equally weighted) and returns the string, `'Your average score: XX'`, where `XX` is the average rounded to one decimal place. For example:\n",
    "\n",
    "```python\n",
    "    report_exam_avg(100, 95, 80) == 'Your average score: 91.7'\n",
    "```"
   ]
  },
  {
   "cell_type": "code",
   "execution_count": 23,
   "metadata": {
    "collapsed": true,
    "nbgrader": {
     "grade": false,
     "grade_id": "cell-a117d6495f42b850",
     "locked": false,
     "schema_version": 1,
     "solution": true
    }
   },
   "outputs": [],
   "source": [
    "def report_exam_avg(a, b, c):\n",
    "    avg_score = round(((a + b + c) / 3), 1)\n",
    "    return \"Your average score: {}\".format(avg_score)"
   ]
  },
  {
   "cell_type": "code",
   "execution_count": 24,
   "metadata": {
    "deletable": false,
    "editable": false,
    "nbgrader": {
     "grade": true,
     "grade_id": "report_exam_avg_test",
     "locked": true,
     "points": 1,
     "schema_version": 1,
     "solution": false
    }
   },
   "outputs": [
    {
     "name": "stdout",
     "output_type": "stream",
     "text": [
      "Your average score: 91.7\n",
      "Checking some additional randomly generated cases:\n",
      "41.30818347333227, 54.24603736872666, 15.89959944098609 -> 'Your average score: 37.2' [0.048726572318329886]\n",
      "98.47695382495695, 6.864627296025672, 30.430630872818863 -> 'Your average score: 45.3' [0.042596002066166726]\n",
      "35.64329506007265, 74.51970236683637, 29.731164749924798 -> 'Your average score: 46.6' [0.03138739227793508]\n",
      "36.863391577128425, 31.240506812231406, 50.85443221192543 -> 'Your average score: 39.7' [0.047223132904917975]\n",
      "68.34717247230938, 75.4371731616675, 90.83465524060236 -> 'Your average score: 78.2' [0.006333624859744684]\n",
      "90.8914844441312, 9.0477836401355, 13.103048885200119 -> 'Your average score: 37.7' [0.019227676844394637]\n",
      "61.96910154481433, 95.09905869437702, 81.39191044060757 -> 'Your average score: 79.5' [0.013309773400360806]\n",
      "39.2938227270324, 44.20038041568281, 70.41446473570228 -> 'Your average score: 51.3' [0.0028892928058326106]\n",
      "52.7211641673569, 18.263591609537144, 39.35841990480564 -> 'Your average score: 36.8' [0.018941439433433516]\n",
      "32.099052671126294, 83.90146763328607, 93.00576204390072 -> 'Your average score: 69.7' [0.031239217228981413]\n",
      "\n",
      "(Passed!)\n"
     ]
    }
   ],
   "source": [
    "# `report_exam_avg_test`: Test cell\n",
    "msg = report_exam_avg(100, 95, 80)\n",
    "print(msg)\n",
    "assert msg == 'Your average score: 91.7'\n",
    "\n",
    "print(\"Checking some additional randomly generated cases:\")\n",
    "for _ in range(10):\n",
    "    ex1 = random() * 100\n",
    "    ex2 = random() * 100\n",
    "    ex3 = random() * 100\n",
    "    msg = report_exam_avg(ex1, ex2, ex3)\n",
    "    ex_rounded_avg = float(msg.split()[-1])\n",
    "    abs_err = abs(ex_rounded_avg*3 - (ex1 + ex2 + ex3)) / 3\n",
    "    print(\"{}, {}, {} -> '{}' [{}]\".format(ex1, ex2, ex3, msg, abs_err))\n",
    "    assert abs_err <= 0.05\n",
    "\n",
    "print(\"\\n(Passed!)\")"
   ]
  },
  {
   "attachments": {},
   "cell_type": "markdown",
   "metadata": {
    "deletable": false,
    "editable": false,
    "nbgrader": {
     "grade": false,
     "grade_id": "cell-24a78862d8e3bba0",
     "locked": true,
     "schema_version": 1,
     "solution": false
    }
   },
   "source": [
    "**Exercise 7** (`count_word_lengths_test`: 2 points). Write a function `count_word_lengths(s)` that, given a string consisting of words separated by spaces, returns a list containing the length of each word. Words will consist of lowercase alphabetic characters, and they may be separated by multiple consecutive spaces. If a string is empty or has no spaces, the function should return an empty list.\n",
    "\n",
    "For instance, in this code sample,\n",
    "\n",
    "```python\n",
    "   count_word_lengths('the quick  brown   fox jumped over     the lazy  dog') == [3, 5, 5, 3, 6, 4, 3, 4, 3]`\n",
    "```\n",
    "\n",
    "the input string consists of nine (9) words whose respective lengths are shown in the list."
   ]
  },
  {
   "cell_type": "code",
   "execution_count": 32,
   "metadata": {
    "collapsed": true,
    "nbgrader": {
     "grade": false,
     "grade_id": "count_word_lengths",
     "locked": false,
     "schema_version": 1,
     "solution": true
    }
   },
   "outputs": [
    {
     "data": {
      "text/plain": [
       "[3, 5, 5, 3, 6, 4, 3, 4, 3]"
      ]
     },
     "execution_count": 32,
     "metadata": {},
     "output_type": "execute_result"
    }
   ],
   "source": [
    "def count_word_lengths(s):\n",
    "   words = s.split()\n",
    "   return [len(word)for word in words]"
   ]
  },
  {
   "cell_type": "code",
   "execution_count": 33,
   "metadata": {
    "deletable": false,
    "editable": false,
    "nbgrader": {
     "grade": true,
     "grade_id": "count_word_lengths_test",
     "locked": true,
     "points": 2,
     "schema_version": 1,
     "solution": false
    }
   },
   "outputs": [
    {
     "name": "stdout",
     "output_type": "stream",
     "text": [
      "Test 1: count_word_lengths('the quick brown fox jumped over the lazy dog') == [3, 5, 5, 3, 6, 4, 3, 4, 3]\n",
      "Test 2: count_word_lengths('jivncilpsxnvinhxditel dqcnanjswv b wl  f') == '[21, 10, 1, 2, 1]'\n",
      "  => 'jivncilpsxnvinhxditel'\n",
      "  => 'dqcnanjswv'\n",
      "  => 'b'\n",
      "  => 'wl'\n",
      "  => 'f'\n",
      "Test 3: Empty strings...\n",
      "[3]\n",
      "\n",
      "(Passed!)\n"
     ]
    }
   ],
   "source": [
    "# `count_word_lengths_test`: Test cell\n",
    "\n",
    "# Test 1: Example\n",
    "qbf_str = 'the quick brown fox jumped over the lazy dog'\n",
    "qbf_lens = count_word_lengths(qbf_str)\n",
    "print(\"Test 1: count_word_lengths('{}') == {}\".format(qbf_str, qbf_lens))\n",
    "assert qbf_lens == [3, 5, 5, 3, 6, 4, 3, 4, 3]\n",
    "\n",
    "# Test 2: Random strings\n",
    "from random import choice # 3.5.2 does not have `choices()` (available in 3.6+)\n",
    "#return ''.join([choice('abcdefghijklmnopqrstuvwxyz') for _ in range(n)])\n",
    "\n",
    "def random_letter_or_space(pr_space=0.15):\n",
    "    from random import choice, random\n",
    "    is_space = (random() <= pr_space)\n",
    "    if is_space:\n",
    "        return ' '\n",
    "    return random_letter()\n",
    "\n",
    "S_LEN = 40\n",
    "W_SPACE = 1 / 6\n",
    "rand_str = random_string(S_LEN, fun=random_letter_or_space)\n",
    "rand_lens = count_word_lengths(rand_str)\n",
    "print(\"Test 2: count_word_lengths('{}') == '{}'\".format(rand_str, rand_lens))\n",
    "c = 0\n",
    "while c < len(rand_str) and rand_str[c] == ' ':\n",
    "    c += 1\n",
    "for k in rand_lens:\n",
    "    print(\"  => '{}'\".format (rand_str[c:c+k]))\n",
    "    assert (c+k) == len(rand_str) or rand_str[c+k] == ' '\n",
    "    c += k\n",
    "    while c < len(rand_str) and rand_str[c] == ' ':\n",
    "        c += 1\n",
    "    \n",
    "# Test 3: Empty string\n",
    "print(\"Test 3: Empty strings...\")\n",
    "assert count_word_lengths('') == []\n",
    "assert count_word_lengths('   ') == []\n",
    "print(count_word_lengths('the'))\n",
    "\n",
    "print(\"\\n(Passed!)\")"
   ]
  },
  {
   "attachments": {},
   "cell_type": "markdown",
   "metadata": {},
   "source": [
    "**Fin!** You've reached the end of this part. Don't forget to restart and run all cells again to make sure it's all working when run in sequence; and make sure your work passes the submission process. Good luck!"
   ]
  },
  {
   "cell_type": "code",
   "execution_count": 17,
   "metadata": {},
   "outputs": [
    {
     "name": "stdout",
     "output_type": "stream",
     "text": [
      "tar: Removing leading `../../' from member names\n",
      "../../asn1346216_1/\n",
      "../../asn1346216_1/resource/\n",
      "../../asn1346216_1/resource/startercode/\n",
      "tar: ../../asn1346216_1/resource/startercode/resource: File removed before we read it\n",
      "../../asn1346216_1/resource/startercode/0-basics.ipynb\n",
      "../../asn1346216_1/resource/startercode/.jupyter/\n",
      "../../asn1346216_1/resource/startercode/.jupyter/nbconfig/\n",
      "../../asn1346216_1/resource/startercode/.jupyter/nbconfig/notebook.json\n",
      "../../asn1346216_1/resource/scripts/\n",
      "../../asn1346216_1/resource/scripts/run.sh\n",
      "../../asn1346216_1/resource/scripts/build.sh\n",
      "../../asn1346216_1/resource/asnlib/\n",
      "../../asn1346216_1/resource/asnlib/publicdata/\n",
      "../../asn1346216_1/resource/asnlib/public/\n",
      "../../asn1346216_1/resource/asnlib/public/docs/\n",
      "../../asn1346216_1/resource/lib/\n",
      "../../asn1346216_1/resource/lib/publicdata/\n",
      "../../asn1346216_1/resource/lib/publicdata/data/\n",
      "../../asn1346216_1/resource/lib/public/\n",
      "../../asn1346216_1/work/\n",
      "../../asn1346216_1/work/.gitconfig\n",
      "../../asn1346216_1/work/.vocStudentGradingReport.html\n",
      "../../asn1346216_1/work/resource/\n",
      "../../asn1346216_1/work/resource/startercode/\n",
      "tar: ../../asn1346216_1/work/resource/startercode/resource: File removed before we read it\n",
      "tar: Removing leading `../../' from hard link targets\n",
      "../../asn1346216_1/work/resource/startercode/0-basics.ipynb\n",
      "../../asn1346216_1/work/resource/startercode/.jupyter/\n",
      "../../asn1346216_1/work/resource/startercode/.jupyter/nbconfig/\n",
      "../../asn1346216_1/work/resource/startercode/.jupyter/nbconfig/notebook.json\n",
      "../../asn1346216_1/work/resource/scripts/\n",
      "../../asn1346216_1/work/resource/scripts/run.sh\n",
      "../../asn1346216_1/work/resource/scripts/build.sh\n",
      "../../asn1346216_1/work/resource/asnlib/\n",
      "../../asn1346216_1/work/resource/asnlib/publicdata/\n",
      "../../asn1346216_1/work/resource/asnlib/public/\n",
      "../../asn1346216_1/work/resource/asnlib/public/docs/\n",
      "../../asn1346216_1/work/resource/lib/\n",
      "../../asn1346216_1/work/resource/lib/publicdata/\n",
      "../../asn1346216_1/work/resource/lib/publicdata/data/\n",
      "../../asn1346216_1/work/resource/lib/public/\n",
      "../../asn1346216_1/work/0-basics.ipynb\n",
      "../../asn1346216_1/work/.ipynb_checkpoints/\n",
      "../../asn1346216_1/work/.ipynb_checkpoints/0-basics-checkpoint.ipynb\n",
      "../../asn1346216_1/work/.jupyter/\n",
      "../../asn1346216_1/work/.jupyter/nbconfig/\n",
      "../../asn1346216_1/work/.jupyter/nbconfig/notebook.json\n",
      "../../asn1346216_1/work/.jupyter/migrated\n",
      "../../asn1346216_1/work/.ipython/\n",
      "../../asn1346216_1/work/.ipython/nbextensions/\n",
      "../../asn1346216_1/work/.ipython/extensions/\n",
      "../../asn1346216_1/work/.ipython/profile_default/\n",
      "../../asn1346216_1/work/.ipython/profile_default/security/\n",
      "../../asn1346216_1/work/.ipython/profile_default/history.sqlite\n",
      "../../asn1346216_1/work/.ipython/profile_default/log/\n",
      "../../asn1346216_1/work/.ipython/profile_default/db/\n",
      "../../asn1346216_1/work/.ipython/profile_default/pid/\n",
      "../../asn1346216_1/work/.ipython/profile_default/startup/\n",
      "../../asn1346216_1/work/.ipython/profile_default/startup/README\n",
      "../../asn1346216_1/work/.local/\n",
      "../../asn1346216_1/work/.local/share/\n",
      "../../asn1346216_1/work/.local/share/jupyter/\n",
      "../../asn1346216_1/work/.local/share/jupyter/runtime/\n",
      "../../asn1346216_1/work/.local/share/jupyter/runtime/nbserver-17608.json\n",
      "../../asn1346216_1/work/.local/share/jupyter/runtime/kernel-d7f5b947-70d7-4c93-a323-3305e1c37512.json\n",
      "../../asn1346216_1/work/.local/share/jupyter/runtime/nbserver-11286.json\n",
      "../../asn1346216_1/work/.local/share/jupyter/runtime/kernel-bef55f1b-25dd-4d40-9c19-2e6d5d501e7b.json\n",
      "../../asn1346216_1/work/.local/share/jupyter/runtime/kernel-df32e6d0-acd1-40d3-82b6-d4cdf9128d86.json\n",
      "../../asn1346216_1/work/.local/share/jupyter/runtime/notebook_cookie_secret\n",
      "../../asn1346216_1/work/.local/share/jupyter/notebook_secret\n",
      "../../asn1346216_1/work/.local/share/jupyter/nbsignatures.db\n",
      "../../asn1346216_1/work/notebook.tar.gz\n",
      "../../asn1346217_2/\n",
      "../../asn1346217_2/resource/\n",
      "../../asn1346217_2/resource/startercode/\n",
      "tar: ../../asn1346217_2/resource/startercode/resource: File removed before we read it\n",
      "../../asn1346217_2/resource/startercode/.jupyter/\n",
      "../../asn1346217_2/resource/startercode/.jupyter/nbconfig/\n",
      "../../asn1346217_2/resource/startercode/1-collections.ipynb\n",
      "../../asn1346217_2/resource/scripts/\n",
      "../../asn1346217_2/resource/scripts/run.sh\n",
      "../../asn1346217_2/resource/scripts/build.sh\n",
      "../../asn1346217_2/resource/asnlib/\n",
      "../../asn1346217_2/resource/asnlib/publicdata/\n",
      "../../asn1346217_2/resource/asnlib/public/\n",
      "../../asn1346217_2/resource/asnlib/public/docs/\n",
      "../../asn1346217_2/resource/lib/\n",
      "../../asn1346217_2/resource/lib/publicdata/\n",
      "../../asn1346217_2/resource/lib/publicdata/data/\n",
      "../../asn1346217_2/resource/lib/public/\n",
      "../../asn1346217_2/work/\n",
      "../../asn1346217_2/work/.gitconfig\n",
      "../../asn1346217_2/work/.vocStudentGradingReport.html\n",
      "../../asn1346217_2/work/resource/\n",
      "../../asn1346217_2/work/resource/startercode/\n",
      "tar: ../../asn1346217_2/work/resource/startercode/resource: File removed before we read it\n",
      "../../asn1346217_2/work/resource/startercode/.jupyter/\n",
      "../../asn1346217_2/work/resource/startercode/.jupyter/nbconfig/\n",
      "../../asn1346217_2/work/resource/startercode/1-collections.ipynb\n",
      "../../asn1346217_2/work/resource/scripts/\n",
      "../../asn1346217_2/work/resource/scripts/run.sh\n",
      "../../asn1346217_2/work/resource/scripts/build.sh\n",
      "../../asn1346217_2/work/resource/asnlib/\n",
      "../../asn1346217_2/work/resource/asnlib/publicdata/\n",
      "../../asn1346217_2/work/resource/asnlib/public/\n",
      "../../asn1346217_2/work/resource/asnlib/public/docs/\n",
      "../../asn1346217_2/work/resource/lib/\n",
      "../../asn1346217_2/work/resource/lib/publicdata/\n",
      "../../asn1346217_2/work/resource/lib/publicdata/data/\n",
      "../../asn1346217_2/work/resource/lib/public/\n",
      "../../asn1346217_2/work/.ipynb_checkpoints/\n",
      "../../asn1346217_2/work/.ipynb_checkpoints/1-collections-checkpoint.ipynb\n",
      "../../asn1346217_2/work/.jupyter/\n",
      "../../asn1346217_2/work/.jupyter/nbconfig/\n",
      "../../asn1346217_2/work/.jupyter/migrated\n",
      "../../asn1346217_2/work/.ipython/\n",
      "../../asn1346217_2/work/.ipython/nbextensions/\n",
      "../../asn1346217_2/work/.ipython/extensions/\n",
      "../../asn1346217_2/work/.ipython/profile_default/\n",
      "../../asn1346217_2/work/.ipython/profile_default/security/\n",
      "../../asn1346217_2/work/.ipython/profile_default/history.sqlite\n",
      "../../asn1346217_2/work/.ipython/profile_default/log/\n",
      "../../asn1346217_2/work/.ipython/profile_default/db/\n",
      "../../asn1346217_2/work/.ipython/profile_default/pid/\n",
      "../../asn1346217_2/work/.ipython/profile_default/startup/\n",
      "../../asn1346217_2/work/.ipython/profile_default/startup/README\n",
      "../../asn1346217_2/work/.local/\n",
      "../../asn1346217_2/work/.local/share/\n",
      "../../asn1346217_2/work/.local/share/jupyter/\n",
      "../../asn1346217_2/work/.local/share/jupyter/runtime/\n",
      "../../asn1346217_2/work/.local/share/jupyter/runtime/notebook_cookie_secret\n",
      "../../asn1346217_2/work/.local/share/jupyter/notebook_secret\n",
      "../../asn1346217_2/work/.local/share/jupyter/nbsignatures.db\n",
      "../../asn1346217_2/work/1-collections.ipynb\n",
      "../../asn1346218_3/\n",
      "../../asn1346218_3/resource/\n",
      "../../asn1346218_3/resource/startercode/\n",
      "tar: ../../asn1346218_3/resource/startercode/resource: File removed before we read it\n",
      "../../asn1346218_3/resource/startercode/2-more_exercises.ipynb\n",
      "../../asn1346218_3/resource/startercode/nb_1_2_tester.py\n",
      "../../asn1346218_3/resource/startercode/tester_6040.py\n",
      "../../asn1346218_3/resource/scripts/\n",
      "../../asn1346218_3/resource/scripts/run.sh\n",
      "../../asn1346218_3/resource/scripts/build.sh\n",
      "../../asn1346218_3/resource/asnlib/\n",
      "../../asn1346218_3/resource/asnlib/publicdata/\n",
      "../../asn1346218_3/resource/asnlib/publicdata/test_cases.pkl\n",
      "../../asn1346218_3/resource/asnlib/public/\n",
      "../../asn1346218_3/resource/asnlib/public/docs/\n",
      "../../asn1346218_3/resource/lib/\n",
      "../../asn1346218_3/resource/lib/publicdata/\n",
      "../../asn1346218_3/resource/lib/publicdata/data/\n",
      "../../asn1346218_3/resource/lib/public/\n",
      "../../asn1346218_3/work/\n",
      "../../asn1346218_3/work/.gitconfig\n",
      "../../asn1346218_3/work/resource/\n",
      "../../asn1346218_3/work/resource/startercode/\n",
      "tar: ../../asn1346218_3/work/resource/startercode/resource: File removed before we read it\n",
      "../../asn1346218_3/work/resource/startercode/2-more_exercises.ipynb\n",
      "../../asn1346218_3/work/resource/startercode/nb_1_2_tester.py\n",
      "../../asn1346218_3/work/resource/startercode/tester_6040.py\n",
      "../../asn1346218_3/work/resource/scripts/\n",
      "../../asn1346218_3/work/resource/scripts/run.sh\n",
      "../../asn1346218_3/work/resource/scripts/build.sh\n",
      "../../asn1346218_3/work/resource/asnlib/\n",
      "../../asn1346218_3/work/resource/asnlib/publicdata/\n",
      "../../asn1346218_3/work/resource/asnlib/publicdata/test_cases.pkl\n",
      "../../asn1346218_3/work/resource/asnlib/public/\n",
      "../../asn1346218_3/work/resource/asnlib/public/docs/\n",
      "../../asn1346218_3/work/resource/lib/\n",
      "../../asn1346218_3/work/resource/lib/publicdata/\n",
      "../../asn1346218_3/work/resource/lib/publicdata/data/\n",
      "../../asn1346218_3/work/resource/lib/public/\n",
      "../../asn1346218_3/work/2-more_exercises.ipynb\n"
     ]
    },
    {
     "name": "stdout",
     "output_type": "stream",
     "text": [
      "../../asn1346218_3/work/.cache/\n",
      "../../asn1346218_3/work/.cache/jedi/\n",
      "../../asn1346218_3/work/.cache/jedi/CPython-38-33/\n",
      "../../asn1346218_3/work/.cache/jedi/CPython-38-33/a06ac99c842521c63a8cea104b5c09c34f67250c3606da8204d9386f72ce9832-6a356f9c7a4d801248d18e0bbe70a7e2e60d49717639c1e5ed6dd670bc017030.pkl\n",
      "../../asn1346218_3/work/.cache/jedi/CPython-38-33/593d51111df2a7984c5d14ec09b1fb4e1c5fa86889ca077d5efe8caf989e2ebc-aee1e69655b116d9e919b63b52273e974a59fcfd6dc817955fff0fbc6729c52e.pkl\n",
      "../../asn1346218_3/work/.cache/jedi/CPython-38-33/593d51111df2a7984c5d14ec09b1fb4e1c5fa86889ca077d5efe8caf989e2ebc-5419fa44ab51310e2e7713797e4e429ba6cbc28a69181625d0d91aae8a4b2a32.pkl\n",
      "../../asn1346218_3/work/.cache/jedi/CPython-38-33/593d51111df2a7984c5d14ec09b1fb4e1c5fa86889ca077d5efe8caf989e2ebc-0eb2a2b3689c0558983aac9fbd32c97397ad53072b1ac02a685dc43deea00d3b.pkl\n",
      "../../asn1346218_3/work/.ipynb_checkpoints/\n",
      "../../asn1346218_3/work/.ipynb_checkpoints/2-more_exercises-checkpoint.ipynb\n",
      "../../asn1346218_3/work/nb_1_2_tester.py\n",
      "../../asn1346218_3/work/.jupyter/\n",
      "../../asn1346218_3/work/.jupyter/migrated\n",
      "../../asn1346218_3/work/.ipython/\n",
      "../../asn1346218_3/work/.ipython/nbextensions/\n",
      "../../asn1346218_3/work/.ipython/extensions/\n",
      "../../asn1346218_3/work/.ipython/profile_default/\n",
      "../../asn1346218_3/work/.ipython/profile_default/security/\n",
      "../../asn1346218_3/work/.ipython/profile_default/history.sqlite\n",
      "../../asn1346218_3/work/.ipython/profile_default/log/\n",
      "../../asn1346218_3/work/.ipython/profile_default/db/\n",
      "../../asn1346218_3/work/.ipython/profile_default/pid/\n",
      "../../asn1346218_3/work/.ipython/profile_default/startup/\n",
      "../../asn1346218_3/work/.ipython/profile_default/startup/README\n",
      "../../asn1346218_3/work/__pycache__/\n",
      "../../asn1346218_3/work/__pycache__/nb_1_2_tester.cpython-38.pyc\n",
      "../../asn1346218_3/work/__pycache__/tester_6040.cpython-38.pyc\n",
      "../../asn1346218_3/work/.local/\n",
      "../../asn1346218_3/work/.local/share/\n",
      "../../asn1346218_3/work/.local/share/jupyter/\n",
      "../../asn1346218_3/work/.local/share/jupyter/runtime/\n",
      "../../asn1346218_3/work/.local/share/jupyter/runtime/notebook_cookie_secret\n",
      "../../asn1346218_3/work/.local/share/jupyter/notebook_secret\n",
      "../../asn1346218_3/work/.local/share/jupyter/nbsignatures.db\n",
      "../../asn1346218_3/work/tester_6040.py\n"
     ]
    }
   ],
   "source": [
    "!tar --exclude='*/.voc' --exclude='*/.voc.work' -chvzf notebook.tar.gz ../../*"
   ]
  }
 ],
 "metadata": {
  "celltoolbar": "Create Assignment",
  "kernelspec": {
   "display_name": "Python 3",
   "language": "python",
   "name": "python3"
  },
  "language_info": {
   "codemirror_mode": {
    "name": "ipython",
    "version": 3
   },
   "file_extension": ".py",
   "mimetype": "text/x-python",
   "name": "python",
   "nbconvert_exporter": "python",
   "pygments_lexer": "ipython3",
   "version": "3.10.6"
  },
  "toc": {
   "base_numbering": 1,
   "nav_menu": {},
   "number_sections": true,
   "sideBar": true,
   "skip_h1_title": false,
   "title_cell": "Table of Contents",
   "title_sidebar": "Contents",
   "toc_cell": false,
   "toc_position": {},
   "toc_section_display": true,
   "toc_window_display": false
  }
 },
 "nbformat": 4,
 "nbformat_minor": 2
}
