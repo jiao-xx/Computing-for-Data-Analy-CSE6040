{
 "cells": [
  {
   "cell_type": "markdown",
   "metadata": {
    "collapsed": true
   },
   "source": [
    "# Problem 0\n",
    "\n",
    "**Fast searching in ordered collections.** This problem consists of just a single exercise, worth ten (10) points. It is about an elementary principle of computer science algorithm design, which is that one can often do things faster if one exploits structure in the input data."
   ]
  },
  {
   "cell_type": "markdown",
   "metadata": {},
   "source": [
    "Suppose you are given a list of **already sorted** numbers."
   ]
  },
  {
   "cell_type": "code",
   "execution_count": 1,
   "metadata": {
    "collapsed": true
   },
   "outputs": [],
   "source": [
    "A = [2, 16, 26, 32, 52, 71, 80, 88]\n",
    "\n",
    "# These are already sorted:\n",
    "assert A == sorted(A)"
   ]
  },
  {
   "cell_type": "markdown",
   "metadata": {},
   "source": [
    "Suppose you now want to know whether a certain value exists in this list. A simple way to do that in Python is as follows."
   ]
  },
  {
   "cell_type": "code",
   "execution_count": 2,
   "metadata": {},
   "outputs": [
    {
     "name": "stdout",
     "output_type": "stream",
     "text": [
      "A contains 32: True\n",
      "A contains 7: False\n",
      "A contains -10: False\n"
     ]
    }
   ],
   "source": [
    "def contains(A, x):\n",
    "    \"\"\"Returns True only if the value `x` exists in `A`.\"\"\"\n",
    "    return x in A\n",
    "\n",
    "print(\"A contains 32: {}\".format(contains(A, 32)))\n",
    "print(\"A contains 7: {}\".format(contains(A, 7)))\n",
    "print(\"A contains -10: {}\".format(contains(A, -10)))"
   ]
  },
  {
   "cell_type": "markdown",
   "metadata": {},
   "source": [
    "This method works fine and is reasonably fast on small lists. However, if the list is very large, this method can be wasteful, computationally speaking.\n",
    "\n",
    "That's because it does **not** take advantage of the fact that `A` is already ordered. In such a case, it should be faster to determine whether the element exists. (How?)"
   ]
  },
  {
   "cell_type": "markdown",
   "metadata": {},
   "source": [
    "**Exercise 0** (3 + 7 == 10 points). Write a function, `ordered_contains(S, x)`, that takes an **already sorted** list, `S`, as input, and determines whether it contains `x`. But there is one more condition: your method **must** be **at least ten times faster** than `contains()` for \"large\" lists!\n",
    "\n",
    "In particular, there are two test codes for this exercise. The first one checks that your procedure does, indeed, return the correct result by comparing its output to `contains()`, which we will assume is correct. Correctness is worth three (3) points of partial credit out of ten (10). The second test cell checks whether your implementation is faster than `contains()` for a relatively large, but ordered, list. If your implementation is slower for smaller lists, that is okay!\n",
    "\n",
    "> **Hint.** If you can find a standard Python library routine to help you, by all means, use it! However, a good challenge for you is to write a version that does not require such a routine."
   ]
  },
  {
   "cell_type": "code",
   "execution_count": 3,
   "metadata": {},
   "outputs": [
    {
     "ename": "IndentationError",
     "evalue": "expected an indented block (<ipython-input-3-8c39228b18fb>, line 7)",
     "output_type": "error",
     "traceback": [
      "\u001b[0;36m  File \u001b[0;32m\"<ipython-input-3-8c39228b18fb>\"\u001b[0;36m, line \u001b[0;32m7\u001b[0m\n\u001b[0;31m    print(\"A contains 32: {}\".format(ordered_contains(A, 32)))\u001b[0m\n\u001b[0m    ^\u001b[0m\n\u001b[0;31mIndentationError\u001b[0m\u001b[0;31m:\u001b[0m expected an indented block\n"
     ]
    }
   ],
   "source": [
    "def ordered_contains(S, x):\n",
    "    # You may assume that `S` is sorted\n",
    "###\n",
    "### YOUR CODE HERE\n",
    "###\n",
    "    \n",
    "print(\"A contains 32: {}\".format(ordered_contains(A, 32)))\n",
    "print(\"A contains 7: {}\".format(ordered_contains(A, 7)))\n",
    "print(\"A contains -10: {}\".format(ordered_contains(A, -10)))\n",
    "print(\"\\n(Did those results match the earlier example?)\")"
   ]
  },
  {
   "cell_type": "code",
   "execution_count": 4,
   "metadata": {
    "deletable": false,
    "editable": false,
    "nbgrader": {
     "grade": true,
     "grade_id": "test_is_correct",
     "locked": true,
     "points": "3",
     "solution": false
    }
   },
   "outputs": [
    {
     "name": "stdout",
     "output_type": "stream",
     "text": [
      "Checking your code on this input: S = [0, 13, 16, 25, 31, 37, 39, 45, 60, 69, 74, 84, 94]\n"
     ]
    },
    {
     "ename": "NameError",
     "evalue": "name 'ordered_contains' is not defined",
     "output_type": "error",
     "traceback": [
      "\u001b[0;31m---------------------------------------------------------------------------\u001b[0m",
      "\u001b[0;31mNameError\u001b[0m                                 Traceback (most recent call last)",
      "\u001b[0;32m<ipython-input-4-dcc0b8e582e1>\u001b[0m in \u001b[0;36m<module>\u001b[0;34m\u001b[0m\n\u001b[1;32m     18\u001b[0m \u001b[0mprint\u001b[0m\u001b[0;34m(\u001b[0m\u001b[0;34m\"Checking your code on this input: S = {}\"\u001b[0m\u001b[0;34m.\u001b[0m\u001b[0mformat\u001b[0m\u001b[0;34m(\u001b[0m\u001b[0mS\u001b[0m\u001b[0;34m)\u001b[0m\u001b[0;34m)\u001b[0m\u001b[0;34m\u001b[0m\u001b[0;34m\u001b[0m\u001b[0m\n\u001b[1;32m     19\u001b[0m \u001b[0;34m\u001b[0m\u001b[0m\n\u001b[0;32m---> 20\u001b[0;31m \u001b[0mcheck_case\u001b[0m\u001b[0;34m(\u001b[0m\u001b[0mS\u001b[0m\u001b[0;34m,\u001b[0m \u001b[0mS\u001b[0m\u001b[0;34m[\u001b[0m\u001b[0;36m0\u001b[0m\u001b[0;34m]\u001b[0m\u001b[0;34m)\u001b[0m\u001b[0;34m\u001b[0m\u001b[0;34m\u001b[0m\u001b[0m\n\u001b[0m\u001b[1;32m     21\u001b[0m \u001b[0mcheck_case\u001b[0m\u001b[0;34m(\u001b[0m\u001b[0mS\u001b[0m\u001b[0;34m,\u001b[0m \u001b[0mS\u001b[0m\u001b[0;34m[\u001b[0m\u001b[0;36m0\u001b[0m\u001b[0;34m]\u001b[0m\u001b[0;34m-\u001b[0m\u001b[0;36m1\u001b[0m\u001b[0;34m)\u001b[0m\u001b[0;34m\u001b[0m\u001b[0;34m\u001b[0m\u001b[0m\n\u001b[1;32m     22\u001b[0m \u001b[0mcheck_case\u001b[0m\u001b[0;34m(\u001b[0m\u001b[0mS\u001b[0m\u001b[0;34m,\u001b[0m \u001b[0mS\u001b[0m\u001b[0;34m[\u001b[0m\u001b[0;34m-\u001b[0m\u001b[0;36m1\u001b[0m\u001b[0;34m]\u001b[0m\u001b[0;34m)\u001b[0m\u001b[0;34m\u001b[0m\u001b[0;34m\u001b[0m\u001b[0m\n",
      "\u001b[0;32m<ipython-input-4-dcc0b8e582e1>\u001b[0m in \u001b[0;36mcheck_case\u001b[0;34m(S, x)\u001b[0m\n\u001b[1;32m     12\u001b[0m     \u001b[0mmsg\u001b[0m \u001b[0;34m=\u001b[0m \u001b[0;34m\"`contains(S, {}) == {}` while `ordered_contains(S, {}) == {}`!\"\u001b[0m\u001b[0;34m\u001b[0m\u001b[0;34m\u001b[0m\u001b[0m\n\u001b[1;32m     13\u001b[0m     \u001b[0mtrue_solution\u001b[0m \u001b[0;34m=\u001b[0m \u001b[0mcontains\u001b[0m\u001b[0;34m(\u001b[0m\u001b[0mS\u001b[0m\u001b[0;34m,\u001b[0m \u001b[0mx\u001b[0m\u001b[0;34m)\u001b[0m\u001b[0;34m\u001b[0m\u001b[0;34m\u001b[0m\u001b[0m\n\u001b[0;32m---> 14\u001b[0;31m     \u001b[0myour_solution\u001b[0m \u001b[0;34m=\u001b[0m \u001b[0mordered_contains\u001b[0m\u001b[0;34m(\u001b[0m\u001b[0mS\u001b[0m\u001b[0;34m,\u001b[0m \u001b[0mx\u001b[0m\u001b[0;34m)\u001b[0m\u001b[0;34m\u001b[0m\u001b[0;34m\u001b[0m\u001b[0m\n\u001b[0m\u001b[1;32m     15\u001b[0m     \u001b[0;32massert\u001b[0m \u001b[0myour_solution\u001b[0m \u001b[0;34m==\u001b[0m \u001b[0mtrue_solution\u001b[0m\u001b[0;34m,\u001b[0m \u001b[0mmsg\u001b[0m\u001b[0;34m.\u001b[0m\u001b[0mformat\u001b[0m\u001b[0;34m(\u001b[0m\u001b[0mtrue_solution\u001b[0m\u001b[0;34m,\u001b[0m \u001b[0myour_solution\u001b[0m\u001b[0;34m)\u001b[0m\u001b[0;34m\u001b[0m\u001b[0;34m\u001b[0m\u001b[0m\n\u001b[1;32m     16\u001b[0m \u001b[0;34m\u001b[0m\u001b[0m\n",
      "\u001b[0;31mNameError\u001b[0m: name 'ordered_contains' is not defined"
     ]
    }
   ],
   "source": [
    "# Test cell: `test_is_correct` (1 point)\n",
    "\n",
    "from random import randint, sample\n",
    "\n",
    "def gen_list(n, v_max, v_min=0):\n",
    "    return sample(range(v_min, v_max), n)\n",
    "\n",
    "def gen_sorted_list(n, v_max, v_min=0):\n",
    "    return sorted(gen_list(n, v_max, v_min))\n",
    "\n",
    "def check_case(S, x):\n",
    "    msg = \"`contains(S, {}) == {}` while `ordered_contains(S, {}) == {}`!\"\n",
    "    true_solution = contains(S, x)\n",
    "    your_solution = ordered_contains(S, x)\n",
    "    assert your_solution == true_solution, msg.format(true_solution, your_solution)\n",
    "\n",
    "S = gen_sorted_list(13, 100)\n",
    "print(\"Checking your code on this input: S = {}\".format(S))\n",
    "\n",
    "check_case(S, S[0])\n",
    "check_case(S, S[0]-1)\n",
    "check_case(S, S[-1])\n",
    "check_case(S, S[-1]+1)\n",
    "\n",
    "for x in gen_list(50, 100, -100):\n",
    "    check_case(S, x)\n",
    "print(\"\\n(Passed basic correctness checks.)\")\n",
    "\n",
    "print(\"\\nTiming `contains()`...\")\n",
    "x = randint(-100, 100)\n",
    "%timeit contains(S, x)\n",
    "\n",
    "print(\"\\nTiming `ordered_contains()`...\")\n",
    "%timeit ordered_contains(S, x)\n",
    "\n",
    "print(\"\\n(This problem is small, so it's okay if your method is slower.)\")\n",
    "print(\"\\n(Passed!)\")"
   ]
  },
  {
   "cell_type": "code",
   "execution_count": 5,
   "metadata": {
    "deletable": false,
    "editable": false,
    "nbgrader": {
     "grade": true,
     "grade_id": "test_is_faster",
     "locked": true,
     "points": "7",
     "solution": false
    }
   },
   "outputs": [
    {
     "name": "stdout",
     "output_type": "stream",
     "text": [
      "Generating a list of size n=1,028,783...\n",
      "Quick correctness check...\n"
     ]
    },
    {
     "ename": "NameError",
     "evalue": "name 'ordered_contains' is not defined",
     "output_type": "error",
     "traceback": [
      "\u001b[0;31m---------------------------------------------------------------------------\u001b[0m",
      "\u001b[0;31mNameError\u001b[0m                                 Traceback (most recent call last)",
      "\u001b[0;32m<ipython-input-5-2fa29e94d02f>\u001b[0m in \u001b[0;36m<module>\u001b[0;34m\u001b[0m\n\u001b[1;32m     12\u001b[0m \u001b[0mprint\u001b[0m\u001b[0;34m(\u001b[0m\u001b[0;34m\"Quick correctness check...\"\u001b[0m\u001b[0;34m)\u001b[0m\u001b[0;34m\u001b[0m\u001b[0;34m\u001b[0m\u001b[0m\n\u001b[1;32m     13\u001b[0m \u001b[0mx\u001b[0m \u001b[0;34m=\u001b[0m \u001b[0mrandint\u001b[0m\u001b[0;34m(\u001b[0m\u001b[0;34m-\u001b[0m\u001b[0mR_MAX\u001b[0m\u001b[0;34m,\u001b[0m \u001b[0mR_MAX\u001b[0m\u001b[0;34m)\u001b[0m\u001b[0;34m\u001b[0m\u001b[0;34m\u001b[0m\u001b[0m\n\u001b[0;32m---> 14\u001b[0;31m \u001b[0mcheck_case\u001b[0m\u001b[0;34m(\u001b[0m\u001b[0mS_large\u001b[0m\u001b[0;34m,\u001b[0m \u001b[0mx\u001b[0m\u001b[0;34m)\u001b[0m\u001b[0;34m\u001b[0m\u001b[0;34m\u001b[0m\u001b[0m\n\u001b[0m\u001b[1;32m     15\u001b[0m \u001b[0mprint\u001b[0m\u001b[0;34m(\u001b[0m\u001b[0;34m\"\\n(Passed.)\"\u001b[0m\u001b[0;34m)\u001b[0m\u001b[0;34m\u001b[0m\u001b[0;34m\u001b[0m\u001b[0m\n\u001b[1;32m     16\u001b[0m \u001b[0;34m\u001b[0m\u001b[0m\n",
      "\u001b[0;32m<ipython-input-4-dcc0b8e582e1>\u001b[0m in \u001b[0;36mcheck_case\u001b[0;34m(S, x)\u001b[0m\n\u001b[1;32m     12\u001b[0m     \u001b[0mmsg\u001b[0m \u001b[0;34m=\u001b[0m \u001b[0;34m\"`contains(S, {}) == {}` while `ordered_contains(S, {}) == {}`!\"\u001b[0m\u001b[0;34m\u001b[0m\u001b[0;34m\u001b[0m\u001b[0m\n\u001b[1;32m     13\u001b[0m     \u001b[0mtrue_solution\u001b[0m \u001b[0;34m=\u001b[0m \u001b[0mcontains\u001b[0m\u001b[0;34m(\u001b[0m\u001b[0mS\u001b[0m\u001b[0;34m,\u001b[0m \u001b[0mx\u001b[0m\u001b[0;34m)\u001b[0m\u001b[0;34m\u001b[0m\u001b[0;34m\u001b[0m\u001b[0m\n\u001b[0;32m---> 14\u001b[0;31m     \u001b[0myour_solution\u001b[0m \u001b[0;34m=\u001b[0m \u001b[0mordered_contains\u001b[0m\u001b[0;34m(\u001b[0m\u001b[0mS\u001b[0m\u001b[0;34m,\u001b[0m \u001b[0mx\u001b[0m\u001b[0;34m)\u001b[0m\u001b[0;34m\u001b[0m\u001b[0;34m\u001b[0m\u001b[0m\n\u001b[0m\u001b[1;32m     15\u001b[0m     \u001b[0;32massert\u001b[0m \u001b[0myour_solution\u001b[0m \u001b[0;34m==\u001b[0m \u001b[0mtrue_solution\u001b[0m\u001b[0;34m,\u001b[0m \u001b[0mmsg\u001b[0m\u001b[0;34m.\u001b[0m\u001b[0mformat\u001b[0m\u001b[0;34m(\u001b[0m\u001b[0mtrue_solution\u001b[0m\u001b[0;34m,\u001b[0m \u001b[0myour_solution\u001b[0m\u001b[0;34m)\u001b[0m\u001b[0;34m\u001b[0m\u001b[0;34m\u001b[0m\u001b[0m\n\u001b[1;32m     16\u001b[0m \u001b[0;34m\u001b[0m\u001b[0m\n",
      "\u001b[0;31mNameError\u001b[0m: name 'ordered_contains' is not defined"
     ]
    }
   ],
   "source": [
    "# Test cell: `test_is_faster` (7 points)\n",
    "\n",
    "N_MIN = 1000000\n",
    "N_MAX = 2*N_MIN\n",
    "R_MAX = max(10*N_MAX, 1000000000)\n",
    "\n",
    "n = randint(N_MIN, N_MAX)\n",
    "print(f\"Generating a list of size n={n:,}...\")\n",
    "\n",
    "S_large = gen_sorted_list(n, R_MAX)\n",
    "\n",
    "print(\"Quick correctness check...\")\n",
    "x = randint(-R_MAX, R_MAX)\n",
    "check_case(S_large, x)\n",
    "print(\"\\n(Passed.)\")\n",
    "\n",
    "print(\"\\nTiming `contains()`...\")\n",
    "t_baseline = %timeit -o contains(S_large, x)\n",
    "print(\"\\nTiming `ordered_contains()`...\")\n",
    "t_better = %timeit -o ordered_contains(S_large, x)\n",
    "\n",
    "speedup = t_baseline.average / t_better.average\n",
    "assert speedup >= 10, \"Your method was only {:.2f}x faster (< 1 means it was slower)!\".format(speedup)\n",
    "\n",
    "print(\"\\n(Passed -- you were {:.1f}x faster!)\".format(speedup))"
   ]
  },
  {
   "cell_type": "markdown",
   "metadata": {},
   "source": [
    "**Fin!** You've reached the end of this problem. Don't forget to restart the kernel and run the entire notebook from top-to-bottom to make sure you did everything correctly. If that is working, try submitting this problem. (Recall that you *must* submit and pass the autograder to get credit for your work!)"
   ]
  },
  {
   "cell_type": "code",
   "execution_count": 6,
   "metadata": {},
   "outputs": [
    {
     "name": "stdout",
     "output_type": "stream",
     "text": [
      "tar: Removing leading `../../' from member names\n",
      "../../asn1346220_1/\n",
      "../../asn1346220_1/resource/\n",
      "../../asn1346220_1/resource/startercode/\n",
      "tar: ../../asn1346220_1/resource/startercode/resource: File removed before we read it\n",
      "../../asn1346220_1/resource/startercode/main.ipynb\n",
      "../../asn1346220_1/resource/scripts/\n",
      "../../asn1346220_1/resource/scripts/run.sh\n",
      "../../asn1346220_1/resource/scripts/build.sh\n",
      "../../asn1346220_1/resource/asnlib/\n",
      "../../asn1346220_1/resource/asnlib/publicdata/\n",
      "../../asn1346220_1/resource/asnlib/public/\n",
      "../../asn1346220_1/resource/asnlib/public/docs/\n",
      "../../asn1346220_1/resource/lib/\n",
      "../../asn1346220_1/resource/lib/publicdata/\n",
      "../../asn1346220_1/resource/lib/publicdata/data/\n",
      "../../asn1346220_1/resource/lib/public/\n",
      "../../asn1346220_1/work/\n",
      "../../asn1346220_1/work/.gitconfig\n",
      "../../asn1346220_1/work/resource/\n",
      "../../asn1346220_1/work/resource/startercode/\n",
      "tar: ../../asn1346220_1/work/resource/startercode/resource: File removed before we read it\n",
      "tar: Removing leading `../../' from hard link targets\n",
      "../../asn1346220_1/work/resource/startercode/main.ipynb\n",
      "../../asn1346220_1/work/resource/scripts/\n",
      "../../asn1346220_1/work/resource/scripts/run.sh\n",
      "../../asn1346220_1/work/resource/scripts/build.sh\n",
      "../../asn1346220_1/work/resource/asnlib/\n",
      "../../asn1346220_1/work/resource/asnlib/publicdata/\n",
      "../../asn1346220_1/work/resource/asnlib/public/\n",
      "../../asn1346220_1/work/resource/asnlib/public/docs/\n",
      "../../asn1346220_1/work/resource/lib/\n",
      "../../asn1346220_1/work/resource/lib/publicdata/\n",
      "../../asn1346220_1/work/resource/lib/publicdata/data/\n",
      "../../asn1346220_1/work/resource/lib/public/\n",
      "../../asn1346220_1/work/.ipynb_checkpoints/\n",
      "../../asn1346220_1/work/.ipynb_checkpoints/main-checkpoint.ipynb\n",
      "../../asn1346220_1/work/.jupyter/\n",
      "../../asn1346220_1/work/.jupyter/migrated\n",
      "../../asn1346220_1/work/.ipython/\n",
      "../../asn1346220_1/work/.ipython/nbextensions/\n",
      "../../asn1346220_1/work/.ipython/extensions/\n",
      "../../asn1346220_1/work/.ipython/profile_default/\n",
      "../../asn1346220_1/work/.ipython/profile_default/security/\n",
      "../../asn1346220_1/work/.ipython/profile_default/history.sqlite\n",
      "../../asn1346220_1/work/.ipython/profile_default/log/\n",
      "../../asn1346220_1/work/.ipython/profile_default/db/\n",
      "../../asn1346220_1/work/.ipython/profile_default/pid/\n",
      "../../asn1346220_1/work/.ipython/profile_default/startup/\n",
      "../../asn1346220_1/work/.ipython/profile_default/startup/README\n",
      "../../asn1346220_1/work/.local/\n",
      "../../asn1346220_1/work/.local/share/\n",
      "../../asn1346220_1/work/.local/share/jupyter/\n",
      "../../asn1346220_1/work/.local/share/jupyter/runtime/\n",
      "../../asn1346220_1/work/.local/share/jupyter/runtime/nbserver-6802.json\n",
      "../../asn1346220_1/work/.local/share/jupyter/runtime/nbserver-13278.json\n",
      "../../asn1346220_1/work/.local/share/jupyter/runtime/kernel-11620063-f80a-4a12-a149-38a7882cfb88.json\n",
      "../../asn1346220_1/work/.local/share/jupyter/runtime/notebook_cookie_secret\n",
      "../../asn1346220_1/work/.local/share/jupyter/runtime/kernel-bb43b63d-bf24-4ba9-bad8-be5d60481326.json\n",
      "../../asn1346220_1/work/.local/share/jupyter/notebook_secret\n",
      "../../asn1346220_1/work/.local/share/jupyter/nbsignatures.db\n",
      "../../asn1346220_1/work/notebook.tar.gz\n",
      "../../asn1346220_1/work/main.ipynb\n",
      "../../asn1346221_2/\n",
      "../../asn1346221_2/resource/\n",
      "../../asn1346221_2/resource/startercode/\n",
      "tar: ../../asn1346221_2/resource/startercode/resource: File removed before we read it\n",
      "../../asn1346221_2/resource/startercode/main.ipynb\n",
      "../../asn1346221_2/resource/scripts/\n",
      "../../asn1346221_2/resource/scripts/run.sh\n",
      "../../asn1346221_2/resource/scripts/build.sh\n",
      "../../asn1346221_2/resource/asnlib/\n",
      "../../asn1346221_2/resource/asnlib/publicdata/\n",
      "../../asn1346221_2/resource/asnlib/public/\n",
      "../../asn1346221_2/resource/asnlib/public/docs/\n",
      "../../asn1346221_2/resource/lib/\n",
      "../../asn1346221_2/resource/lib/publicdata/\n",
      "../../asn1346221_2/resource/lib/publicdata/data/\n",
      "../../asn1346221_2/resource/lib/public/\n",
      "../../asn1346221_2/work/\n",
      "../../asn1346221_2/work/.gitconfig\n",
      "../../asn1346221_2/work/resource/\n",
      "../../asn1346221_2/work/resource/startercode/\n",
      "tar: ../../asn1346221_2/work/resource/startercode/resource: File removed before we read it\n",
      "../../asn1346221_2/work/resource/startercode/main.ipynb\n",
      "../../asn1346221_2/work/resource/scripts/\n",
      "../../asn1346221_2/work/resource/scripts/run.sh\n",
      "../../asn1346221_2/work/resource/scripts/build.sh\n",
      "../../asn1346221_2/work/resource/asnlib/\n",
      "../../asn1346221_2/work/resource/asnlib/publicdata/\n",
      "../../asn1346221_2/work/resource/asnlib/public/\n",
      "../../asn1346221_2/work/resource/asnlib/public/docs/\n",
      "../../asn1346221_2/work/resource/lib/\n",
      "../../asn1346221_2/work/resource/lib/publicdata/\n",
      "../../asn1346221_2/work/resource/lib/publicdata/data/\n",
      "../../asn1346221_2/work/resource/lib/public/\n",
      "../../asn1346221_2/work/.ipynb_checkpoints/\n",
      "../../asn1346221_2/work/.jupyter/\n",
      "../../asn1346221_2/work/.jupyter/migrated\n",
      "../../asn1346221_2/work/.ipython/\n",
      "../../asn1346221_2/work/.ipython/nbextensions/\n",
      "../../asn1346221_2/work/.ipython/extensions/\n",
      "../../asn1346221_2/work/.ipython/profile_default/\n",
      "../../asn1346221_2/work/.ipython/profile_default/security/\n",
      "../../asn1346221_2/work/.ipython/profile_default/history.sqlite\n",
      "../../asn1346221_2/work/.ipython/profile_default/log/\n",
      "../../asn1346221_2/work/.ipython/profile_default/db/\n",
      "../../asn1346221_2/work/.ipython/profile_default/pid/\n",
      "../../asn1346221_2/work/.ipython/profile_default/startup/\n",
      "../../asn1346221_2/work/.ipython/profile_default/startup/README\n",
      "../../asn1346221_2/work/.local/\n",
      "../../asn1346221_2/work/.local/share/\n",
      "../../asn1346221_2/work/.local/share/jupyter/\n",
      "../../asn1346221_2/work/.local/share/jupyter/runtime/\n",
      "../../asn1346221_2/work/.local/share/jupyter/runtime/notebook_cookie_secret\n",
      "../../asn1346221_2/work/.local/share/jupyter/notebook_secret\n",
      "../../asn1346221_2/work/.local/share/jupyter/nbsignatures.db\n",
      "../../asn1346221_2/work/main.ipynb\n"
     ]
    }
   ],
   "source": [
    "!tar --exclude='*/.voc' --exclude='*/.voc.work' -chvzf notebook.tar.gz ../../*"
   ]
  },
  {
   "cell_type": "code",
   "execution_count": null,
   "metadata": {
    "collapsed": true
   },
   "outputs": [],
   "source": []
  }
 ],
 "metadata": {
  "kernelspec": {
   "display_name": "Python 3.8",
   "language": "python",
   "name": "python38"
  },
  "language_info": {
   "codemirror_mode": {
    "name": "ipython",
    "version": 3
   },
   "file_extension": ".py",
   "mimetype": "text/x-python",
   "name": "python",
   "nbconvert_exporter": "python",
   "pygments_lexer": "ipython3",
   "version": "3.8.7"
  }
 },
 "nbformat": 4,
 "nbformat_minor": 2
}
