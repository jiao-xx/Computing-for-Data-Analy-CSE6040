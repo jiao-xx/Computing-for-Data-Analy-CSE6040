{
 "cells": [
  {
   "cell_type": "markdown",
   "metadata": {
    "deletable": false,
    "editable": false,
    "nbgrader": {
     "grade": false,
     "grade_id": "cell-c075516d369362c8",
     "locked": true,
     "schema_version": 1,
     "solution": false
    }
   },
   "source": [
    "## Part 1: Tools to process HTML\n",
    "\n",
    "In Part 0, you downloaded real web pages and manipulated them using \"conventional\" string processing tools, like [`str`]() functions or [regular expressions]().\n",
    "\n",
    "However, web pages are stored in HTML ([hypertext markup language]()), which is a structured format. As such, it makes sense to use specialized tools to understand and process its structure. That's the subject of this notebook."
   ]
  },
  {
   "cell_type": "markdown",
   "metadata": {
    "deletable": false,
    "editable": false,
    "nbgrader": {
     "grade": false,
     "grade_id": "cell-43e7e5ddf6ea837d",
     "locked": true,
     "schema_version": 1,
     "solution": false
    }
   },
   "source": [
    "## Parsing HTML: The Beautiful Soup module\n",
    "\n",
    "One such package to help process HTML is [Beautiful Soup](https://www.crummy.com/software/BeautifulSoup/). The following is a quick tutorial on how to use it.\n",
    "\n",
    "Any HTML document may be modeled as an object in computer science known as a [tree](https://en.wikipedia.org/wiki/Tree_(data_structure)):\n",
    "\n",
    "![HTML as a tree](./html-slide.png)\n",
    "\n",
    "There are different ways to define trees, but for our purposes, the following will be sufficient."
   ]
  },
  {
   "cell_type": "markdown",
   "metadata": {
    "deletable": false,
    "editable": false,
    "nbgrader": {
     "grade": false,
     "grade_id": "cell-c52d068f57ed8895",
     "locked": true,
     "schema_version": 1,
     "solution": false
    }
   },
   "source": [
    "Consider a tree is a collection of _nodes_, which are the labeled boxes in the figure, and _edges_, which are the line segments connecting nodes, with the following special structure.\n",
    "\n",
    "* The node at the top is called the _root_. Here, the root is labeled `html` and abstractly represents the entire HTML document.\n",
    "* Regard each edge as always \"pointing\" from the node at its top end to the node at its bottom end. For any edge, the node at its top end is the _parent_ and the node at the bottom end is a _child_. Like real families, a parent can be a child. For example, the node labeled `head` is the child of `html` and the parent of `meta`, `title`, and `style`.\n",
    "* The _descendant_ of a node $x$ is any node $y$ for which there is a path from $x$ going down to $y$. For example, the node labeled `6x span` is a descendant of the node `body`. All nodes are descendants of the root.\n",
    "* Any node with _no_ descendants is a _leaf_.\n",
    "* Any node that is neither a root nor a leaf is an _internal node_.\n",
    "* There are no _cycles_. A cycle would be a loop. For instance, if you were to add an edge between the two lower rightmost nodes labeled, `strong` and `strong`, that would create a loop and the object would no longer be a tree.\n",
    "\n",
    "> For whatever reason, [computer scientists usually view trees upside down](https://www.quora.com/Why-are-trees-in-computer-science-generally-drawn-upside-down-from-how-trees-are-in-real-life), with the \"root\" at the top and the \"leaves\" at the bottom."
   ]
  },
  {
   "cell_type": "markdown",
   "metadata": {
    "deletable": false,
    "editable": false,
    "nbgrader": {
     "grade": false,
     "grade_id": "cell-f50c89e450930a0f",
     "locked": true,
     "schema_version": 1,
     "solution": false
    }
   },
   "source": [
    "The Beautiful Soup package gives you a data structure for traversing this tree. For instance, consider an HTML file with the contents below, shown both as code and pictorially."
   ]
  },
  {
   "cell_type": "code",
   "execution_count": null,
   "metadata": {
    "collapsed": true,
    "deletable": false,
    "editable": false,
    "nbgrader": {
     "grade": false,
     "grade_id": "cell-3e6d9fce3f852df9",
     "locked": true,
     "schema_version": 1,
     "solution": false
    }
   },
   "outputs": [],
   "source": [
    "some_page = \"\"\"\n",
    "<html>\n",
    "  <body>\n",
    "    <p>First paragraph.</p>\n",
    "    <p>Second paragraph, which links to the <a href=\"http://www.gatech.edu\">Georgia Tech website</a>.</p>\n",
    "    <p>Third paragraph.</p>\n",
    "  </body>\n",
    "</html>\n",
    "\"\"\"\n",
    "print(some_page)"
   ]
  },
  {
   "cell_type": "markdown",
   "metadata": {
    "deletable": false,
    "editable": false,
    "nbgrader": {
     "grade": false,
     "grade_id": "cell-b10719fa97510cdf",
     "locked": true,
     "schema_version": 1,
     "solution": false
    }
   },
   "source": [
    "![Two visual representations of `some_page`](./html-viz.png)"
   ]
  },
  {
   "cell_type": "markdown",
   "metadata": {
    "deletable": false,
    "editable": false,
    "nbgrader": {
     "grade": false,
     "grade_id": "cell-2ffdaae04974caa4",
     "locked": true,
     "schema_version": 1,
     "solution": false
    }
   },
   "source": [
    "**Exercise 0.** Besides HTML files, what else have we seen in this class that could be represented by a tree? Briefly and roughly explain what and how."
   ]
  },
  {
   "cell_type": "markdown",
   "metadata": {
    "nbgrader": {
     "grade": true,
     "grade_id": "ex3",
     "locked": false,
     "points": 0,
     "schema_version": 1,
     "solution": true
    }
   },
   "source": [
    "**Answer.** One thing that has a natural tree representation is a Python program! For example, can you draw the following program as a tree?\n",
    "\n",
    "```python\n",
    "import re\n",
    "\n",
    "def scan_lines(text, pattern):\n",
    "    matches = []\n",
    "    for line in text.split('\\n'):\n",
    "        if re.search(pattern, text) is not None:\n",
    "            matches.append(True)\n",
    "        else:\n",
    "            matches.append(False)\n",
    "    return matches\n",
    "```"
   ]
  },
  {
   "cell_type": "markdown",
   "metadata": {
    "deletable": false,
    "editable": false,
    "nbgrader": {
     "grade": false,
     "grade_id": "cell-f7d60ea487aa01e5",
     "locked": true,
     "schema_version": 1,
     "solution": false
    }
   },
   "source": [
    "## Using Beautiful Soup\n",
    "\n",
    "Here is how you might use Beautiful Soup to inspect the structure of `some_page`.\n",
    "\n",
    "Let's start by taking the contents of the page above (`some_page`) and asking Beautiful Soup to process it. Let's store the result in object named `soup`, and then explore its contents:"
   ]
  },
  {
   "cell_type": "code",
   "execution_count": null,
   "metadata": {
    "collapsed": true,
    "deletable": false,
    "editable": false,
    "nbgrader": {
     "grade": false,
     "grade_id": "cell-3e24c3ba0a76eef7",
     "locked": true,
     "schema_version": 1,
     "solution": false
    }
   },
   "outputs": [],
   "source": [
    "from bs4 import BeautifulSoup\n",
    "\n",
    "soup = BeautifulSoup(some_page, \"lxml\")\n",
    "\n",
    "print('1. soup ==', soup) # Print the HTML contents\n",
    "print('\\n2. soup.html ==', soup.html) # Root of the tree\n",
    "print('\\n3. soup.html.body ==', soup.html.body) # A child tag\n",
    "print('\\n4. soup.html.body.p ==', soup.html.body.p) # Another child tag\n",
    "print('\\n5. soup.html.body.contents ==', type(soup.html.body.contents), '::', soup.html.body.contents)"
   ]
  },
  {
   "cell_type": "markdown",
   "metadata": {
    "deletable": false,
    "editable": false,
    "nbgrader": {
     "grade": false,
     "grade_id": "cell-b878deab62a98518",
     "locked": true,
     "schema_version": 1,
     "solution": false
    }
   },
   "source": [
    "Observe that the `.` notation allows us to reference HTML tags---that is, the stuff enclosed in angle brackets in the original HTML, e.g., `<html> ... </html>`, `<body> ... </body>`---as they are nested. But in the case of the `<body> ... </body>` tag, there are multiple subtags. Evidently, `soup.html.body.contents` contains these, as a list, which we know how to manipulate."
   ]
  },
  {
   "cell_type": "code",
   "execution_count": null,
   "metadata": {
    "collapsed": true
   },
   "outputs": [],
   "source": [
    "# Enumerate all tags within the <body> ... </body> tag:\n",
    "for i, elem in enumerate (soup.html.body.contents):\n",
    "    print (\"[{:4d}]\".format (i), type (elem), '\\n\\t==>', \"'{}'\".format (elem))\n",
    "\n",
    "# Reference one of these, element 3:\n",
    "elem3 = soup.html.body.contents[3]\n",
    "print(elem3.contents)"
   ]
  },
  {
   "cell_type": "markdown",
   "metadata": {
    "deletable": false,
    "editable": false,
    "nbgrader": {
     "grade": false,
     "grade_id": "cell-334edd5f6b7fac7b",
     "locked": true,
     "schema_version": 1,
     "solution": false
    }
   },
   "source": [
    "**Exercise 1.** Write a statement that navigates to the tag representing the GT website link. Store this resulting tag object in a variable called `link`."
   ]
  },
  {
   "cell_type": "code",
   "execution_count": null,
   "metadata": {
    "collapsed": true,
    "nbgrader": {
     "grade": false,
     "grade_id": "ex5",
     "locked": false,
     "schema_version": 1,
     "solution": true
    }
   },
   "outputs": [],
   "source": [
    "###\n",
    "### YOUR CODE HERE\n",
    "###\n",
    "\n",
    "print(link)"
   ]
  },
  {
   "cell_type": "code",
   "execution_count": null,
   "metadata": {
    "collapsed": true,
    "deletable": false,
    "editable": false,
    "nbgrader": {
     "grade": true,
     "grade_id": "ex5_test",
     "locked": true,
     "points": 0,
     "schema_version": 1,
     "solution": false
    }
   },
   "outputs": [],
   "source": [
    "# Checks your link. Can you understand what it is doing?\n",
    "import bs4\n",
    "assert type(link) is bs4.element.Tag\n",
    "assert link.name == 'a'\n",
    "assert link['href'] == 'http://www.gatech.edu'\n",
    "assert link.contents == ['Georgia Tech website']\n",
    "\n",
    "print(\"\\n(Passed!)\")"
   ]
  },
  {
   "cell_type": "markdown",
   "metadata": {
    "deletable": false,
    "editable": false,
    "nbgrader": {
     "grade": false,
     "grade_id": "cell-4b2368e9947f3054",
     "locked": true,
     "schema_version": 1,
     "solution": false
    }
   },
   "source": [
    "### Other navigation tools\n",
    "\n",
    "This lab includes a static copy of the Yelp! results for a search of \"universities\" in ATL. Let's start by downloading this file."
   ]
  },
  {
   "cell_type": "code",
   "execution_count": null,
   "metadata": {
    "collapsed": true,
    "deletable": false,
    "editable": false,
    "nbgrader": {
     "grade": false,
     "grade_id": "cell-6c5218127e70c014",
     "locked": true,
     "schema_version": 1,
     "solution": false
    },
    "scrolled": true
   },
   "outputs": [],
   "source": [
    "# Run me: Code to download sample HTML file\n",
    "\n",
    "import requests\n",
    "import os\n",
    "import hashlib\n",
    "\n",
    "yelp_htm = 'yelp_unies_atl--20200126--1347--prettified.html'\n",
    "yelp_htm_checksum = 'd94da820bd8def4c1b240d272a3b673c'\n",
    "\n",
    "if os.path.exists('.voc'):\n",
    "    data_url = 'https://cse6040.gatech.edu/datasets/yelp-example-uni/{}'.format(yelp_htm)\n",
    "else:\n",
    "    data_url = 'https://github.com/cse6040/labs-fa17/raw/master/datasets/{}'.format(yelp_htm)\n",
    "\n",
    "if not os.path.exists(yelp_htm):\n",
    "    print(\"Downloading: {} ...\".format(data_url))\n",
    "    r = requests.get(data_url)\n",
    "    with open(yelp_htm, 'w', encoding=r.encoding) as f:\n",
    "        f.write(r.text)\n",
    "\n",
    "with open(yelp_htm, 'r') as f:\n",
    "    yelp_html = f.read().encode(encoding='utf-8')\n",
    "    checksum = hashlib.md5(yelp_html).hexdigest()\n",
    "    assert checksum == yelp_htm_checksum, \"Downloaded file has incorrect checksum!\"\n",
    "    \n",
    "print(\"'{}' is ready!\".format(yelp_htm))"
   ]
  },
  {
   "cell_type": "markdown",
   "metadata": {
    "deletable": false,
    "editable": false,
    "nbgrader": {
     "grade": false,
     "locked": true,
     "solution": false
    }
   },
   "source": [
    "If the above ran without errorr, you can view this file by clicking this link: [./yelp_unies_atl--20200126--1347--prettified.html](./yelp_unies_atl--20200126--1347--prettified.html)."
   ]
  },
  {
   "cell_type": "markdown",
   "metadata": {
    "deletable": false,
    "editable": false,
    "nbgrader": {
     "grade": false,
     "grade_id": "cell-68bbb05561a090b8",
     "locked": true,
     "schema_version": 1,
     "solution": false
    }
   },
   "source": [
    "Next, inspect and run this code, which prints the top (number one) result."
   ]
  },
  {
   "cell_type": "code",
   "execution_count": null,
   "metadata": {
    "collapsed": true
   },
   "outputs": [],
   "source": [
    "uni_html_text = open (yelp_htm, 'r').read()\n",
    "uni_soup = BeautifulSoup(uni_html_text, \"lxml\")\n",
    "\n",
    "print(\"The number 1 ATL university according to Yelp!:\")\n",
    "\n",
    "uni_1_span = uni_soup.html.body \\\n",
    "                     .contents[11].contents[7].contents[3].contents[1].contents[1].contents[1] \\\n",
    "                     .contents[1].contents[3].contents[1].contents[9].contents[1].contents[1].contents[1] \\\n",
    "                     .contents[3].contents[1].contents[1].contents[1].contents[1].contents[1].contents[1] \\\n",
    "                     .contents[1].contents[1].contents[1]\n",
    "uni_1 = uni_1_span.contents[3]\n",
    "    \n",
    "print(uni_1.text.strip())"
   ]
  },
  {
   "cell_type": "markdown",
   "metadata": {
    "deletable": false,
    "editable": false,
    "nbgrader": {
     "grade": false,
     "grade_id": "cell-cfa7415b772a15ad",
     "locked": true,
     "schema_version": 1,
     "solution": false
    }
   },
   "source": [
    "We hope it is self-evident that the above method to navigate to a particular tag or element is not terribly productive or robust, particularly if there are small modifications to the HTML.\n",
    "\n",
    "Here is an alternative. Inspect the raw HTML and observe that every search result appears in a \"span tag\" of the form,\n",
    "```html\n",
    "    <span class=\"lemon--span__373c0__3997G text__373c0__2Kxyz text-color--black-regular__373c0__2vGEn text-align--left__373c0__2XGa- text-weight--bold__373c0__1elNz text-size--inherit__373c0__2fB3p\">\n",
    "        1\n",
    "        <!-- -->\n",
    "        .\n",
    "        <a class=\"lemon--a__373c0__IEZFH link__373c0__1G70M link-color--inherit__373c0__3dzpk link-size--inherit__373c0__1VFlE\" href=\"/biz/georgia-tech-atlanta-4?osq=universities\" name=\"Georgia Tech\" rel=\"\" target=\"\">\n",
    "            Georgia Tech\n",
    "        </a>\n",
    "    </span>\n",
    "```\n",
    "This tag has a specific class attribute (`lemon--span__373c0__3997G ...`), and for non-sponsored results, a rank (`1 <!-- --> .` indicating the first, or top-ranked, result). Beautiful Soup gives us a way to search for specific tags."
   ]
  },
  {
   "cell_type": "code",
   "execution_count": null,
   "metadata": {
    "collapsed": true
   },
   "outputs": [],
   "source": [
    "target_class_value = 'lemon--span__373c0__3997G text__373c0__2Kxyz text-color--black-regular__373c0__2vGEn text-align--left__373c0__2XGa- text-weight--bold__373c0__1elNz text-size--inherit__373c0__2fB3p'\n",
    "all_search_results = uni_soup.find_all(attrs={'class', target_class_value})\n",
    "print(\"Found\", len(all_search_results), \"results.\")\n",
    "print(\"\\n*** First three results: ***\")\n",
    "for k, result in enumerate(all_search_results[:3]):\n",
    "    print(f\"\\n=== RESULT {k} ===\\n\")\n",
    "    print(result)"
   ]
  },
  {
   "cell_type": "markdown",
   "metadata": {
    "deletable": false,
    "editable": false,
    "nbgrader": {
     "grade": false,
     "grade_id": "cell-d26c59c6b89e51b8",
     "locked": true,
     "schema_version": 1,
     "solution": false
    }
   },
   "source": [
    "**Exercise 2.** Based on the above, write a function that, given a Yelp! search results page such as `uni_soup` above, returns the name of result whose rank is `k`, an **integer**. For example, when `k == 1`, it should return, `\"Georgia Tech\"`; when `k == 2`, it should return, `\"Spelman College\"`; when `k == 3`, it should return `\"Emory Continuing Education\"`; and so on."
   ]
  },
  {
   "cell_type": "code",
   "execution_count": null,
   "metadata": {
    "collapsed": true,
    "nbgrader": {
     "grade": false,
     "grade_id": "ex6",
     "locked": false,
     "schema_version": 1,
     "solution": true
    }
   },
   "outputs": [],
   "source": [
    "def get_yelp_result(soup, k):\n",
    "    \"\"\"Given a Yelp! search result as a Beautiful Soup page,\n",
    "    returns the name of business whose rank is `k`.\n",
    "    \"\"\"\n",
    "    ###\n",
    "    ### YOUR CODE HERE\n",
    "    ###\n",
    "    \n",
    "# Demo:\n",
    "print(get_yelp_result(uni_soup, 1))"
   ]
  },
  {
   "cell_type": "code",
   "execution_count": null,
   "metadata": {
    "collapsed": true,
    "deletable": false,
    "editable": false,
    "nbgrader": {
     "grade": true,
     "grade_id": "ex6_test",
     "locked": true,
     "points": 0,
     "schema_version": 1,
     "solution": false
    }
   },
   "outputs": [],
   "source": [
    "top_5 = [\"Georgia Tech\", \"Spelman College\", \"Emory Continuing Education\", \"Life University\",\n",
    "         \"Oglethorpe University\"]\n",
    "for k in range(1, len(top_5)+1):\n",
    "    your_result = get_yelp_result(uni_soup, k)\n",
    "    true_result = top_5[k-1]\n",
    "    assert your_result == true_result, \\\n",
    "           f\"Your rank-{k} result ('{your_result}') does not match the expected value ('{true_result}').\"\n",
    "    \n",
    "print(\"\\n(Passed!)\")"
   ]
  },
  {
   "cell_type": "markdown",
   "metadata": {
    "deletable": false,
    "editable": false,
    "nbgrader": {
     "grade": false,
     "grade_id": "cell-c21b203ae30914dc",
     "locked": true,
     "schema_version": 1,
     "solution": false
    }
   },
   "source": [
    "This mini-tutorial only scratches the surface of what is possible with Beautiful Soup. As always, refer to the [package's documentation](https://www.crummy.com/software/BeautifulSoup/) for all the awesome deets!"
   ]
  },
  {
   "cell_type": "code",
   "execution_count": 1,
   "metadata": {},
   "outputs": [
    {
     "name": "stdout",
     "output_type": "stream",
     "text": [
      "tar: Removing leading `../../' from member names\n",
      "../../asn1346286_1/\n",
      "../../asn1346286_1/resource/\n",
      "../../asn1346286_1/resource/startercode/\n",
      "../../asn1346286_1/resource/startercode/gatech_edu--20190125-1143.html\n",
      "../../asn1346286_1/resource/startercode/yelp-fried_chicken-atl--20200125-1240.html\n",
      "../../asn1346286_1/resource/startercode/gatech_edu--20190125-1143.png\n",
      "tar: ../../asn1346286_1/resource/startercode/resource: File removed before we read it\n",
      "../../asn1346286_1/resource/startercode/yelp-ramen-atl--20200125-1205.html\n",
      "../../asn1346286_1/resource/startercode/yelp-ramen-atl--20200125-1205--scroll-to-results-annotated.png\n",
      "../../asn1346286_1/resource/startercode/part0.ipynb\n",
      "../../asn1346286_1/resource/scripts/\n",
      "../../asn1346286_1/resource/scripts/run.sh\n",
      "../../asn1346286_1/resource/scripts/build.sh\n",
      "../../asn1346286_1/resource/asnlib/\n",
      "../../asn1346286_1/resource/asnlib/publicdata/\n",
      "../../asn1346286_1/resource/asnlib/public/\n",
      "../../asn1346286_1/resource/asnlib/public/docs/\n",
      "../../asn1346286_1/resource/lib/\n",
      "../../asn1346286_1/resource/lib/publicdata/\n",
      "../../asn1346286_1/resource/lib/publicdata/data/\n",
      "../../asn1346286_1/resource/lib/public/\n",
      "../../asn1346286_1/work/\n",
      "../../asn1346286_1/work/gatech_edu--20190125-1143.html\n",
      "../../asn1346286_1/work/yelp-fried_chicken-atl--20200125-1240.html\n",
      "../../asn1346286_1/work/gatech_edu--20190125-1143.png\n",
      "../../asn1346286_1/work/.gitconfig\n",
      "../../asn1346286_1/work/resource/\n",
      "../../asn1346286_1/work/resource/startercode/\n",
      "tar: Removing leading `../../' from hard link targets\n",
      "../../asn1346286_1/work/resource/startercode/gatech_edu--20190125-1143.html\n",
      "../../asn1346286_1/work/resource/startercode/yelp-fried_chicken-atl--20200125-1240.html\n",
      "../../asn1346286_1/work/resource/startercode/gatech_edu--20190125-1143.png\n",
      "tar: ../../asn1346286_1/work/resource/startercode/resource: File removed before we read it\n",
      "../../asn1346286_1/work/resource/startercode/yelp-ramen-atl--20200125-1205.html\n",
      "../../asn1346286_1/work/resource/startercode/yelp-ramen-atl--20200125-1205--scroll-to-results-annotated.png\n",
      "../../asn1346286_1/work/resource/startercode/part0.ipynb\n",
      "../../asn1346286_1/work/resource/scripts/\n",
      "../../asn1346286_1/work/resource/scripts/run.sh\n",
      "../../asn1346286_1/work/resource/scripts/build.sh\n",
      "../../asn1346286_1/work/resource/asnlib/\n",
      "../../asn1346286_1/work/resource/asnlib/publicdata/\n",
      "../../asn1346286_1/work/resource/asnlib/public/\n",
      "../../asn1346286_1/work/resource/asnlib/public/docs/\n",
      "../../asn1346286_1/work/resource/lib/\n",
      "../../asn1346286_1/work/resource/lib/publicdata/\n",
      "../../asn1346286_1/work/resource/lib/publicdata/data/\n",
      "../../asn1346286_1/work/resource/lib/public/\n",
      "../../asn1346286_1/work/.ipynb_checkpoints/\n",
      "../../asn1346286_1/work/.ipynb_checkpoints/part0-checkpoint.ipynb\n",
      "../../asn1346286_1/work/yelp-ramen-atl--20200125-1205.html\n",
      "../../asn1346286_1/work/.jupyter/\n",
      "../../asn1346286_1/work/.jupyter/migrated\n",
      "../../asn1346286_1/work/.ipython/\n",
      "../../asn1346286_1/work/.ipython/nbextensions/\n",
      "../../asn1346286_1/work/.ipython/extensions/\n",
      "../../asn1346286_1/work/.ipython/profile_default/\n",
      "../../asn1346286_1/work/.ipython/profile_default/security/\n",
      "../../asn1346286_1/work/.ipython/profile_default/history.sqlite\n",
      "../../asn1346286_1/work/.ipython/profile_default/log/\n",
      "../../asn1346286_1/work/.ipython/profile_default/db/\n",
      "../../asn1346286_1/work/.ipython/profile_default/pid/\n",
      "../../asn1346286_1/work/.ipython/profile_default/startup/\n",
      "../../asn1346286_1/work/.ipython/profile_default/startup/README\n",
      "../../asn1346286_1/work/yelp-ramen-atl--20200125-1205--scroll-to-results-annotated.png\n",
      "../../asn1346286_1/work/.local/\n",
      "../../asn1346286_1/work/.local/share/\n",
      "../../asn1346286_1/work/.local/share/jupyter/\n",
      "../../asn1346286_1/work/.local/share/jupyter/runtime/\n",
      "../../asn1346286_1/work/.local/share/jupyter/runtime/nbserver-18733.json\n",
      "../../asn1346286_1/work/.local/share/jupyter/runtime/kernel-5adfa438-a3b7-4279-a8e9-7ddb955929b9.json\n",
      "../../asn1346286_1/work/.local/share/jupyter/runtime/notebook_cookie_secret\n",
      "../../asn1346286_1/work/.local/share/jupyter/notebook_secret\n",
      "../../asn1346286_1/work/.local/share/jupyter/nbsignatures.db\n",
      "../../asn1346286_1/work/notebook.tar.gz\n",
      "../../asn1346286_1/work/part0.ipynb\n",
      "../../asn1346288_2/\n",
      "../../asn1346288_2/resource/\n",
      "../../asn1346288_2/resource/startercode/\n",
      "../../asn1346288_2/resource/startercode/part1.ipynb\n",
      "tar: ../../asn1346288_2/resource/startercode/resource: File removed before we read it\n",
      "../../asn1346288_2/resource/startercode/yelp_unies_atl--20200126--1347--prettified.html\n",
      "../../asn1346288_2/resource/startercode/html-slide.png\n",
      "../../asn1346288_2/resource/startercode/html-viz.png\n",
      "../../asn1346288_2/resource/scripts/\n",
      "../../asn1346288_2/resource/scripts/run.sh\n",
      "../../asn1346288_2/resource/scripts/build.sh\n",
      "../../asn1346288_2/resource/asnlib/\n",
      "../../asn1346288_2/resource/asnlib/publicdata/\n",
      "../../asn1346288_2/resource/asnlib/public/\n",
      "../../asn1346288_2/resource/asnlib/public/docs/\n",
      "../../asn1346288_2/resource/lib/\n",
      "../../asn1346288_2/resource/lib/publicdata/\n",
      "../../asn1346288_2/resource/lib/publicdata/data/\n",
      "../../asn1346288_2/resource/lib/public/\n",
      "../../asn1346288_2/work/\n",
      "../../asn1346288_2/work/part1.ipynb\n",
      "../../asn1346288_2/work/.gitconfig\n",
      "../../asn1346288_2/work/resource/\n",
      "../../asn1346288_2/work/resource/startercode/\n",
      "../../asn1346288_2/work/resource/startercode/part1.ipynb\n",
      "tar: ../../asn1346288_2/work/resource/startercode/resource: File removed before we read it\n",
      "../../asn1346288_2/work/resource/startercode/yelp_unies_atl--20200126--1347--prettified.html\n",
      "../../asn1346288_2/work/resource/startercode/html-slide.png\n",
      "../../asn1346288_2/work/resource/startercode/html-viz.png\n",
      "../../asn1346288_2/work/resource/scripts/\n",
      "../../asn1346288_2/work/resource/scripts/run.sh\n",
      "../../asn1346288_2/work/resource/scripts/build.sh\n",
      "../../asn1346288_2/work/resource/asnlib/\n",
      "../../asn1346288_2/work/resource/asnlib/publicdata/\n",
      "../../asn1346288_2/work/resource/asnlib/public/\n",
      "../../asn1346288_2/work/resource/asnlib/public/docs/\n",
      "../../asn1346288_2/work/resource/lib/\n",
      "../../asn1346288_2/work/resource/lib/publicdata/\n",
      "../../asn1346288_2/work/resource/lib/publicdata/data/\n",
      "../../asn1346288_2/work/resource/lib/public/\n",
      "../../asn1346288_2/work/yelp_unies_atl--20200126--1347--prettified.html\n",
      "../../asn1346288_2/work/.ipynb_checkpoints/\n",
      "../../asn1346288_2/work/.ipynb_checkpoints/part1-checkpoint.ipynb\n",
      "../../asn1346288_2/work/html-slide.png\n",
      "../../asn1346288_2/work/html-viz.png\n",
      "../../asn1346288_2/work/.jupyter/\n",
      "../../asn1346288_2/work/.jupyter/migrated\n",
      "../../asn1346288_2/work/.ipython/\n",
      "../../asn1346288_2/work/.ipython/nbextensions/\n",
      "../../asn1346288_2/work/.ipython/extensions/\n",
      "../../asn1346288_2/work/.ipython/profile_default/\n",
      "../../asn1346288_2/work/.ipython/profile_default/security/\n",
      "../../asn1346288_2/work/.ipython/profile_default/history.sqlite\n",
      "../../asn1346288_2/work/.ipython/profile_default/log/\n",
      "../../asn1346288_2/work/.ipython/profile_default/db/\n",
      "../../asn1346288_2/work/.ipython/profile_default/pid/\n",
      "../../asn1346288_2/work/.ipython/profile_default/startup/\n",
      "../../asn1346288_2/work/.ipython/profile_default/startup/README\n",
      "../../asn1346288_2/work/.local/\n",
      "../../asn1346288_2/work/.local/share/\n",
      "../../asn1346288_2/work/.local/share/jupyter/\n",
      "../../asn1346288_2/work/.local/share/jupyter/runtime/\n",
      "../../asn1346288_2/work/.local/share/jupyter/runtime/nbserver-6062.json\n",
      "../../asn1346288_2/work/.local/share/jupyter/runtime/kernel-7d82645d-beea-4a2d-adf2-bcbe8540e6be.json\n",
      "../../asn1346288_2/work/.local/share/jupyter/runtime/notebook_cookie_secret\n",
      "../../asn1346288_2/work/.local/share/jupyter/notebook_secret\n",
      "../../asn1346288_2/work/.local/share/jupyter/nbsignatures.db\n",
      "../../asn1346288_2/work/notebook.tar.gz\n",
      "tar: ../../asn1346288_2/work/notebook.tar.gz: file changed as we read it\n",
      "../../asn1346289_3/\n",
      "../../asn1346289_3/resource/\n",
      "../../asn1346289_3/resource/startercode/\n",
      "tar: ../../asn1346289_3/resource/startercode/resource: File removed before we read it\n",
      "../../asn1346289_3/resource/startercode/part2.ipynb\n",
      "../../asn1346289_3/resource/scripts/\n",
      "../../asn1346289_3/resource/scripts/run.sh\n",
      "../../asn1346289_3/resource/scripts/build.sh\n",
      "../../asn1346289_3/resource/asnlib/\n",
      "../../asn1346289_3/resource/asnlib/publicdata/\n",
      "../../asn1346289_3/resource/asnlib/public/\n",
      "../../asn1346289_3/resource/asnlib/public/docs/\n",
      "../../asn1346289_3/resource/lib/\n",
      "../../asn1346289_3/resource/lib/publicdata/\n",
      "../../asn1346289_3/resource/lib/publicdata/data/\n",
      "../../asn1346289_3/resource/lib/public/\n",
      "../../asn1346289_3/work/\n",
      "../../asn1346289_3/work/.gitconfig\n",
      "../../asn1346289_3/work/resource/\n",
      "../../asn1346289_3/work/resource/startercode/\n",
      "tar: ../../asn1346289_3/work/resource/startercode/resource: File removed before we read it\n",
      "../../asn1346289_3/work/resource/startercode/part2.ipynb\n",
      "../../asn1346289_3/work/resource/scripts/\n",
      "../../asn1346289_3/work/resource/scripts/run.sh\n",
      "../../asn1346289_3/work/resource/scripts/build.sh\n",
      "../../asn1346289_3/work/resource/asnlib/\n",
      "../../asn1346289_3/work/resource/asnlib/publicdata/\n",
      "../../asn1346289_3/work/resource/asnlib/public/\n",
      "../../asn1346289_3/work/resource/asnlib/public/docs/\n",
      "../../asn1346289_3/work/resource/lib/\n",
      "../../asn1346289_3/work/resource/lib/publicdata/\n",
      "../../asn1346289_3/work/resource/lib/publicdata/data/\n",
      "../../asn1346289_3/work/resource/lib/public/\n"
     ]
    },
    {
     "name": "stdout",
     "output_type": "stream",
     "text": [
      "../../asn1346289_3/work/.ipynb_checkpoints/\r\n",
      "../../asn1346289_3/work/.ipython/\r\n",
      "../../asn1346289_3/work/.ipython/nbextensions/\r\n",
      "../../asn1346289_3/work/.ipython/extensions/\r\n",
      "../../asn1346289_3/work/.ipython/profile_default/\r\n",
      "../../asn1346289_3/work/.ipython/profile_default/security/\r\n",
      "../../asn1346289_3/work/.ipython/profile_default/history.sqlite\r\n",
      "../../asn1346289_3/work/.ipython/profile_default/log/\r\n",
      "../../asn1346289_3/work/.ipython/profile_default/db/\r\n",
      "../../asn1346289_3/work/.ipython/profile_default/pid/\r\n",
      "../../asn1346289_3/work/.ipython/profile_default/startup/\r\n",
      "../../asn1346289_3/work/.ipython/profile_default/startup/README\r\n",
      "../../asn1346289_3/work/part2.ipynb\r\n",
      "../../asn1346289_3/work/.local/\r\n",
      "../../asn1346289_3/work/.local/share/\r\n",
      "../../asn1346289_3/work/.local/share/jupyter/\r\n",
      "../../asn1346289_3/work/.local/share/jupyter/runtime/\r\n",
      "../../asn1346289_3/work/.local/share/jupyter/runtime/notebook_cookie_secret\r\n",
      "../../asn1346289_3/work/.local/share/jupyter/notebook_secret\r\n",
      "../../asn1346289_3/work/.local/share/jupyter/nbsignatures.db\r\n"
     ]
    }
   ],
   "source": [
    "!tar --exclude='*/.voc' --exclude='*/.voc.work' -chvzf notebook.tar.gz ../../*"
   ]
  },
  {
   "cell_type": "code",
   "execution_count": null,
   "metadata": {
    "collapsed": true
   },
   "outputs": [],
   "source": []
  }
 ],
 "metadata": {
  "celltoolbar": "Create Assignment",
  "kernel_info": {
   "name": "python3"
  },
  "kernelspec": {
   "display_name": "Python 3.8",
   "language": "python",
   "name": "python38"
  },
  "language_info": {
   "codemirror_mode": {
    "name": "ipython",
    "version": 3
   },
   "file_extension": ".py",
   "mimetype": "text/x-python",
   "name": "python",
   "nbconvert_exporter": "python",
   "pygments_lexer": "ipython3",
   "version": "3.8.7"
  },
  "nteract": {
   "version": "0.15.0"
  }
 },
 "nbformat": 4,
 "nbformat_minor": 2
}
