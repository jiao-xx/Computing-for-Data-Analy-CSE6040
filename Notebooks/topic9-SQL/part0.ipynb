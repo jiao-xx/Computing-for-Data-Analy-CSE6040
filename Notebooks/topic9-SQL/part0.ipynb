{
 "cells": [
  {
   "cell_type": "markdown",
   "metadata": {
    "deletable": false,
    "editable": false,
    "nbgrader": {
     "grade": false,
     "grade_id": "cell-2d7bc35c8a49ea43",
     "locked": true,
     "schema_version": 1,
     "solution": false
    }
   },
   "source": [
    "# Lesson 0: SQLite\n",
    "\n",
    "The de facto language for managing relational databases is the Structured Query Language, or SQL (\"sequel\").\n",
    "\n",
    "Many commerical and open-source relational data management systems (RDBMS) support SQL. The one we will consider in this class is the simplest, called [sqlite3](https://www.sqlite.org/). It stores the database in a simple file and can be run in a \"standalone\" mode from the command-line. However, we will, naturally, [invoke it from Python](https://docs.python.org/3/library/sqlite3.html). But all of the basic techniques apply to any commercial SQL backend.\n",
    "\n",
    "With a little luck, you _might_ by the end of this class understand this [xkcd comic on SQL injection attacks](http://xkcd.com/327)."
   ]
  },
  {
   "cell_type": "code",
   "execution_count": 3,
   "metadata": {
    "deletable": false,
    "editable": false,
    "nbgrader": {
     "grade": false,
     "locked": true,
     "solution": false
    }
   },
   "outputs": [
    {
     "name": "stdout",
     "output_type": "stream",
     "text": [
      "=== Python version info ===\n",
      "3.8.7 (default, Jan 25 2021, 11:14:52) \n",
      "[GCC 5.5.0 20171010]\n"
     ]
    }
   ],
   "source": [
    "import sys\n",
    "print(\"=== Python version info ===\\n{}\".format(sys.version))"
   ]
  },
  {
   "cell_type": "markdown",
   "metadata": {
    "deletable": false,
    "editable": false,
    "nbgrader": {
     "checksum": "631d516583b07e1831b9aa0d773bf48e",
     "grade": false,
     "grade_id": "name_gpa",
     "locked": true,
     "schema_version": 1,
     "solution": false
    }
   },
   "source": [
    "## Getting started\n",
    "\n",
    "In Python, you _connect_ to an `sqlite3` database by creating a _connection object_."
   ]
  },
  {
   "cell_type": "markdown",
   "metadata": {
    "deletable": false,
    "editable": false,
    "nbgrader": {
     "grade": false,
     "locked": true,
     "solution": false
    }
   },
   "source": [
    "**Exercise 0** (ungraded). Run this code cell to get started."
   ]
  },
  {
   "cell_type": "code",
   "execution_count": 4,
   "metadata": {
    "collapsed": true,
    "deletable": false,
    "editable": false,
    "nbgrader": {
     "checksum": "b11295002cc2b9549d6a2b01721b6701",
     "grade": true,
     "grade_id": "who__test",
     "locked": true,
     "points": "0",
     "schema_version": 1,
     "solution": false
    },
    "nbpresent": {
     "id": "60ff4b48-4f6f-4052-bbb9-8f7d7459f5f9"
    }
   },
   "outputs": [],
   "source": [
    "import sqlite3 as db\n",
    "\n",
    "# Connect to a database (or create one if it doesn't exist)\n",
    "conn = db.connect('example.db')"
   ]
  },
  {
   "cell_type": "markdown",
   "metadata": {
    "deletable": false,
    "editable": false,
    "nbgrader": {
     "grade": false,
     "locked": true,
     "solution": false
    },
    "nbpresent": {
     "id": "bca69dbc-e662-4485-ace9-5bc32f914fac"
    }
   },
   "source": [
    "The `sqlite` engine maintains a database as a file; in this example, the name of that file is `example.db`.\n",
    "\n",
    "> **Important usage note!** If the named file does **not** yet exist, this code creates it. However, if the database has been created before, this same code will open it. This fact can be important when you are debugging. For example, if your code depends on the database not existing initially, then you may need to remove the file first. You're likely to encounter this situation in this notebook."
   ]
  },
  {
   "cell_type": "markdown",
   "metadata": {
    "deletable": false,
    "editable": false,
    "nbgrader": {
     "grade": false,
     "locked": true,
     "solution": false
    },
    "nbpresent": {
     "id": "7706d36d-b4af-4f8e-b419-20cfce1b7ba3"
    }
   },
   "source": [
    "You issue commands to the database through an object called a _cursor_."
   ]
  },
  {
   "cell_type": "code",
   "execution_count": 5,
   "metadata": {
    "collapsed": true,
    "nbpresent": {
     "id": "f798db7f-53dd-43ca-b03e-e12be2ad7231"
    }
   },
   "outputs": [],
   "source": [
    "# Create a 'cursor' for executing commands\n",
    "c = conn.cursor()"
   ]
  },
  {
   "cell_type": "markdown",
   "metadata": {
    "deletable": false,
    "editable": false,
    "nbgrader": {
     "grade": false,
     "locked": true,
     "solution": false
    },
    "nbpresent": {
     "id": "f7caca1e-bb84-434d-a422-840ac1c6b7b7"
    }
   },
   "source": [
    "A cursor tracks the current state of the database, and you will mostly be using the cursor to issue commands that modify or query the database."
   ]
  },
  {
   "cell_type": "markdown",
   "metadata": {
    "deletable": false,
    "editable": false,
    "nbgrader": {
     "grade": false,
     "locked": true,
     "solution": false
    },
    "nbpresent": {
     "id": "ad7d1ae0-681e-4a83-b3ef-6b416cf48f31"
    }
   },
   "source": [
    "## Tables and Basic Queries\n",
    "\n",
    "The central object of a relational database is a _table_. It's identical to what you called a \"tibble\" in the tidy data lab: observations as rows, variables as columns. In the relational database world, we sometimes refer to rows as _items_ or _records_ and columns as _attributes_. We'll use all of these terms interchangeably in this course."
   ]
  },
  {
   "cell_type": "markdown",
   "metadata": {
    "deletable": false,
    "editable": false,
    "nbgrader": {
     "grade": false,
     "locked": true,
     "solution": false
    }
   },
   "source": [
    "Let's look at a concrete example. Suppose we wish to maintain a database of Georgia Tech students, whose attributes are their names and Georgia Tech-issued ID numbers. You might start by creating a table named `Students` to hold this data. You can create the table using the command, [`CREATE TABLE`](https://www.sqlite.org/lang_createtable.html).\n",
    "\n",
    "> Note: If you try to create a table that already exists, it will **fail**. If you are trying to carry out these exercises from scratch, you may need to remove any existing `example.db` file or destroy any existing table; you can do the latter with the SQL command, `DROP TABLE IF EXISTS Students`."
   ]
  },
  {
   "cell_type": "code",
   "execution_count": 6,
   "metadata": {
    "nbpresent": {
     "id": "ad171c63-8b27-4921-9d6c-ebb09921fca4"
    }
   },
   "outputs": [
    {
     "data": {
      "text/plain": [
       "<sqlite3.Cursor at 0x7fb190a4d650>"
      ]
     },
     "execution_count": 6,
     "metadata": {},
     "output_type": "execute_result"
    }
   ],
   "source": [
    "# If this is not the first time you run this cell, \n",
    "# you need to delete the existed \"Students\" table first\n",
    "c.execute(\"DROP TABLE IF EXISTS Students\")\n",
    "\n",
    "# create a table named \"Students\" with 2 columns: \"gtid\" and \"name\".\n",
    "# the type for column \"gtid\" is integer and for \"name\" is text. \n",
    "c.execute(\"CREATE TABLE Students (gtid INTEGER, name TEXT)\")"
   ]
  },
  {
   "cell_type": "markdown",
   "metadata": {
    "deletable": false,
    "editable": false,
    "nbgrader": {
     "grade": false,
     "locked": true,
     "solution": false
    },
    "nbpresent": {
     "id": "bd814451-e891-48e7-8bd2-c90105cae261"
    }
   },
   "source": [
    "To populate the table with items, you can use the command, [`INSERT INTO`](https://www.sqlite.org/lang_insert.html)."
   ]
  },
  {
   "cell_type": "code",
   "execution_count": 7,
   "metadata": {
    "nbpresent": {
     "id": "2cc9a1f8-f514-4dd8-9d43-0663b4a4c70d"
    }
   },
   "outputs": [
    {
     "data": {
      "text/plain": [
       "<sqlite3.Cursor at 0x7fb190a4d650>"
      ]
     },
     "execution_count": 7,
     "metadata": {},
     "output_type": "execute_result"
    }
   ],
   "source": [
    "c.execute(\"INSERT INTO Students VALUES (123, 'Vuduc')\")\n",
    "c.execute(\"INSERT INTO Students VALUES (456, 'Chau')\")\n",
    "c.execute(\"INSERT INTO Students VALUES (381, 'Bader')\")\n",
    "c.execute(\"INSERT INTO Students VALUES (991, 'Sokol')\")"
   ]
  },
  {
   "cell_type": "markdown",
   "metadata": {
    "deletable": false,
    "editable": false,
    "nbgrader": {
     "grade": false,
     "locked": true,
     "solution": false
    }
   },
   "source": [
    "**Commitment issues.** The commands above modify the database. However, these are temporary modifications and aren't actually saved to the databases until you say so. (_Aside:_ Why would you want such behavior?) The way to do that is to issue a _commit_ operation from the _connection_ object.\n",
    "\n",
    "> There are some subtleties related to when you actually need to commit, since the SQLite database engine does commit at certain points as discussed [here](https://stackoverflow.com/questions/13642956/commit-behavior-and-atomicity-in-python-sqlite3-module). However, it's probably simpler if you remember to encode commits when you intend for them to take effect."
   ]
  },
  {
   "cell_type": "code",
   "execution_count": 8,
   "metadata": {
    "collapsed": true,
    "nbgrader": {
     "grade": false,
     "grade_id": "cell-de29bd964e0fed8a",
     "locked": false,
     "schema_version": 1,
     "solution": false
    }
   },
   "outputs": [],
   "source": [
    "conn.commit()"
   ]
  },
  {
   "cell_type": "markdown",
   "metadata": {
    "deletable": false,
    "editable": false,
    "nbgrader": {
     "grade": false,
     "locked": true,
     "solution": false
    },
    "nbpresent": {
     "id": "0580d369-3b2a-4011-8f93-53681beda02a"
    }
   },
   "source": [
    "Another common operation is to perform a bunch of insertions into a table from a list of tuples. In this case, you can use `executemany()`."
   ]
  },
  {
   "cell_type": "code",
   "execution_count": 9,
   "metadata": {
    "collapsed": true,
    "nbpresent": {
     "id": "425a8dc2-8e05-4370-9244-eb9e134bc16e"
    }
   },
   "outputs": [],
   "source": [
    "# An important (and secure!) idiom\n",
    "more_students = [(723, 'Rozga'),\n",
    "                 (882, 'Zha'),\n",
    "                 (401, 'Park'),\n",
    "                 (377, 'Vetter'),\n",
    "                 (904, 'Brown')]\n",
    "\n",
    "# '?' question marks are placeholders for the two columns in Students table\n",
    "c.executemany('INSERT INTO Students VALUES (?, ?)', more_students)\n",
    "conn.commit()"
   ]
  },
  {
   "cell_type": "markdown",
   "metadata": {
    "deletable": false,
    "editable": false,
    "nbgrader": {
     "grade": false,
     "locked": true,
     "solution": false
    },
    "nbpresent": {
     "id": "13374b53-847e-4db5-ab8d-0deca7250bbd"
    }
   },
   "source": [
    "Given a table, the most common operation is a _query_, which asks for some subset or transformation of the data. The simplest kind of query is called a [`SELECT`](https://www.sqlite.org/lang_select.html).\n",
    "\n",
    "The following example selects all rows (items) from the `Students` table."
   ]
  },
  {
   "cell_type": "code",
   "execution_count": 10,
   "metadata": {
    "nbpresent": {
     "id": "e0b70aa2-b610-44a0-bea3-f72ebcffd5bd"
    }
   },
   "outputs": [
    {
     "name": "stdout",
     "output_type": "stream",
     "text": [
      "Your results: 9 \n",
      "The entries of Students:\n",
      " [(123, 'Vuduc'), (456, 'Chau'), (381, 'Bader'), (991, 'Sokol'), (723, 'Rozga'), (882, 'Zha'), (401, 'Park'), (377, 'Vetter'), (904, 'Brown')]\n"
     ]
    }
   ],
   "source": [
    "c.execute(\"SELECT * FROM Students\")\n",
    "\n",
    "results = c.fetchall()\n",
    "print(\"Your results:\", len(results), \"\\nThe entries of Students:\\n\", results)"
   ]
  },
  {
   "cell_type": "markdown",
   "metadata": {
    "deletable": false,
    "editable": false,
    "nbgrader": {
     "grade": false,
     "grade_id": "cell-457e323adba0c030",
     "locked": true,
     "schema_version": 1,
     "solution": false
    },
    "nbpresent": {
     "id": "5be67adf-58b9-48b8-a447-6d435a60b32a"
    }
   },
   "source": [
    "**Exercise 1** (2 points). Suppose we wish to maintain a second table, called `Takes`, which records classes that students have taken and the grades they earn.\n",
    "\n",
    "In particular, each row of `Takes` stores a student by his/her GT ID, the course he/she took, and the grade he/she earned in terms of GPA (i.e. 4.0, 3.0, etc). More formally, suppose this table is defined as follows:"
   ]
  },
  {
   "cell_type": "code",
   "execution_count": 11,
   "metadata": {
    "nbgrader": {
     "grade": false,
     "grade_id": "cell-0f6a7ffdcf640bb5",
     "locked": false,
     "schema_version": 1,
     "solution": false
    },
    "nbpresent": {
     "id": "ead189ed-6c04-4e3a-a285-903d08eb20b4"
    }
   },
   "outputs": [
    {
     "data": {
      "text/plain": [
       "<sqlite3.Cursor at 0x7fb190a4d650>"
      ]
     },
     "execution_count": 11,
     "metadata": {},
     "output_type": "execute_result"
    }
   ],
   "source": [
    "# Run this cell\n",
    "c.execute('DROP TABLE IF EXISTS Takes')\n",
    "c.execute('CREATE TABLE Takes (gtid INTEGER, course TEXT, grade REAL)')"
   ]
  },
  {
   "cell_type": "markdown",
   "metadata": {
    "deletable": false,
    "editable": false,
    "nbgrader": {
     "grade": false,
     "grade_id": "cell-a238171e2e6ed8f3",
     "locked": true,
     "schema_version": 1,
     "solution": false
    },
    "nbpresent": {
     "id": "5bf1708e-da01-422e-a002-114ba03032be"
    }
   },
   "source": [
    "Write a command to insert the following records into the `Takes` table.\n",
    "\n",
    "* Vuduc: CSE 6040 - A (4.0), ISYE 6644 - B (3.0), MGMT 8803 - D (1.0)\n",
    "* Sokol: CSE 6040 - A (4.0), ISYE 6740 - A (4.0)\n",
    "* Chau: CSE 6040 - A (4.0), ISYE 6740 - C (2.0), MGMT 8803 - B (3.0)\n",
    "\n",
    "(Note: See `students` table above to get the GT IDs for Vuduc, Sokol, and Chau. You don't have to write any code to retrieve their GT IDs. You can just type them in manually. However, it would be a good and extra practice for you if you can use some sql commands to retrieve their IDs.) "
   ]
  },
  {
   "cell_type": "code",
   "execution_count": 12,
   "metadata": {
    "deletable": false,
    "nbgrader": {
     "checksum": "ef802a157691401d9221693b8cf3bf3c",
     "grade": false,
     "grade_id": "insert_many",
     "locked": false,
     "schema_version": 1,
     "solution": true
    },
    "nbpresent": {
     "id": "fbe2ca1e-a5dd-4633-bd6a-3f8ea5d446f3"
    }
   },
   "outputs": [
    {
     "name": "stdout",
     "output_type": "stream",
     "text": [
      "Your results: 8 \n",
      "The entries of Takes: [(123, 'CSE 6040', 4.0), (123, 'ISYE 6644', 3.0), (123, 'MGMT 8803', 1.0), (991, 'CSE 6040', 4.0), (991, 'ISYE 6740', 4.0), (456, 'CSE 6040', 4.0), (456, 'ISYE 6740', 2.0), (456, 'MGMT 8803', 3.0)]\n"
     ]
    }
   ],
   "source": [
    "# An important (and secure!) idiom\n",
    "students = [(123, 'CSE 6040', 4.0),\n",
    "            (123, 'ISYE 6644', 3.0),\n",
    "            (123, 'MGMT 8803', 1.0),\n",
    "            (991, 'CSE 6040', 4.0),\n",
    "            (991, 'ISYE 6740', 4.0),\n",
    "            (456, 'CSE 6040', 4.0),\n",
    "            (456, 'ISYE 6740', 2.0),\n",
    "            (456, 'MGMT 8803', 3.0),\n",
    "            ]\n",
    "\n",
    "# '?' question marks are placeholders for the two columns in Students table\n",
    "c.executemany('INSERT INTO Takes VALUES (?, ?, ?)', students)\n",
    "conn.commit()\n",
    "\n",
    "# Displays the results of your code\n",
    "c.execute('SELECT * FROM Takes')\n",
    "results = c.fetchall()\n",
    "print(\"Your results:\", len(results), \"\\nThe entries of Takes:\", results)"
   ]
  },
  {
   "cell_type": "code",
   "execution_count": 13,
   "metadata": {
    "deletable": false,
    "editable": false,
    "nbgrader": {
     "checksum": "3474ee2d282adaeeb16a4399f7e0a191",
     "grade": true,
     "grade_id": "insert_many__test",
     "locked": true,
     "points": 2,
     "schema_version": 1,
     "solution": false
    },
    "nbpresent": {
     "id": "a6361dd2-a7f3-4bb1-b4a1-ce9d9ed34c7f"
    }
   },
   "outputs": [
    {
     "name": "stdout",
     "output_type": "stream",
     "text": [
      "\n",
      "(Passed.)\n"
     ]
    }
   ],
   "source": [
    "# Test cell: `insert_many__test`\n",
    "\n",
    "# Close the database and reopen it\n",
    "conn.close()\n",
    "conn = db.connect('example.db')\n",
    "c = conn.cursor()\n",
    "c.execute('SELECT * FROM Takes')\n",
    "results = c.fetchall()\n",
    "\n",
    "if len(results) == 0:\n",
    "    print(\"*** No matching records. Did you remember to commit the results? ***\")\n",
    "assert len(results) == 8, \"The `Takes` table has {} when it should have {}.\".format(len(results), 8)\n",
    "\n",
    "assert (123, 'CSE 6040', 4.0) in results\n",
    "assert (123, 'ISYE 6644', 3.0) in results\n",
    "assert (123, 'MGMT 8803', 1.0) in results\n",
    "assert (991, 'CSE 6040', 4.0) in results\n",
    "assert (991, 'ISYE 6740', 4.0) in results\n",
    "assert (456, 'CSE 6040', 4.0) in results\n",
    "assert (456, 'ISYE 6740', 2.0) in results\n",
    "assert (456, 'MGMT 8803', 3.0) in results\n",
    "\n",
    "print(\"\\n(Passed.)\")"
   ]
  },
  {
   "cell_type": "markdown",
   "metadata": {
    "deletable": false,
    "editable": false,
    "nbgrader": {
     "grade": false,
     "locked": true,
     "solution": false
    },
    "nbpresent": {
     "id": "ffeff9c0-6b08-4771-b885-b57cb3ff5ca5"
    }
   },
   "source": [
    "# Lesson 1: Join queries\n",
    "\n",
    "The main type of query that combines information from multiple tables is the _join query_. Recall from our discussion of tibbles these four types:\n",
    "\n",
    "- `INNER JOIN(A, B)`: Keep rows of `A` and `B` only where `A` and `B` match\n",
    "- `OUTER JOIN(A, B)`: Keep all rows of `A` and `B`, but merge matching rows and fill in missing values with some default (`NaN` in Pandas, `NULL` in SQL)\n",
    "- `LEFT JOIN(A, B)`: Keep all rows of `A` but only merge matches from `B`.\n",
    "- `RIGHT JOIN(A, B)`: Keep all rows of `B` but only merge matches from `A`.\n",
    "\n",
    "If you are a visual person, see [this page](https://www.codeproject.com/Articles/33052/Visual-Representation-of-SQL-Joins) for illustrations of the different join types.\n",
    "\n",
    "In SQL, you can use the `WHERE` clause of a `SELECT` statement to specify how to match rows from the tables being joined. For example, recall that the `Takes` table stores classes taken by each student. However, these classes are recorded by a student's GT ID. Suppose we want a report where we want each student's name rather than his/her ID. We can get the matching name from the `Students` table. Here is a query to accomplish this matching:"
   ]
  },
  {
   "cell_type": "code",
   "execution_count": 14,
   "metadata": {
    "nbpresent": {
     "id": "0061492b-418b-42f2-a4eb-f6a1ad798350"
    }
   },
   "outputs": [
    {
     "name": "stdout",
     "output_type": "stream",
     "text": [
      "('Vuduc', 'CSE 6040', 4.0)\n",
      "('Vuduc', 'ISYE 6644', 3.0)\n",
      "('Vuduc', 'MGMT 8803', 1.0)\n",
      "('Chau', 'CSE 6040', 4.0)\n",
      "('Chau', 'ISYE 6740', 2.0)\n",
      "('Chau', 'MGMT 8803', 3.0)\n",
      "('Sokol', 'CSE 6040', 4.0)\n",
      "('Sokol', 'ISYE 6740', 4.0)\n"
     ]
    }
   ],
   "source": [
    "# See all (name, course, grade) tuples\n",
    "query = '''\n",
    "        SELECT Students.name, Takes.course, Takes.grade\n",
    "        FROM Students, Takes\n",
    "        WHERE Students.gtid = Takes.gtid\n",
    "'''\n",
    "\n",
    "for match in c.execute(query): # Note this alternative idiom for iterating over query results\n",
    "    print(match)"
   ]
  },
  {
   "cell_type": "markdown",
   "metadata": {
    "deletable": false,
    "editable": false,
    "nbgrader": {
     "grade": false,
     "locked": true,
     "solution": false
    },
    "nbpresent": {
     "id": "c229a881-8cf8-44ee-ba29-63386a9ad337"
    }
   },
   "source": [
    "**Exercise 2** (2 points). Define a query to select the names and grades of students where the course is _CSE 6040_. The code below will execute your query and store the results in a list `results1` of tuples, where each tuple is a `(name, grade)` pair; thus, you should structure your query to match this format."
   ]
  },
  {
   "cell_type": "code",
   "execution_count": 15,
   "metadata": {
    "deletable": false,
    "nbgrader": {
     "checksum": "0dfcf9af496ec5c807a97a27069c240a",
     "grade": false,
     "grade_id": "join1",
     "locked": false,
     "schema_version": 1,
     "solution": true
    },
    "nbpresent": {
     "id": "0a053476-f540-480a-b3cc-28d23e2d6511"
    }
   },
   "outputs": [
    {
     "data": {
      "text/plain": [
       "[('Vuduc', 4.0), ('Sokol', 4.0), ('Chau', 4.0)]"
      ]
     },
     "execution_count": 15,
     "metadata": {},
     "output_type": "execute_result"
    }
   ],
   "source": [
    "# Define `query` with your query:\n",
    "###\n",
    "### YOUR CODE HERE\n",
    "###\n",
    "query = ''' \n",
    "        select Students.name, Takes.grade\n",
    "        from Students, Takes\n",
    "        where Students.gtid = Takes.gtid and Takes.course = 'CSE 6040'\n",
    "\n",
    "    '''\n",
    "\n",
    "\n",
    "c.execute(query)\n",
    "results1 = c.fetchall()\n",
    "results1"
   ]
  },
  {
   "cell_type": "code",
   "execution_count": 16,
   "metadata": {
    "deletable": false,
    "editable": false,
    "nbgrader": {
     "checksum": "6adb27164d87eda12aec79e0b8d8ecec",
     "grade": true,
     "grade_id": "join1__test",
     "locked": true,
     "points": 2,
     "schema_version": 1,
     "solution": false
    },
    "nbpresent": {
     "id": "e1fe9c03-2112-4b49-8112-e12bb7bb10df"
    }
   },
   "outputs": [
    {
     "name": "stdout",
     "output_type": "stream",
     "text": [
      "Your results: [('Vuduc', 4.0), ('Sokol', 4.0), ('Chau', 4.0)]\n",
      "\n",
      "(Passed.)\n"
     ]
    }
   ],
   "source": [
    "# Test cell: `join1__test`\n",
    "\n",
    "print (\"Your results:\", results1)\n",
    "\n",
    "assert type(results1) is list\n",
    "assert len(results1) == 3, \"Your query produced {} results instead of {}.\".format(len(results1), 3)\n",
    "\n",
    "assert set(results1) == {('Vuduc', 4.0), ('Sokol', 4.0), ('Chau', 4.0)}\n",
    "\n",
    "print(\"\\n(Passed.)\")"
   ]
  },
  {
   "cell_type": "markdown",
   "metadata": {
    "deletable": false,
    "editable": false,
    "nbgrader": {
     "grade": false,
     "locked": true,
     "solution": false
    },
    "nbpresent": {
     "id": "0449ec70-9765-4cd3-bdeb-e79c1652f9fd"
    }
   },
   "source": [
    "For contrast, let's do a quick exercise that executes a [left join](http://www.sqlitetutorial.net/sqlite-left-join/).\n",
    "\n",
    "**Exercise 3** (2 points). Execute a `LEFT JOIN` that uses `Students` as the left table, `Takes` as the right table, and selects a student's name and course grade. Write your query as a string variable named `query`, which the subsequent code will execute."
   ]
  },
  {
   "cell_type": "code",
   "execution_count": 17,
   "metadata": {
    "nbgrader": {
     "grade": false,
     "grade_id": "cell-6eaa56837de291f4",
     "locked": false,
     "schema_version": 1,
     "solution": true
    },
    "nbpresent": {
     "id": "55b9eb3b-2bf7-47c6-9599-fd751c6f2266"
    }
   },
   "outputs": [
    {
     "name": "stdout",
     "output_type": "stream",
     "text": [
      "0 -> ('Vuduc', 1.0)\n",
      "1 -> ('Vuduc', 3.0)\n",
      "2 -> ('Vuduc', 4.0)\n",
      "3 -> ('Chau', 2.0)\n",
      "4 -> ('Chau', 3.0)\n",
      "5 -> ('Chau', 4.0)\n",
      "6 -> ('Bader', None)\n",
      "7 -> ('Sokol', 4.0)\n",
      "8 -> ('Sokol', 4.0)\n",
      "9 -> ('Rozga', None)\n",
      "10 -> ('Zha', None)\n",
      "11 -> ('Park', None)\n",
      "12 -> ('Vetter', None)\n",
      "13 -> ('Brown', None)\n"
     ]
    }
   ],
   "source": [
    "# Define `query` string here:\n",
    "###\n",
    "### YOUR CODE HERE\n",
    "###\n",
    "\n",
    "query = '''\n",
    "        SELECT Students.name, Takes.grade\n",
    "        FROM Students LEFT JOIN Takes \n",
    "        ON Students.gtid = Takes.gtid\n",
    "        '''\n",
    "\n",
    "# Executes your `query` string:\n",
    "c.execute(query)\n",
    "matches = c.fetchall()\n",
    "for i, match in enumerate(matches):\n",
    "    print(i, \"->\", match)"
   ]
  },
  {
   "cell_type": "code",
   "execution_count": 18,
   "metadata": {
    "deletable": false,
    "editable": false,
    "nbgrader": {
     "grade": true,
     "grade_id": "left_join_test",
     "locked": true,
     "points": 2,
     "schema_version": 1,
     "solution": false
    }
   },
   "outputs": [
    {
     "name": "stdout",
     "output_type": "stream",
     "text": [
      "\n",
      "(Passed!)\n"
     ]
    }
   ],
   "source": [
    "# Test cell: `left_join_test`\n",
    "\n",
    "assert set(matches) == {('Vuduc', 4.0), ('Chau', 2.0), ('Park', None), ('Vuduc', 1.0), ('Chau', 3.0), ('Zha', None), ('Brown', None), ('Vetter', None), ('Vuduc', 3.0), ('Bader', None), ('Rozga', None), ('Chau', 4.0), ('Sokol', 4.0)}\n",
    "print(\"\\n(Passed!)\")"
   ]
  },
  {
   "cell_type": "markdown",
   "metadata": {
    "deletable": false,
    "editable": false,
    "nbgrader": {
     "grade": false,
     "locked": true,
     "solution": false
    },
    "nbpresent": {
     "id": "42844d75-fe64-44e9-81fd-971d31426c8c"
    }
   },
   "source": [
    "## Aggregations\n",
    "\n",
    "Another common style of query is an [_aggregation_](https://www.sqlite.org/lang_aggfunc.html), which is a summary of information across multiple records, rather than the raw records themselves.\n",
    "\n",
    "For instance, suppose we want to compute the average GPA for each unique GT ID from the `Takes` table. Here is a query that does it using `AVG` aggregator:"
   ]
  },
  {
   "cell_type": "code",
   "execution_count": 19,
   "metadata": {
    "nbpresent": {
     "id": "2d78b9ac-8a7d-4a89-99ae-86038d3184f5"
    }
   },
   "outputs": [
    {
     "name": "stdout",
     "output_type": "stream",
     "text": [
      "(123, 2.6666666666666665)\n",
      "(456, 3.0)\n",
      "(991, 4.0)\n"
     ]
    }
   ],
   "source": [
    "query = '''\n",
    "        SELECT gtid, AVG(grade)\n",
    "        FROM Takes \n",
    "        GROUP BY gtid\n",
    "'''\n",
    "\n",
    "for match in c.execute(query):\n",
    "    print(match)"
   ]
  },
  {
   "cell_type": "markdown",
   "metadata": {
    "deletable": false,
    "editable": false,
    "nbgrader": {
     "grade": false,
     "locked": true,
     "solution": false
    },
    "nbpresent": {
     "id": "173eeb1b-177c-4121-aaf2-5349eb2ee43a"
    }
   },
   "source": [
    "Some other useful SQL aggregators include `MIN`, `MAX`, `SUM`, and `COUNT`."
   ]
  },
  {
   "cell_type": "markdown",
   "metadata": {
    "deletable": false,
    "editable": false,
    "nbgrader": {
     "grade": false,
     "locked": true,
     "solution": false
    },
    "nbpresent": {
     "id": "4e2c8ddf-fca1-4b7f-ab11-ce70adcd4ca6"
    }
   },
   "source": [
    "## Cleanup\n",
    "\n",
    "As one final bit of information, it's good practice to shutdown the cursor and connection, the same way you close files."
   ]
  },
  {
   "cell_type": "code",
   "execution_count": 20,
   "metadata": {
    "collapsed": true,
    "nbgrader": {
     "grade": false,
     "grade_id": "cell-61f9b7c91d99417d",
     "locked": false,
     "schema_version": 1,
     "solution": false
    },
    "nbpresent": {
     "id": "a36899b0-ee8d-46a7-9aba-4a978c6ddd85"
    }
   },
   "outputs": [],
   "source": [
    "c.close()\n",
    "conn.close()"
   ]
  },
  {
   "cell_type": "markdown",
   "metadata": {
    "deletable": false,
    "editable": false,
    "nbgrader": {
     "grade": false,
     "grade_id": "cell-f72ae23344171e43",
     "locked": true,
     "schema_version": 1,
     "solution": false
    }
   },
   "source": [
    "**What next?** It's now a good time to look at a different tutorial which reviews this material and introduces some additional topics: [A thorough guide to SQLite database operations in Python](http://sebastianraschka.com/Articles/2014_sqlite_in_python_tutorial.html)."
   ]
  },
  {
   "cell_type": "code",
   "execution_count": null,
   "metadata": {
    "collapsed": true
   },
   "outputs": [],
   "source": []
  },
  {
   "cell_type": "code",
   "execution_count": null,
   "metadata": {
    "collapsed": true
   },
   "outputs": [],
   "source": []
  },
  {
   "cell_type": "code",
   "execution_count": 21,
   "metadata": {
    "collapsed": true
   },
   "outputs": [],
   "source": [
    "from IPython.display import display\n",
    "import pandas as pd\n",
    "import sqlite3 as db\n",
    "\n",
    "# Connect to o database (or creote one if it doesn't exist)\n",
    "conn = db.connect('example.db')\n",
    "\n",
    "df_students = pd.read_sql_query ('select * from Students',conn)\n",
    "df_takes = pd.read_sql_query ('select * from Takes',conn)"
   ]
  },
  {
   "cell_type": "code",
   "execution_count": 22,
   "metadata": {},
   "outputs": [
    {
     "data": {
      "text/html": [
       "<div>\n",
       "<style scoped>\n",
       "    .dataframe tbody tr th:only-of-type {\n",
       "        vertical-align: middle;\n",
       "    }\n",
       "\n",
       "    .dataframe tbody tr th {\n",
       "        vertical-align: top;\n",
       "    }\n",
       "\n",
       "    .dataframe thead th {\n",
       "        text-align: right;\n",
       "    }\n",
       "</style>\n",
       "<table border=\"1\" class=\"dataframe\">\n",
       "  <thead>\n",
       "    <tr style=\"text-align: right;\">\n",
       "      <th></th>\n",
       "      <th>gtid</th>\n",
       "      <th>name</th>\n",
       "    </tr>\n",
       "  </thead>\n",
       "  <tbody>\n",
       "    <tr>\n",
       "      <th>0</th>\n",
       "      <td>123</td>\n",
       "      <td>Vuduc</td>\n",
       "    </tr>\n",
       "    <tr>\n",
       "      <th>1</th>\n",
       "      <td>456</td>\n",
       "      <td>Chau</td>\n",
       "    </tr>\n",
       "    <tr>\n",
       "      <th>2</th>\n",
       "      <td>381</td>\n",
       "      <td>Bader</td>\n",
       "    </tr>\n",
       "    <tr>\n",
       "      <th>3</th>\n",
       "      <td>991</td>\n",
       "      <td>Sokol</td>\n",
       "    </tr>\n",
       "    <tr>\n",
       "      <th>4</th>\n",
       "      <td>723</td>\n",
       "      <td>Rozga</td>\n",
       "    </tr>\n",
       "    <tr>\n",
       "      <th>5</th>\n",
       "      <td>882</td>\n",
       "      <td>Zha</td>\n",
       "    </tr>\n",
       "    <tr>\n",
       "      <th>6</th>\n",
       "      <td>401</td>\n",
       "      <td>Park</td>\n",
       "    </tr>\n",
       "    <tr>\n",
       "      <th>7</th>\n",
       "      <td>377</td>\n",
       "      <td>Vetter</td>\n",
       "    </tr>\n",
       "    <tr>\n",
       "      <th>8</th>\n",
       "      <td>904</td>\n",
       "      <td>Brown</td>\n",
       "    </tr>\n",
       "  </tbody>\n",
       "</table>\n",
       "</div>"
      ],
      "text/plain": [
       "   gtid    name\n",
       "0   123   Vuduc\n",
       "1   456    Chau\n",
       "2   381   Bader\n",
       "3   991   Sokol\n",
       "4   723   Rozga\n",
       "5   882     Zha\n",
       "6   401    Park\n",
       "7   377  Vetter\n",
       "8   904   Brown"
      ]
     },
     "metadata": {},
     "output_type": "display_data"
    },
    {
     "data": {
      "text/html": [
       "<div>\n",
       "<style scoped>\n",
       "    .dataframe tbody tr th:only-of-type {\n",
       "        vertical-align: middle;\n",
       "    }\n",
       "\n",
       "    .dataframe tbody tr th {\n",
       "        vertical-align: top;\n",
       "    }\n",
       "\n",
       "    .dataframe thead th {\n",
       "        text-align: right;\n",
       "    }\n",
       "</style>\n",
       "<table border=\"1\" class=\"dataframe\">\n",
       "  <thead>\n",
       "    <tr style=\"text-align: right;\">\n",
       "      <th></th>\n",
       "      <th>gtid</th>\n",
       "      <th>course</th>\n",
       "      <th>grade</th>\n",
       "    </tr>\n",
       "  </thead>\n",
       "  <tbody>\n",
       "    <tr>\n",
       "      <th>0</th>\n",
       "      <td>123</td>\n",
       "      <td>CSE 6040</td>\n",
       "      <td>4.0</td>\n",
       "    </tr>\n",
       "    <tr>\n",
       "      <th>1</th>\n",
       "      <td>123</td>\n",
       "      <td>ISYE 6644</td>\n",
       "      <td>3.0</td>\n",
       "    </tr>\n",
       "    <tr>\n",
       "      <th>2</th>\n",
       "      <td>123</td>\n",
       "      <td>MGMT 8803</td>\n",
       "      <td>1.0</td>\n",
       "    </tr>\n",
       "    <tr>\n",
       "      <th>3</th>\n",
       "      <td>991</td>\n",
       "      <td>CSE 6040</td>\n",
       "      <td>4.0</td>\n",
       "    </tr>\n",
       "    <tr>\n",
       "      <th>4</th>\n",
       "      <td>991</td>\n",
       "      <td>ISYE 6740</td>\n",
       "      <td>4.0</td>\n",
       "    </tr>\n",
       "    <tr>\n",
       "      <th>5</th>\n",
       "      <td>456</td>\n",
       "      <td>CSE 6040</td>\n",
       "      <td>4.0</td>\n",
       "    </tr>\n",
       "    <tr>\n",
       "      <th>6</th>\n",
       "      <td>456</td>\n",
       "      <td>ISYE 6740</td>\n",
       "      <td>2.0</td>\n",
       "    </tr>\n",
       "    <tr>\n",
       "      <th>7</th>\n",
       "      <td>456</td>\n",
       "      <td>MGMT 8803</td>\n",
       "      <td>3.0</td>\n",
       "    </tr>\n",
       "  </tbody>\n",
       "</table>\n",
       "</div>"
      ],
      "text/plain": [
       "   gtid     course  grade\n",
       "0   123   CSE 6040    4.0\n",
       "1   123  ISYE 6644    3.0\n",
       "2   123  MGMT 8803    1.0\n",
       "3   991   CSE 6040    4.0\n",
       "4   991  ISYE 6740    4.0\n",
       "5   456   CSE 6040    4.0\n",
       "6   456  ISYE 6740    2.0\n",
       "7   456  MGMT 8803    3.0"
      ]
     },
     "metadata": {},
     "output_type": "display_data"
    }
   ],
   "source": [
    "display(df_students)\n",
    "display(df_takes)"
   ]
  },
  {
   "cell_type": "code",
   "execution_count": 23,
   "metadata": {},
   "outputs": [
    {
     "name": "stdout",
     "output_type": "stream",
     "text": [
      "#### SQL ####\n"
     ]
    },
    {
     "data": {
      "text/html": [
       "<div>\n",
       "<style scoped>\n",
       "    .dataframe tbody tr th:only-of-type {\n",
       "        vertical-align: middle;\n",
       "    }\n",
       "\n",
       "    .dataframe tbody tr th {\n",
       "        vertical-align: top;\n",
       "    }\n",
       "\n",
       "    .dataframe thead th {\n",
       "        text-align: right;\n",
       "    }\n",
       "</style>\n",
       "<table border=\"1\" class=\"dataframe\">\n",
       "  <thead>\n",
       "    <tr style=\"text-align: right;\">\n",
       "      <th></th>\n",
       "      <th>gtid</th>\n",
       "      <th>name</th>\n",
       "    </tr>\n",
       "  </thead>\n",
       "  <tbody>\n",
       "    <tr>\n",
       "      <th>0</th>\n",
       "      <td>123</td>\n",
       "      <td>Vuduc</td>\n",
       "    </tr>\n",
       "    <tr>\n",
       "      <th>1</th>\n",
       "      <td>456</td>\n",
       "      <td>Chau</td>\n",
       "    </tr>\n",
       "    <tr>\n",
       "      <th>2</th>\n",
       "      <td>381</td>\n",
       "      <td>Bader</td>\n",
       "    </tr>\n",
       "    <tr>\n",
       "      <th>3</th>\n",
       "      <td>991</td>\n",
       "      <td>Sokol</td>\n",
       "    </tr>\n",
       "    <tr>\n",
       "      <th>4</th>\n",
       "      <td>723</td>\n",
       "      <td>Rozga</td>\n",
       "    </tr>\n",
       "  </tbody>\n",
       "</table>\n",
       "</div>"
      ],
      "text/plain": [
       "   gtid   name\n",
       "0   123  Vuduc\n",
       "1   456   Chau\n",
       "2   381  Bader\n",
       "3   991  Sokol\n",
       "4   723  Rozga"
      ]
     },
     "metadata": {},
     "output_type": "display_data"
    },
    {
     "name": "stdout",
     "output_type": "stream",
     "text": [
      "#### Pandas DataFrame ####\n"
     ]
    },
    {
     "data": {
      "text/html": [
       "<div>\n",
       "<style scoped>\n",
       "    .dataframe tbody tr th:only-of-type {\n",
       "        vertical-align: middle;\n",
       "    }\n",
       "\n",
       "    .dataframe tbody tr th {\n",
       "        vertical-align: top;\n",
       "    }\n",
       "\n",
       "    .dataframe thead th {\n",
       "        text-align: right;\n",
       "    }\n",
       "</style>\n",
       "<table border=\"1\" class=\"dataframe\">\n",
       "  <thead>\n",
       "    <tr style=\"text-align: right;\">\n",
       "      <th></th>\n",
       "      <th>gtid</th>\n",
       "      <th>name</th>\n",
       "    </tr>\n",
       "  </thead>\n",
       "  <tbody>\n",
       "    <tr>\n",
       "      <th>0</th>\n",
       "      <td>123</td>\n",
       "      <td>Vuduc</td>\n",
       "    </tr>\n",
       "    <tr>\n",
       "      <th>1</th>\n",
       "      <td>456</td>\n",
       "      <td>Chau</td>\n",
       "    </tr>\n",
       "    <tr>\n",
       "      <th>2</th>\n",
       "      <td>381</td>\n",
       "      <td>Bader</td>\n",
       "    </tr>\n",
       "    <tr>\n",
       "      <th>3</th>\n",
       "      <td>991</td>\n",
       "      <td>Sokol</td>\n",
       "    </tr>\n",
       "    <tr>\n",
       "      <th>4</th>\n",
       "      <td>723</td>\n",
       "      <td>Rozga</td>\n",
       "    </tr>\n",
       "  </tbody>\n",
       "</table>\n",
       "</div>"
      ],
      "text/plain": [
       "   gtid   name\n",
       "0   123  Vuduc\n",
       "1   456   Chau\n",
       "2   381  Bader\n",
       "3   991  Sokol\n",
       "4   723  Rozga"
      ]
     },
     "metadata": {},
     "output_type": "display_data"
    }
   ],
   "source": [
    "# first n records\n",
    "print('#### SQL ####')\n",
    "db = pd.read_sql_query('select * from Students limit 5', conn)\n",
    "display(db)\n",
    "\n",
    "print('#### Pandas DataFrame ####')\n",
    "df = df_students.head(5)\n",
    "display(df)\n"
   ]
  },
  {
   "cell_type": "code",
   "execution_count": 24,
   "metadata": {},
   "outputs": [
    {
     "name": "stdout",
     "output_type": "stream",
     "text": [
      "#### SQL - will rename the index ####\n"
     ]
    },
    {
     "data": {
      "text/html": [
       "<div>\n",
       "<style scoped>\n",
       "    .dataframe tbody tr th:only-of-type {\n",
       "        vertical-align: middle;\n",
       "    }\n",
       "\n",
       "    .dataframe tbody tr th {\n",
       "        vertical-align: top;\n",
       "    }\n",
       "\n",
       "    .dataframe thead th {\n",
       "        text-align: right;\n",
       "    }\n",
       "</style>\n",
       "<table border=\"1\" class=\"dataframe\">\n",
       "  <thead>\n",
       "    <tr style=\"text-align: right;\">\n",
       "      <th></th>\n",
       "      <th>gtid</th>\n",
       "      <th>course</th>\n",
       "      <th>grade</th>\n",
       "    </tr>\n",
       "  </thead>\n",
       "  <tbody>\n",
       "    <tr>\n",
       "      <th>0</th>\n",
       "      <td>123</td>\n",
       "      <td>CSE 6040</td>\n",
       "      <td>4.0</td>\n",
       "    </tr>\n",
       "    <tr>\n",
       "      <th>1</th>\n",
       "      <td>991</td>\n",
       "      <td>CSE 6040</td>\n",
       "      <td>4.0</td>\n",
       "    </tr>\n",
       "    <tr>\n",
       "      <th>2</th>\n",
       "      <td>456</td>\n",
       "      <td>CSE 6040</td>\n",
       "      <td>4.0</td>\n",
       "    </tr>\n",
       "  </tbody>\n",
       "</table>\n",
       "</div>"
      ],
      "text/plain": [
       "   gtid    course  grade\n",
       "0   123  CSE 6040    4.0\n",
       "1   991  CSE 6040    4.0\n",
       "2   456  CSE 6040    4.0"
      ]
     },
     "metadata": {},
     "output_type": "display_data"
    },
    {
     "name": "stdout",
     "output_type": "stream",
     "text": [
      "#### Pandas DataFrame - will keep original index####\n"
     ]
    },
    {
     "data": {
      "text/html": [
       "<div>\n",
       "<style scoped>\n",
       "    .dataframe tbody tr th:only-of-type {\n",
       "        vertical-align: middle;\n",
       "    }\n",
       "\n",
       "    .dataframe tbody tr th {\n",
       "        vertical-align: top;\n",
       "    }\n",
       "\n",
       "    .dataframe thead th {\n",
       "        text-align: right;\n",
       "    }\n",
       "</style>\n",
       "<table border=\"1\" class=\"dataframe\">\n",
       "  <thead>\n",
       "    <tr style=\"text-align: right;\">\n",
       "      <th></th>\n",
       "      <th>gtid</th>\n",
       "      <th>course</th>\n",
       "      <th>grade</th>\n",
       "    </tr>\n",
       "  </thead>\n",
       "  <tbody>\n",
       "    <tr>\n",
       "      <th>0</th>\n",
       "      <td>123</td>\n",
       "      <td>CSE 6040</td>\n",
       "      <td>4.0</td>\n",
       "    </tr>\n",
       "    <tr>\n",
       "      <th>3</th>\n",
       "      <td>991</td>\n",
       "      <td>CSE 6040</td>\n",
       "      <td>4.0</td>\n",
       "    </tr>\n",
       "    <tr>\n",
       "      <th>5</th>\n",
       "      <td>456</td>\n",
       "      <td>CSE 6040</td>\n",
       "      <td>4.0</td>\n",
       "    </tr>\n",
       "  </tbody>\n",
       "</table>\n",
       "</div>"
      ],
      "text/plain": [
       "   gtid    course  grade\n",
       "0   123  CSE 6040    4.0\n",
       "3   991  CSE 6040    4.0\n",
       "5   456  CSE 6040    4.0"
      ]
     },
     "metadata": {},
     "output_type": "display_data"
    }
   ],
   "source": [
    "# filter records\n",
    "print('#### SQL - will rename the index ####')\n",
    "db = pd.read_sql_query(\"select * from Takes WHERE course = 'CSE 6040'\", conn)\n",
    "display(db)\n",
    "\n",
    "print('#### Pandas DataFrame - will keep original index####')\n",
    "df = df_takes[df_takes['course']=='CSE 6040']\n",
    "display(df)"
   ]
  },
  {
   "cell_type": "code",
   "execution_count": 25,
   "metadata": {},
   "outputs": [
    {
     "name": "stdout",
     "output_type": "stream",
     "text": [
      "#### SQL - will rename the index ####\n"
     ]
    },
    {
     "data": {
      "text/html": [
       "<div>\n",
       "<style scoped>\n",
       "    .dataframe tbody tr th:only-of-type {\n",
       "        vertical-align: middle;\n",
       "    }\n",
       "\n",
       "    .dataframe tbody tr th {\n",
       "        vertical-align: top;\n",
       "    }\n",
       "\n",
       "    .dataframe thead th {\n",
       "        text-align: right;\n",
       "    }\n",
       "</style>\n",
       "<table border=\"1\" class=\"dataframe\">\n",
       "  <thead>\n",
       "    <tr style=\"text-align: right;\">\n",
       "      <th></th>\n",
       "      <th>gtid</th>\n",
       "      <th>course</th>\n",
       "      <th>grade</th>\n",
       "    </tr>\n",
       "  </thead>\n",
       "  <tbody>\n",
       "    <tr>\n",
       "      <th>0</th>\n",
       "      <td>123</td>\n",
       "      <td>CSE 6040</td>\n",
       "      <td>4.0</td>\n",
       "    </tr>\n",
       "    <tr>\n",
       "      <th>1</th>\n",
       "      <td>123</td>\n",
       "      <td>MGMT 8803</td>\n",
       "      <td>1.0</td>\n",
       "    </tr>\n",
       "    <tr>\n",
       "      <th>2</th>\n",
       "      <td>991</td>\n",
       "      <td>CSE 6040</td>\n",
       "      <td>4.0</td>\n",
       "    </tr>\n",
       "    <tr>\n",
       "      <th>3</th>\n",
       "      <td>456</td>\n",
       "      <td>CSE 6040</td>\n",
       "      <td>4.0</td>\n",
       "    </tr>\n",
       "    <tr>\n",
       "      <th>4</th>\n",
       "      <td>456</td>\n",
       "      <td>MGMT 8803</td>\n",
       "      <td>3.0</td>\n",
       "    </tr>\n",
       "  </tbody>\n",
       "</table>\n",
       "</div>"
      ],
      "text/plain": [
       "   gtid     course  grade\n",
       "0   123   CSE 6040    4.0\n",
       "1   123  MGMT 8803    1.0\n",
       "2   991   CSE 6040    4.0\n",
       "3   456   CSE 6040    4.0\n",
       "4   456  MGMT 8803    3.0"
      ]
     },
     "metadata": {},
     "output_type": "display_data"
    },
    {
     "name": "stdout",
     "output_type": "stream",
     "text": [
      "#### Pandas DataFrame - will keep original index ####\n"
     ]
    },
    {
     "data": {
      "text/html": [
       "<div>\n",
       "<style scoped>\n",
       "    .dataframe tbody tr th:only-of-type {\n",
       "        vertical-align: middle;\n",
       "    }\n",
       "\n",
       "    .dataframe tbody tr th {\n",
       "        vertical-align: top;\n",
       "    }\n",
       "\n",
       "    .dataframe thead th {\n",
       "        text-align: right;\n",
       "    }\n",
       "</style>\n",
       "<table border=\"1\" class=\"dataframe\">\n",
       "  <thead>\n",
       "    <tr style=\"text-align: right;\">\n",
       "      <th></th>\n",
       "      <th>gtid</th>\n",
       "      <th>course</th>\n",
       "      <th>grade</th>\n",
       "    </tr>\n",
       "  </thead>\n",
       "  <tbody>\n",
       "    <tr>\n",
       "      <th>0</th>\n",
       "      <td>123</td>\n",
       "      <td>CSE 6040</td>\n",
       "      <td>4.0</td>\n",
       "    </tr>\n",
       "    <tr>\n",
       "      <th>3</th>\n",
       "      <td>991</td>\n",
       "      <td>CSE 6040</td>\n",
       "      <td>4.0</td>\n",
       "    </tr>\n",
       "    <tr>\n",
       "      <th>5</th>\n",
       "      <td>456</td>\n",
       "      <td>CSE 6040</td>\n",
       "      <td>4.0</td>\n",
       "    </tr>\n",
       "  </tbody>\n",
       "</table>\n",
       "</div>"
      ],
      "text/plain": [
       "   gtid    course  grade\n",
       "0   123  CSE 6040    4.0\n",
       "3   991  CSE 6040    4.0\n",
       "5   456  CSE 6040    4.0"
      ]
     },
     "metadata": {},
     "output_type": "display_data"
    }
   ],
   "source": [
    "# filter records IN\n",
    "print('#### SQL - will rename the index ####')\n",
    "db = pd.read_sql_query(\"select * from Takes WHERE course IN ('CSE 6040', 'MGMT 8803')\", conn)\n",
    "display(db)\n",
    "\n",
    "print('#### Pandas DataFrame - will keep original index ####')\n",
    "df = df_takes[df_takes['course'].isin(['CSE 6040'])]\n",
    "display(df)"
   ]
  },
  {
   "cell_type": "code",
   "execution_count": 26,
   "metadata": {},
   "outputs": [
    {
     "name": "stdout",
     "output_type": "stream",
     "text": [
      "#### SQL - will rename the index ####\n"
     ]
    },
    {
     "data": {
      "text/html": [
       "<div>\n",
       "<style scoped>\n",
       "    .dataframe tbody tr th:only-of-type {\n",
       "        vertical-align: middle;\n",
       "    }\n",
       "\n",
       "    .dataframe tbody tr th {\n",
       "        vertical-align: top;\n",
       "    }\n",
       "\n",
       "    .dataframe thead th {\n",
       "        text-align: right;\n",
       "    }\n",
       "</style>\n",
       "<table border=\"1\" class=\"dataframe\">\n",
       "  <thead>\n",
       "    <tr style=\"text-align: right;\">\n",
       "      <th></th>\n",
       "      <th>gtid</th>\n",
       "      <th>course</th>\n",
       "      <th>grade</th>\n",
       "    </tr>\n",
       "  </thead>\n",
       "  <tbody>\n",
       "    <tr>\n",
       "      <th>0</th>\n",
       "      <td>123</td>\n",
       "      <td>CSE 6040</td>\n",
       "      <td>4.0</td>\n",
       "    </tr>\n",
       "    <tr>\n",
       "      <th>1</th>\n",
       "      <td>991</td>\n",
       "      <td>CSE 6040</td>\n",
       "      <td>4.0</td>\n",
       "    </tr>\n",
       "    <tr>\n",
       "      <th>2</th>\n",
       "      <td>991</td>\n",
       "      <td>ISYE 6740</td>\n",
       "      <td>4.0</td>\n",
       "    </tr>\n",
       "    <tr>\n",
       "      <th>3</th>\n",
       "      <td>456</td>\n",
       "      <td>CSE 6040</td>\n",
       "      <td>4.0</td>\n",
       "    </tr>\n",
       "    <tr>\n",
       "      <th>4</th>\n",
       "      <td>123</td>\n",
       "      <td>ISYE 6644</td>\n",
       "      <td>3.0</td>\n",
       "    </tr>\n",
       "    <tr>\n",
       "      <th>5</th>\n",
       "      <td>456</td>\n",
       "      <td>MGMT 8803</td>\n",
       "      <td>3.0</td>\n",
       "    </tr>\n",
       "    <tr>\n",
       "      <th>6</th>\n",
       "      <td>456</td>\n",
       "      <td>ISYE 6740</td>\n",
       "      <td>2.0</td>\n",
       "    </tr>\n",
       "    <tr>\n",
       "      <th>7</th>\n",
       "      <td>123</td>\n",
       "      <td>MGMT 8803</td>\n",
       "      <td>1.0</td>\n",
       "    </tr>\n",
       "  </tbody>\n",
       "</table>\n",
       "</div>"
      ],
      "text/plain": [
       "   gtid     course  grade\n",
       "0   123   CSE 6040    4.0\n",
       "1   991   CSE 6040    4.0\n",
       "2   991  ISYE 6740    4.0\n",
       "3   456   CSE 6040    4.0\n",
       "4   123  ISYE 6644    3.0\n",
       "5   456  MGMT 8803    3.0\n",
       "6   456  ISYE 6740    2.0\n",
       "7   123  MGMT 8803    1.0"
      ]
     },
     "metadata": {},
     "output_type": "display_data"
    },
    {
     "name": "stdout",
     "output_type": "stream",
     "text": [
      "#### Pandas DataFrame - will keep original index ####\n"
     ]
    },
    {
     "data": {
      "text/html": [
       "<div>\n",
       "<style scoped>\n",
       "    .dataframe tbody tr th:only-of-type {\n",
       "        vertical-align: middle;\n",
       "    }\n",
       "\n",
       "    .dataframe tbody tr th {\n",
       "        vertical-align: top;\n",
       "    }\n",
       "\n",
       "    .dataframe thead th {\n",
       "        text-align: right;\n",
       "    }\n",
       "</style>\n",
       "<table border=\"1\" class=\"dataframe\">\n",
       "  <thead>\n",
       "    <tr style=\"text-align: right;\">\n",
       "      <th></th>\n",
       "      <th>gtid</th>\n",
       "      <th>course</th>\n",
       "      <th>grade</th>\n",
       "    </tr>\n",
       "  </thead>\n",
       "  <tbody>\n",
       "    <tr>\n",
       "      <th>0</th>\n",
       "      <td>123</td>\n",
       "      <td>CSE 6040</td>\n",
       "      <td>4.0</td>\n",
       "    </tr>\n",
       "    <tr>\n",
       "      <th>3</th>\n",
       "      <td>991</td>\n",
       "      <td>CSE 6040</td>\n",
       "      <td>4.0</td>\n",
       "    </tr>\n",
       "    <tr>\n",
       "      <th>4</th>\n",
       "      <td>991</td>\n",
       "      <td>ISYE 6740</td>\n",
       "      <td>4.0</td>\n",
       "    </tr>\n",
       "    <tr>\n",
       "      <th>5</th>\n",
       "      <td>456</td>\n",
       "      <td>CSE 6040</td>\n",
       "      <td>4.0</td>\n",
       "    </tr>\n",
       "    <tr>\n",
       "      <th>1</th>\n",
       "      <td>123</td>\n",
       "      <td>ISYE 6644</td>\n",
       "      <td>3.0</td>\n",
       "    </tr>\n",
       "    <tr>\n",
       "      <th>7</th>\n",
       "      <td>456</td>\n",
       "      <td>MGMT 8803</td>\n",
       "      <td>3.0</td>\n",
       "    </tr>\n",
       "    <tr>\n",
       "      <th>6</th>\n",
       "      <td>456</td>\n",
       "      <td>ISYE 6740</td>\n",
       "      <td>2.0</td>\n",
       "    </tr>\n",
       "    <tr>\n",
       "      <th>2</th>\n",
       "      <td>123</td>\n",
       "      <td>MGMT 8803</td>\n",
       "      <td>1.0</td>\n",
       "    </tr>\n",
       "  </tbody>\n",
       "</table>\n",
       "</div>"
      ],
      "text/plain": [
       "   gtid     course  grade\n",
       "0   123   CSE 6040    4.0\n",
       "3   991   CSE 6040    4.0\n",
       "4   991  ISYE 6740    4.0\n",
       "5   456   CSE 6040    4.0\n",
       "1   123  ISYE 6644    3.0\n",
       "7   456  MGMT 8803    3.0\n",
       "6   456  ISYE 6740    2.0\n",
       "2   123  MGMT 8803    1.0"
      ]
     },
     "metadata": {},
     "output_type": "display_data"
    }
   ],
   "source": [
    "# sort values\n",
    "print('#### SQL - will rename the index ####')\n",
    "# desc = big -> small\n",
    "db = pd.read_sql_query(\"select * from Takes ORDER BY grade desc\", conn)\n",
    "display(db)\n",
    "\n",
    "print('#### Pandas DataFrame - will keep original index ####')\n",
    "df = df_takes.sort_values('grade', ascending = False)\n",
    "display(df)"
   ]
  },
  {
   "cell_type": "code",
   "execution_count": 27,
   "metadata": {},
   "outputs": [
    {
     "name": "stdout",
     "output_type": "stream",
     "text": [
      "#### SQL - will rename the index ####\n"
     ]
    },
    {
     "data": {
      "text/html": [
       "<div>\n",
       "<style scoped>\n",
       "    .dataframe tbody tr th:only-of-type {\n",
       "        vertical-align: middle;\n",
       "    }\n",
       "\n",
       "    .dataframe tbody tr th {\n",
       "        vertical-align: top;\n",
       "    }\n",
       "\n",
       "    .dataframe thead th {\n",
       "        text-align: right;\n",
       "    }\n",
       "</style>\n",
       "<table border=\"1\" class=\"dataframe\">\n",
       "  <thead>\n",
       "    <tr style=\"text-align: right;\">\n",
       "      <th></th>\n",
       "      <th>course</th>\n",
       "    </tr>\n",
       "  </thead>\n",
       "  <tbody>\n",
       "    <tr>\n",
       "      <th>0</th>\n",
       "      <td>CSE 6040</td>\n",
       "    </tr>\n",
       "    <tr>\n",
       "      <th>1</th>\n",
       "      <td>ISYE 6644</td>\n",
       "    </tr>\n",
       "    <tr>\n",
       "      <th>2</th>\n",
       "      <td>MGMT 8803</td>\n",
       "    </tr>\n",
       "    <tr>\n",
       "      <th>3</th>\n",
       "      <td>ISYE 6740</td>\n",
       "    </tr>\n",
       "  </tbody>\n",
       "</table>\n",
       "</div>"
      ],
      "text/plain": [
       "      course\n",
       "0   CSE 6040\n",
       "1  ISYE 6644\n",
       "2  MGMT 8803\n",
       "3  ISYE 6740"
      ]
     },
     "metadata": {},
     "output_type": "display_data"
    },
    {
     "name": "stdout",
     "output_type": "stream",
     "text": [
      "#### Pandas DataFrame - will keep original index ####\n"
     ]
    },
    {
     "data": {
      "text/plain": [
       "array(['CSE 6040', 'ISYE 6644', 'MGMT 8803', 'ISYE 6740'], dtype=object)"
      ]
     },
     "metadata": {},
     "output_type": "display_data"
    }
   ],
   "source": [
    "# unique values\n",
    "print('#### SQL - will rename the index ####')\n",
    "db = pd.read_sql_query(\"select DISTINCT course from Takes\", conn)\n",
    "display(db)\n",
    "\n",
    "print('#### Pandas DataFrame - will keep original index ####')\n",
    "df = df_takes['course'].unique()\n",
    "display(df)"
   ]
  },
  {
   "cell_type": "code",
   "execution_count": 40,
   "metadata": {},
   "outputs": [
    {
     "name": "stdout",
     "output_type": "stream",
     "text": [
      "#### SQL - will rename the index ####\n"
     ]
    },
    {
     "data": {
      "text/html": [
       "<div>\n",
       "<style scoped>\n",
       "    .dataframe tbody tr th:only-of-type {\n",
       "        vertical-align: middle;\n",
       "    }\n",
       "\n",
       "    .dataframe tbody tr th {\n",
       "        vertical-align: top;\n",
       "    }\n",
       "\n",
       "    .dataframe thead th {\n",
       "        text-align: right;\n",
       "    }\n",
       "</style>\n",
       "<table border=\"1\" class=\"dataframe\">\n",
       "  <thead>\n",
       "    <tr style=\"text-align: right;\">\n",
       "      <th></th>\n",
       "      <th>course</th>\n",
       "      <th>course_count</th>\n",
       "    </tr>\n",
       "  </thead>\n",
       "  <tbody>\n",
       "    <tr>\n",
       "      <th>0</th>\n",
       "      <td>CSE 6040</td>\n",
       "      <td>3</td>\n",
       "    </tr>\n",
       "    <tr>\n",
       "      <th>1</th>\n",
       "      <td>MGMT 8803</td>\n",
       "      <td>2</td>\n",
       "    </tr>\n",
       "    <tr>\n",
       "      <th>2</th>\n",
       "      <td>ISYE 6740</td>\n",
       "      <td>2</td>\n",
       "    </tr>\n",
       "    <tr>\n",
       "      <th>3</th>\n",
       "      <td>ISYE 6644</td>\n",
       "      <td>1</td>\n",
       "    </tr>\n",
       "  </tbody>\n",
       "</table>\n",
       "</div>"
      ],
      "text/plain": [
       "      course  course_count\n",
       "0   CSE 6040             3\n",
       "1  MGMT 8803             2\n",
       "2  ISYE 6740             2\n",
       "3  ISYE 6644             1"
      ]
     },
     "metadata": {},
     "output_type": "display_data"
    },
    {
     "name": "stdout",
     "output_type": "stream",
     "text": [
      "#### Pandas DataFrame - will keep original index ####\n"
     ]
    },
    {
     "data": {
      "text/plain": [
       "CSE 6040     3\n",
       "MGMT 8803    2\n",
       "ISYE 6740    2\n",
       "ISYE 6644    1\n",
       "Name: course, dtype: int64"
      ]
     },
     "metadata": {},
     "output_type": "display_data"
    }
   ],
   "source": [
    "# value counts\n",
    "\n",
    "print('#### SQL - will rename the index ####')\n",
    "sql = '''\n",
    "        select course, count(*) as course_count \n",
    "        from Takes \n",
    "        Group by course \n",
    "        order by course_count desc\n",
    "     '''\n",
    "\n",
    "\n",
    "db = pd.read_sql_query(sql, conn)\n",
    "display(db)\n",
    "\n",
    "print('#### Pandas DataFrame - will keep original index ####')\n",
    "df = df_takes['course'].value_counts()\n",
    "display(df)"
   ]
  },
  {
   "cell_type": "code",
   "execution_count": 30,
   "metadata": {},
   "outputs": [
    {
     "name": "stdout",
     "output_type": "stream",
     "text": [
      "#### SQL - will rename the index ####\n"
     ]
    },
    {
     "data": {
      "text/html": [
       "<div>\n",
       "<style scoped>\n",
       "    .dataframe tbody tr th:only-of-type {\n",
       "        vertical-align: middle;\n",
       "    }\n",
       "\n",
       "    .dataframe tbody tr th {\n",
       "        vertical-align: top;\n",
       "    }\n",
       "\n",
       "    .dataframe thead th {\n",
       "        text-align: right;\n",
       "    }\n",
       "</style>\n",
       "<table border=\"1\" class=\"dataframe\">\n",
       "  <thead>\n",
       "    <tr style=\"text-align: right;\">\n",
       "      <th></th>\n",
       "      <th>course</th>\n",
       "      <th>grade_sum</th>\n",
       "    </tr>\n",
       "  </thead>\n",
       "  <tbody>\n",
       "    <tr>\n",
       "      <th>0</th>\n",
       "      <td>CSE 6040</td>\n",
       "      <td>12.0</td>\n",
       "    </tr>\n",
       "    <tr>\n",
       "      <th>1</th>\n",
       "      <td>ISYE 6644</td>\n",
       "      <td>3.0</td>\n",
       "    </tr>\n",
       "    <tr>\n",
       "      <th>2</th>\n",
       "      <td>ISYE 6740</td>\n",
       "      <td>6.0</td>\n",
       "    </tr>\n",
       "    <tr>\n",
       "      <th>3</th>\n",
       "      <td>MGMT 8803</td>\n",
       "      <td>4.0</td>\n",
       "    </tr>\n",
       "  </tbody>\n",
       "</table>\n",
       "</div>"
      ],
      "text/plain": [
       "      course  grade_sum\n",
       "0   CSE 6040       12.0\n",
       "1  ISYE 6644        3.0\n",
       "2  ISYE 6740        6.0\n",
       "3  MGMT 8803        4.0"
      ]
     },
     "metadata": {},
     "output_type": "display_data"
    },
    {
     "name": "stdout",
     "output_type": "stream",
     "text": [
      "#### Pandas DataFrame - will keep original index ####\n"
     ]
    },
    {
     "data": {
      "text/plain": [
       "course\n",
       "CSE 6040     12.0\n",
       "ISYE 6644     3.0\n",
       "ISYE 6740     6.0\n",
       "MGMT 8803     4.0\n",
       "Name: grade, dtype: float64"
      ]
     },
     "metadata": {},
     "output_type": "display_data"
    }
   ],
   "source": [
    "# group by sum\n",
    "\n",
    "print('#### SQL - will rename the index ####')\n",
    "sql = '''\n",
    "       select course, sum(grade) as grade_sum\\\n",
    "       from Takes \\\n",
    "       group by course\n",
    "    '''\n",
    "db = pd.read_sql_query(sql, conn)\n",
    "display(db)\n",
    "\n",
    "print('#### Pandas DataFrame - will keep original index ####')\n",
    "df = df_takes.groupby('course')['grade'].sum()\n",
    "display(df)\n",
    "\n",
    "# group by max\n",
    "\n",
    "# print('#### SQL - will rename the index ####')\n",
    "# sql = '''select course, MAX(grade) as grade_sum\n",
    "#        from Takes \n",
    "#        group by course'''\n",
    "# db = pd.read_sql_query(sql, conn)\n",
    "# display(db)\n",
    "\n",
    "# print('#### Pandas DataFrame - will keep original index ####')\n",
    "# df = df_takes.groupby('course')['grade'].max()\n",
    "# display(df)"
   ]
  },
  {
   "cell_type": "code",
   "execution_count": 41,
   "metadata": {},
   "outputs": [
    {
     "name": "stdout",
     "output_type": "stream",
     "text": [
      "#### SQL - will rename the index ####\n"
     ]
    },
    {
     "data": {
      "text/html": [
       "<div>\n",
       "<style scoped>\n",
       "    .dataframe tbody tr th:only-of-type {\n",
       "        vertical-align: middle;\n",
       "    }\n",
       "\n",
       "    .dataframe tbody tr th {\n",
       "        vertical-align: top;\n",
       "    }\n",
       "\n",
       "    .dataframe thead th {\n",
       "        text-align: right;\n",
       "    }\n",
       "</style>\n",
       "<table border=\"1\" class=\"dataframe\">\n",
       "  <thead>\n",
       "    <tr style=\"text-align: right;\">\n",
       "      <th></th>\n",
       "      <th>gtid</th>\n",
       "      <th>name</th>\n",
       "      <th>gtid</th>\n",
       "      <th>course</th>\n",
       "      <th>grade</th>\n",
       "    </tr>\n",
       "  </thead>\n",
       "  <tbody>\n",
       "    <tr>\n",
       "      <th>0</th>\n",
       "      <td>123</td>\n",
       "      <td>Vuduc</td>\n",
       "      <td>123.0</td>\n",
       "      <td>CSE 6040</td>\n",
       "      <td>4.0</td>\n",
       "    </tr>\n",
       "    <tr>\n",
       "      <th>1</th>\n",
       "      <td>123</td>\n",
       "      <td>Vuduc</td>\n",
       "      <td>123.0</td>\n",
       "      <td>ISYE 6644</td>\n",
       "      <td>3.0</td>\n",
       "    </tr>\n",
       "    <tr>\n",
       "      <th>2</th>\n",
       "      <td>123</td>\n",
       "      <td>Vuduc</td>\n",
       "      <td>123.0</td>\n",
       "      <td>MGMT 8803</td>\n",
       "      <td>1.0</td>\n",
       "    </tr>\n",
       "    <tr>\n",
       "      <th>3</th>\n",
       "      <td>456</td>\n",
       "      <td>Chau</td>\n",
       "      <td>456.0</td>\n",
       "      <td>CSE 6040</td>\n",
       "      <td>4.0</td>\n",
       "    </tr>\n",
       "    <tr>\n",
       "      <th>4</th>\n",
       "      <td>456</td>\n",
       "      <td>Chau</td>\n",
       "      <td>456.0</td>\n",
       "      <td>ISYE 6740</td>\n",
       "      <td>2.0</td>\n",
       "    </tr>\n",
       "    <tr>\n",
       "      <th>5</th>\n",
       "      <td>456</td>\n",
       "      <td>Chau</td>\n",
       "      <td>456.0</td>\n",
       "      <td>MGMT 8803</td>\n",
       "      <td>3.0</td>\n",
       "    </tr>\n",
       "    <tr>\n",
       "      <th>6</th>\n",
       "      <td>381</td>\n",
       "      <td>Bader</td>\n",
       "      <td>NaN</td>\n",
       "      <td>None</td>\n",
       "      <td>NaN</td>\n",
       "    </tr>\n",
       "    <tr>\n",
       "      <th>7</th>\n",
       "      <td>991</td>\n",
       "      <td>Sokol</td>\n",
       "      <td>991.0</td>\n",
       "      <td>CSE 6040</td>\n",
       "      <td>4.0</td>\n",
       "    </tr>\n",
       "    <tr>\n",
       "      <th>8</th>\n",
       "      <td>991</td>\n",
       "      <td>Sokol</td>\n",
       "      <td>991.0</td>\n",
       "      <td>ISYE 6740</td>\n",
       "      <td>4.0</td>\n",
       "    </tr>\n",
       "    <tr>\n",
       "      <th>9</th>\n",
       "      <td>723</td>\n",
       "      <td>Rozga</td>\n",
       "      <td>NaN</td>\n",
       "      <td>None</td>\n",
       "      <td>NaN</td>\n",
       "    </tr>\n",
       "    <tr>\n",
       "      <th>10</th>\n",
       "      <td>882</td>\n",
       "      <td>Zha</td>\n",
       "      <td>NaN</td>\n",
       "      <td>None</td>\n",
       "      <td>NaN</td>\n",
       "    </tr>\n",
       "    <tr>\n",
       "      <th>11</th>\n",
       "      <td>401</td>\n",
       "      <td>Park</td>\n",
       "      <td>NaN</td>\n",
       "      <td>None</td>\n",
       "      <td>NaN</td>\n",
       "    </tr>\n",
       "    <tr>\n",
       "      <th>12</th>\n",
       "      <td>377</td>\n",
       "      <td>Vetter</td>\n",
       "      <td>NaN</td>\n",
       "      <td>None</td>\n",
       "      <td>NaN</td>\n",
       "    </tr>\n",
       "    <tr>\n",
       "      <th>13</th>\n",
       "      <td>904</td>\n",
       "      <td>Brown</td>\n",
       "      <td>NaN</td>\n",
       "      <td>None</td>\n",
       "      <td>NaN</td>\n",
       "    </tr>\n",
       "  </tbody>\n",
       "</table>\n",
       "</div>"
      ],
      "text/plain": [
       "    gtid    name   gtid     course  grade\n",
       "0    123   Vuduc  123.0   CSE 6040    4.0\n",
       "1    123   Vuduc  123.0  ISYE 6644    3.0\n",
       "2    123   Vuduc  123.0  MGMT 8803    1.0\n",
       "3    456    Chau  456.0   CSE 6040    4.0\n",
       "4    456    Chau  456.0  ISYE 6740    2.0\n",
       "5    456    Chau  456.0  MGMT 8803    3.0\n",
       "6    381   Bader    NaN       None    NaN\n",
       "7    991   Sokol  991.0   CSE 6040    4.0\n",
       "8    991   Sokol  991.0  ISYE 6740    4.0\n",
       "9    723   Rozga    NaN       None    NaN\n",
       "10   882     Zha    NaN       None    NaN\n",
       "11   401    Park    NaN       None    NaN\n",
       "12   377  Vetter    NaN       None    NaN\n",
       "13   904   Brown    NaN       None    NaN"
      ]
     },
     "metadata": {},
     "output_type": "display_data"
    },
    {
     "name": "stdout",
     "output_type": "stream",
     "text": [
      "#### Pandas DataFrame - will keep original index ####\n"
     ]
    },
    {
     "data": {
      "text/html": [
       "<div>\n",
       "<style scoped>\n",
       "    .dataframe tbody tr th:only-of-type {\n",
       "        vertical-align: middle;\n",
       "    }\n",
       "\n",
       "    .dataframe tbody tr th {\n",
       "        vertical-align: top;\n",
       "    }\n",
       "\n",
       "    .dataframe thead th {\n",
       "        text-align: right;\n",
       "    }\n",
       "</style>\n",
       "<table border=\"1\" class=\"dataframe\">\n",
       "  <thead>\n",
       "    <tr style=\"text-align: right;\">\n",
       "      <th></th>\n",
       "      <th>gtid</th>\n",
       "      <th>name</th>\n",
       "      <th>course</th>\n",
       "      <th>grade</th>\n",
       "    </tr>\n",
       "  </thead>\n",
       "  <tbody>\n",
       "    <tr>\n",
       "      <th>0</th>\n",
       "      <td>123</td>\n",
       "      <td>Vuduc</td>\n",
       "      <td>CSE 6040</td>\n",
       "      <td>4.0</td>\n",
       "    </tr>\n",
       "    <tr>\n",
       "      <th>1</th>\n",
       "      <td>123</td>\n",
       "      <td>Vuduc</td>\n",
       "      <td>ISYE 6644</td>\n",
       "      <td>3.0</td>\n",
       "    </tr>\n",
       "    <tr>\n",
       "      <th>2</th>\n",
       "      <td>123</td>\n",
       "      <td>Vuduc</td>\n",
       "      <td>MGMT 8803</td>\n",
       "      <td>1.0</td>\n",
       "    </tr>\n",
       "    <tr>\n",
       "      <th>3</th>\n",
       "      <td>456</td>\n",
       "      <td>Chau</td>\n",
       "      <td>CSE 6040</td>\n",
       "      <td>4.0</td>\n",
       "    </tr>\n",
       "    <tr>\n",
       "      <th>4</th>\n",
       "      <td>456</td>\n",
       "      <td>Chau</td>\n",
       "      <td>ISYE 6740</td>\n",
       "      <td>2.0</td>\n",
       "    </tr>\n",
       "    <tr>\n",
       "      <th>5</th>\n",
       "      <td>456</td>\n",
       "      <td>Chau</td>\n",
       "      <td>MGMT 8803</td>\n",
       "      <td>3.0</td>\n",
       "    </tr>\n",
       "    <tr>\n",
       "      <th>6</th>\n",
       "      <td>381</td>\n",
       "      <td>Bader</td>\n",
       "      <td>NaN</td>\n",
       "      <td>NaN</td>\n",
       "    </tr>\n",
       "    <tr>\n",
       "      <th>7</th>\n",
       "      <td>991</td>\n",
       "      <td>Sokol</td>\n",
       "      <td>CSE 6040</td>\n",
       "      <td>4.0</td>\n",
       "    </tr>\n",
       "    <tr>\n",
       "      <th>8</th>\n",
       "      <td>991</td>\n",
       "      <td>Sokol</td>\n",
       "      <td>ISYE 6740</td>\n",
       "      <td>4.0</td>\n",
       "    </tr>\n",
       "    <tr>\n",
       "      <th>9</th>\n",
       "      <td>723</td>\n",
       "      <td>Rozga</td>\n",
       "      <td>NaN</td>\n",
       "      <td>NaN</td>\n",
       "    </tr>\n",
       "    <tr>\n",
       "      <th>10</th>\n",
       "      <td>882</td>\n",
       "      <td>Zha</td>\n",
       "      <td>NaN</td>\n",
       "      <td>NaN</td>\n",
       "    </tr>\n",
       "    <tr>\n",
       "      <th>11</th>\n",
       "      <td>401</td>\n",
       "      <td>Park</td>\n",
       "      <td>NaN</td>\n",
       "      <td>NaN</td>\n",
       "    </tr>\n",
       "    <tr>\n",
       "      <th>12</th>\n",
       "      <td>377</td>\n",
       "      <td>Vetter</td>\n",
       "      <td>NaN</td>\n",
       "      <td>NaN</td>\n",
       "    </tr>\n",
       "    <tr>\n",
       "      <th>13</th>\n",
       "      <td>904</td>\n",
       "      <td>Brown</td>\n",
       "      <td>NaN</td>\n",
       "      <td>NaN</td>\n",
       "    </tr>\n",
       "  </tbody>\n",
       "</table>\n",
       "</div>"
      ],
      "text/plain": [
       "    gtid    name     course  grade\n",
       "0    123   Vuduc   CSE 6040    4.0\n",
       "1    123   Vuduc  ISYE 6644    3.0\n",
       "2    123   Vuduc  MGMT 8803    1.0\n",
       "3    456    Chau   CSE 6040    4.0\n",
       "4    456    Chau  ISYE 6740    2.0\n",
       "5    456    Chau  MGMT 8803    3.0\n",
       "6    381   Bader        NaN    NaN\n",
       "7    991   Sokol   CSE 6040    4.0\n",
       "8    991   Sokol  ISYE 6740    4.0\n",
       "9    723   Rozga        NaN    NaN\n",
       "10   882     Zha        NaN    NaN\n",
       "11   401    Park        NaN    NaN\n",
       "12   377  Vetter        NaN    NaN\n",
       "13   904   Brown        NaN    NaN"
      ]
     },
     "metadata": {},
     "output_type": "display_data"
    }
   ],
   "source": [
    "# join tables\n",
    "# the main one is Takes table\n",
    "print('#### SQL - will rename the index ####')\n",
    "sql = '''select t1.* , t2.* \n",
    "        from Students as t1 \n",
    "          LEFT JOIN Takes as t2 \n",
    "            ON t1.gtid = t2.gtid '''\n",
    "db = pd.read_sql_query(sql, conn)\n",
    "display(db)\n",
    "\n",
    "print('#### Pandas DataFrame - will keep original index ####')\n",
    "df = df_students.merge(df_takes, how = 'left', on = 'gtid')\n",
    "display(df)"
   ]
  },
  {
   "cell_type": "code",
   "execution_count": 38,
   "metadata": {},
   "outputs": [
    {
     "name": "stdout",
     "output_type": "stream",
     "text": [
      "#### SQL - will rename the index ####\n"
     ]
    },
    {
     "data": {
      "text/html": [
       "<div>\n",
       "<style scoped>\n",
       "    .dataframe tbody tr th:only-of-type {\n",
       "        vertical-align: middle;\n",
       "    }\n",
       "\n",
       "    .dataframe tbody tr th {\n",
       "        vertical-align: top;\n",
       "    }\n",
       "\n",
       "    .dataframe thead th {\n",
       "        text-align: right;\n",
       "    }\n",
       "</style>\n",
       "<table border=\"1\" class=\"dataframe\">\n",
       "  <thead>\n",
       "    <tr style=\"text-align: right;\">\n",
       "      <th></th>\n",
       "      <th>gtid</th>\n",
       "      <th>name</th>\n",
       "      <th>gtid</th>\n",
       "      <th>course</th>\n",
       "      <th>grade</th>\n",
       "    </tr>\n",
       "  </thead>\n",
       "  <tbody>\n",
       "    <tr>\n",
       "      <th>0</th>\n",
       "      <td>123</td>\n",
       "      <td>Vuduc</td>\n",
       "      <td>123</td>\n",
       "      <td>CSE 6040</td>\n",
       "      <td>4.0</td>\n",
       "    </tr>\n",
       "    <tr>\n",
       "      <th>1</th>\n",
       "      <td>123</td>\n",
       "      <td>Vuduc</td>\n",
       "      <td>123</td>\n",
       "      <td>ISYE 6644</td>\n",
       "      <td>3.0</td>\n",
       "    </tr>\n",
       "    <tr>\n",
       "      <th>2</th>\n",
       "      <td>123</td>\n",
       "      <td>Vuduc</td>\n",
       "      <td>123</td>\n",
       "      <td>MGMT 8803</td>\n",
       "      <td>1.0</td>\n",
       "    </tr>\n",
       "    <tr>\n",
       "      <th>3</th>\n",
       "      <td>991</td>\n",
       "      <td>Sokol</td>\n",
       "      <td>991</td>\n",
       "      <td>CSE 6040</td>\n",
       "      <td>4.0</td>\n",
       "    </tr>\n",
       "    <tr>\n",
       "      <th>4</th>\n",
       "      <td>991</td>\n",
       "      <td>Sokol</td>\n",
       "      <td>991</td>\n",
       "      <td>ISYE 6740</td>\n",
       "      <td>4.0</td>\n",
       "    </tr>\n",
       "    <tr>\n",
       "      <th>5</th>\n",
       "      <td>456</td>\n",
       "      <td>Chau</td>\n",
       "      <td>456</td>\n",
       "      <td>CSE 6040</td>\n",
       "      <td>4.0</td>\n",
       "    </tr>\n",
       "    <tr>\n",
       "      <th>6</th>\n",
       "      <td>456</td>\n",
       "      <td>Chau</td>\n",
       "      <td>456</td>\n",
       "      <td>ISYE 6740</td>\n",
       "      <td>2.0</td>\n",
       "    </tr>\n",
       "    <tr>\n",
       "      <th>7</th>\n",
       "      <td>456</td>\n",
       "      <td>Chau</td>\n",
       "      <td>456</td>\n",
       "      <td>MGMT 8803</td>\n",
       "      <td>3.0</td>\n",
       "    </tr>\n",
       "  </tbody>\n",
       "</table>\n",
       "</div>"
      ],
      "text/plain": [
       "   gtid   name  gtid     course  grade\n",
       "0   123  Vuduc   123   CSE 6040    4.0\n",
       "1   123  Vuduc   123  ISYE 6644    3.0\n",
       "2   123  Vuduc   123  MGMT 8803    1.0\n",
       "3   991  Sokol   991   CSE 6040    4.0\n",
       "4   991  Sokol   991  ISYE 6740    4.0\n",
       "5   456   Chau   456   CSE 6040    4.0\n",
       "6   456   Chau   456  ISYE 6740    2.0\n",
       "7   456   Chau   456  MGMT 8803    3.0"
      ]
     },
     "metadata": {},
     "output_type": "display_data"
    },
    {
     "name": "stdout",
     "output_type": "stream",
     "text": [
      "#### Pandas DataFrame - will keep original index ####\n"
     ]
    },
    {
     "data": {
      "text/html": [
       "<div>\n",
       "<style scoped>\n",
       "    .dataframe tbody tr th:only-of-type {\n",
       "        vertical-align: middle;\n",
       "    }\n",
       "\n",
       "    .dataframe tbody tr th {\n",
       "        vertical-align: top;\n",
       "    }\n",
       "\n",
       "    .dataframe thead th {\n",
       "        text-align: right;\n",
       "    }\n",
       "</style>\n",
       "<table border=\"1\" class=\"dataframe\">\n",
       "  <thead>\n",
       "    <tr style=\"text-align: right;\">\n",
       "      <th></th>\n",
       "      <th>index</th>\n",
       "      <th>gtid</th>\n",
       "      <th>name</th>\n",
       "      <th>course</th>\n",
       "      <th>grade</th>\n",
       "    </tr>\n",
       "  </thead>\n",
       "  <tbody>\n",
       "    <tr>\n",
       "      <th>0</th>\n",
       "      <td>0</td>\n",
       "      <td>123</td>\n",
       "      <td>Vuduc</td>\n",
       "      <td>CSE 6040</td>\n",
       "      <td>4.0</td>\n",
       "    </tr>\n",
       "    <tr>\n",
       "      <th>1</th>\n",
       "      <td>1</td>\n",
       "      <td>123</td>\n",
       "      <td>Vuduc</td>\n",
       "      <td>ISYE 6644</td>\n",
       "      <td>3.0</td>\n",
       "    </tr>\n",
       "    <tr>\n",
       "      <th>2</th>\n",
       "      <td>2</td>\n",
       "      <td>123</td>\n",
       "      <td>Vuduc</td>\n",
       "      <td>MGMT 8803</td>\n",
       "      <td>1.0</td>\n",
       "    </tr>\n",
       "    <tr>\n",
       "      <th>3</th>\n",
       "      <td>3</td>\n",
       "      <td>456</td>\n",
       "      <td>Chau</td>\n",
       "      <td>CSE 6040</td>\n",
       "      <td>4.0</td>\n",
       "    </tr>\n",
       "    <tr>\n",
       "      <th>4</th>\n",
       "      <td>4</td>\n",
       "      <td>456</td>\n",
       "      <td>Chau</td>\n",
       "      <td>ISYE 6740</td>\n",
       "      <td>2.0</td>\n",
       "    </tr>\n",
       "    <tr>\n",
       "      <th>5</th>\n",
       "      <td>5</td>\n",
       "      <td>456</td>\n",
       "      <td>Chau</td>\n",
       "      <td>MGMT 8803</td>\n",
       "      <td>3.0</td>\n",
       "    </tr>\n",
       "    <tr>\n",
       "      <th>6</th>\n",
       "      <td>7</td>\n",
       "      <td>991</td>\n",
       "      <td>Sokol</td>\n",
       "      <td>CSE 6040</td>\n",
       "      <td>4.0</td>\n",
       "    </tr>\n",
       "    <tr>\n",
       "      <th>7</th>\n",
       "      <td>8</td>\n",
       "      <td>991</td>\n",
       "      <td>Sokol</td>\n",
       "      <td>ISYE 6740</td>\n",
       "      <td>4.0</td>\n",
       "    </tr>\n",
       "  </tbody>\n",
       "</table>\n",
       "</div>"
      ],
      "text/plain": [
       "   index  gtid   name     course  grade\n",
       "0      0   123  Vuduc   CSE 6040    4.0\n",
       "1      1   123  Vuduc  ISYE 6644    3.0\n",
       "2      2   123  Vuduc  MGMT 8803    1.0\n",
       "3      3   456   Chau   CSE 6040    4.0\n",
       "4      4   456   Chau  ISYE 6740    2.0\n",
       "5      5   456   Chau  MGMT 8803    3.0\n",
       "6      7   991  Sokol   CSE 6040    4.0\n",
       "7      8   991  Sokol  ISYE 6740    4.0"
      ]
     },
     "metadata": {},
     "output_type": "display_data"
    }
   ],
   "source": [
    "# join tables and filter the result\n",
    "print('#### SQL - will rename the index ####')\n",
    "sql = '''\n",
    "    select t1.* , t2.* \n",
    "        from Students as t1 \n",
    "          LEFT JOIN Takes as t2 \n",
    "            ON t1.gtid = t2.gtid \n",
    "        WHERE t2.gtid is NOT NULL \n",
    "    '''\n",
    "\n",
    "db = pd.read_sql_query(sql, conn)\n",
    "display(db)\n",
    "\n",
    "print('#### Pandas DataFrame - will keep original index ####')\n",
    "df = df_students.merge(df_takes, how = 'left', on = 'gtid')\n",
    "df = df[df['course'].notnull()]\n",
    "# reset index\n",
    "df.reset_index(inplace = True)\n",
    "display(df)"
   ]
  },
  {
   "cell_type": "code",
   "execution_count": 45,
   "metadata": {},
   "outputs": [
    {
     "name": "stdout",
     "output_type": "stream",
     "text": [
      "#### SQL - regular query ####\n"
     ]
    },
    {
     "data": {
      "text/html": [
       "<div>\n",
       "<style scoped>\n",
       "    .dataframe tbody tr th:only-of-type {\n",
       "        vertical-align: middle;\n",
       "    }\n",
       "\n",
       "    .dataframe tbody tr th {\n",
       "        vertical-align: top;\n",
       "    }\n",
       "\n",
       "    .dataframe thead th {\n",
       "        text-align: right;\n",
       "    }\n",
       "</style>\n",
       "<table border=\"1\" class=\"dataframe\">\n",
       "  <thead>\n",
       "    <tr style=\"text-align: right;\">\n",
       "      <th></th>\n",
       "      <th>name</th>\n",
       "      <th>gtid</th>\n",
       "      <th>course</th>\n",
       "      <th>grade</th>\n",
       "    </tr>\n",
       "  </thead>\n",
       "  <tbody>\n",
       "    <tr>\n",
       "      <th>0</th>\n",
       "      <td>Vuduc</td>\n",
       "      <td>123</td>\n",
       "      <td>CSE 6040</td>\n",
       "      <td>4.0</td>\n",
       "    </tr>\n",
       "    <tr>\n",
       "      <th>1</th>\n",
       "      <td>Vuduc</td>\n",
       "      <td>123</td>\n",
       "      <td>ISYE 6644</td>\n",
       "      <td>3.0</td>\n",
       "    </tr>\n",
       "    <tr>\n",
       "      <th>2</th>\n",
       "      <td>Vuduc</td>\n",
       "      <td>123</td>\n",
       "      <td>MGMT 8803</td>\n",
       "      <td>1.0</td>\n",
       "    </tr>\n",
       "    <tr>\n",
       "      <th>3</th>\n",
       "      <td>Sokol</td>\n",
       "      <td>991</td>\n",
       "      <td>CSE 6040</td>\n",
       "      <td>4.0</td>\n",
       "    </tr>\n",
       "    <tr>\n",
       "      <th>4</th>\n",
       "      <td>Sokol</td>\n",
       "      <td>991</td>\n",
       "      <td>ISYE 6740</td>\n",
       "      <td>4.0</td>\n",
       "    </tr>\n",
       "    <tr>\n",
       "      <th>5</th>\n",
       "      <td>Chau</td>\n",
       "      <td>456</td>\n",
       "      <td>CSE 6040</td>\n",
       "      <td>4.0</td>\n",
       "    </tr>\n",
       "    <tr>\n",
       "      <th>6</th>\n",
       "      <td>Chau</td>\n",
       "      <td>456</td>\n",
       "      <td>ISYE 6740</td>\n",
       "      <td>2.0</td>\n",
       "    </tr>\n",
       "    <tr>\n",
       "      <th>7</th>\n",
       "      <td>Chau</td>\n",
       "      <td>456</td>\n",
       "      <td>MGMT 8803</td>\n",
       "      <td>3.0</td>\n",
       "    </tr>\n",
       "  </tbody>\n",
       "</table>\n",
       "</div>"
      ],
      "text/plain": [
       "    name  gtid     course  grade\n",
       "0  Vuduc   123   CSE 6040    4.0\n",
       "1  Vuduc   123  ISYE 6644    3.0\n",
       "2  Vuduc   123  MGMT 8803    1.0\n",
       "3  Sokol   991   CSE 6040    4.0\n",
       "4  Sokol   991  ISYE 6740    4.0\n",
       "5   Chau   456   CSE 6040    4.0\n",
       "6   Chau   456  ISYE 6740    2.0\n",
       "7   Chau   456  MGMT 8803    3.0"
      ]
     },
     "metadata": {},
     "output_type": "display_data"
    },
    {
     "name": "stdout",
     "output_type": "stream",
     "text": [
      "#### SQL - nested query ####\n"
     ]
    },
    {
     "data": {
      "text/html": [
       "<div>\n",
       "<style scoped>\n",
       "    .dataframe tbody tr th:only-of-type {\n",
       "        vertical-align: middle;\n",
       "    }\n",
       "\n",
       "    .dataframe tbody tr th {\n",
       "        vertical-align: top;\n",
       "    }\n",
       "\n",
       "    .dataframe thead th {\n",
       "        text-align: right;\n",
       "    }\n",
       "</style>\n",
       "<table border=\"1\" class=\"dataframe\">\n",
       "  <thead>\n",
       "    <tr style=\"text-align: right;\">\n",
       "      <th></th>\n",
       "      <th>name</th>\n",
       "      <th>gtid</th>\n",
       "      <th>course</th>\n",
       "      <th>grade</th>\n",
       "    </tr>\n",
       "  </thead>\n",
       "  <tbody>\n",
       "    <tr>\n",
       "      <th>0</th>\n",
       "      <td>Vuduc</td>\n",
       "      <td>123</td>\n",
       "      <td>CSE 6040</td>\n",
       "      <td>4.0</td>\n",
       "    </tr>\n",
       "    <tr>\n",
       "      <th>1</th>\n",
       "      <td>Vuduc</td>\n",
       "      <td>123</td>\n",
       "      <td>ISYE 6644</td>\n",
       "      <td>3.0</td>\n",
       "    </tr>\n",
       "    <tr>\n",
       "      <th>2</th>\n",
       "      <td>Vuduc</td>\n",
       "      <td>123</td>\n",
       "      <td>MGMT 8803</td>\n",
       "      <td>1.0</td>\n",
       "    </tr>\n",
       "    <tr>\n",
       "      <th>3</th>\n",
       "      <td>Chau</td>\n",
       "      <td>456</td>\n",
       "      <td>CSE 6040</td>\n",
       "      <td>4.0</td>\n",
       "    </tr>\n",
       "    <tr>\n",
       "      <th>4</th>\n",
       "      <td>Chau</td>\n",
       "      <td>456</td>\n",
       "      <td>ISYE 6740</td>\n",
       "      <td>2.0</td>\n",
       "    </tr>\n",
       "    <tr>\n",
       "      <th>5</th>\n",
       "      <td>Chau</td>\n",
       "      <td>456</td>\n",
       "      <td>MGMT 8803</td>\n",
       "      <td>3.0</td>\n",
       "    </tr>\n",
       "    <tr>\n",
       "      <th>6</th>\n",
       "      <td>Sokol</td>\n",
       "      <td>991</td>\n",
       "      <td>CSE 6040</td>\n",
       "      <td>4.0</td>\n",
       "    </tr>\n",
       "    <tr>\n",
       "      <th>7</th>\n",
       "      <td>Sokol</td>\n",
       "      <td>991</td>\n",
       "      <td>ISYE 6740</td>\n",
       "      <td>4.0</td>\n",
       "    </tr>\n",
       "  </tbody>\n",
       "</table>\n",
       "</div>"
      ],
      "text/plain": [
       "    name  gtid     course  grade\n",
       "0  Vuduc   123   CSE 6040    4.0\n",
       "1  Vuduc   123  ISYE 6644    3.0\n",
       "2  Vuduc   123  MGMT 8803    1.0\n",
       "3   Chau   456   CSE 6040    4.0\n",
       "4   Chau   456  ISYE 6740    2.0\n",
       "5   Chau   456  MGMT 8803    3.0\n",
       "6  Sokol   991   CSE 6040    4.0\n",
       "7  Sokol   991  ISYE 6740    4.0"
      ]
     },
     "metadata": {},
     "output_type": "display_data"
    }
   ],
   "source": [
    "# nested query\n",
    "print('#### SQL - regular query ####')\n",
    "sql = ''' select t1.name, t2.*\n",
    "          from Students t1\n",
    "            LEFT join Takes t2\n",
    "            ON t1.gtid = t2.gtid\n",
    "        '''\n",
    "db = pd.read_sql_query(sql, conn)\n",
    "display(db)\n",
    "\n",
    "# create a new table and use the nested data to manipulate the new table \n",
    "print('#### SQL - nested query ####')\n",
    "sql = ''' select *\n",
    "          from (\n",
    "              select t1.name, t2.*\n",
    "              from Students t1\n",
    "                LEFT JOIN Takes t2\n",
    "                ON t1.gtid = t2.gtid\n",
    "                )\n",
    "          where gtid is not null\n",
    "        '''\n",
    "db = pd.read_sql_query(sql, conn)\n",
    "display(db)"
   ]
  },
  {
   "cell_type": "code",
   "execution_count": null,
   "metadata": {
    "collapsed": true
   },
   "outputs": [],
   "source": [
    "# LETTERS & TIME \n",
    "sql = '''\n",
    "        select LOWER(ComplainType), CreatedDate, UPPER(City)\n",
    "        from data\n",
    "        where CreatedDate >= \"2015-09-15 00:00:00.0\"\n",
    "          and CreatedDate < \"2015-09-16 00:00:00.0\"\n",
    "        orderby CreatedDate\n",
    "    '''\n",
    "\n",
    "sql = '''\n",
    "        select CreatedDate, STRFTIME('%H', CreatedDate) as Hour,\n",
    "                LOWER(ComplainType)\n",
    "        from data\n",
    "        limit 5\n",
    "    '''\n"
   ]
  }
 ],
 "metadata": {
  "anaconda-cloud": [],
  "celltoolbar": "Create Assignment",
  "kernelspec": {
   "display_name": "Python 3.8",
   "language": "python",
   "name": "python38"
  },
  "language_info": {
   "codemirror_mode": {
    "name": "ipython",
    "version": 3
   },
   "file_extension": ".py",
   "mimetype": "text/x-python",
   "name": "python",
   "nbconvert_exporter": "python",
   "pygments_lexer": "ipython3",
   "version": "3.8.7"
  },
  "nbpresent": {
   "slides": [],
   "themes": []
  }
 },
 "nbformat": 4,
 "nbformat_minor": 1
}
