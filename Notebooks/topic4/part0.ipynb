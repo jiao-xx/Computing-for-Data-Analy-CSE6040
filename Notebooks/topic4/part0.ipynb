{
 "cells": [
  {
   "cell_type": "markdown",
   "metadata": {
    "deletable": false,
    "editable": false,
    "nbgrader": {
     "grade": false,
     "grade_id": "cell-7850c17f2b74b4f8",
     "locked": true,
     "schema_version": 1,
     "solution": false
    }
   },
   "source": [
    "# Part 0: Representing numbers as strings\n",
    "\n",
    "The following exercises are designed to reinforce your understanding of how we can view the encoding of a number as string of digits in a given base.\n",
    "\n",
    "> If you are interested in exploring this topic in more depth, see the [\"Floating-Point Arithmetic\" section](https://docs.python.org/3/tutorial/floatingpoint.html) of the Python documentation."
   ]
  },
  {
   "cell_type": "markdown",
   "metadata": {
    "deletable": false,
    "editable": false,
    "nbgrader": {
     "grade": false,
     "grade_id": "cell-451d6ed7e49d5e04",
     "locked": true,
     "schema_version": 1,
     "solution": false
    }
   },
   "source": [
    "## Integers as strings\n",
    "\n",
    "Consider the string of digits:\n",
    "\n",
    "```python\n",
    "    '16180339887'\n",
    "```\n",
    "\n",
    "If you are told this string is for a decimal number, meaning the base of its digits is ten (10), then its value is given by\n",
    "\n",
    "$$\n",
    "    [\\![ \\mathtt{16180339887} ]\\!]_{10} = (1 \\times 10^{10}) + (6 \\times 10^9) + (1 \\times 10^8) + \\cdots + (8 \\times 10^1) + (7 \\times 10^0) = 16,\\!180,\\!339,\\!887.\n",
    "$$\n",
    "\n",
    "Similarly, consider the following string of digits:\n",
    "\n",
    "```python\n",
    "    '100111010'\n",
    "```\n",
    "\n",
    "If you are told this string is for a binary number, meaning its base is two (2), then its value is\n",
    "\n",
    "$$\n",
    "    [\\![ \\mathtt{100111010} ]\\!]_2 = (1 \\times 2^8) + (1 \\times 2^5) + \\cdots + (1 \\times 2^1).\n",
    "$$\n",
    "\n",
    "(What is this value?)\n",
    "\n",
    "And in general, the value of a string of $d+1$ digits in base $b$ is,\n",
    "\n",
    "$$\n",
    "  [\\![ s_d s_{d-1} \\cdots s_1 s_0 ]\\!]_b = \\sum_{i=0}^{d} s_i \\times b^i.\n",
    "$$"
   ]
  },
  {
   "cell_type": "markdown",
   "metadata": {
    "deletable": false,
    "editable": false,
    "nbgrader": {
     "grade": false,
     "grade_id": "cell-984e8904a5b92c45",
     "locked": true,
     "schema_version": 1,
     "solution": false
    }
   },
   "source": [
    "**Bases greater than ten (10).** Observe that when the base at most ten, the digits are the usual decimal digits, `0`, `1`, `2`, ..., `9`. What happens when the base is greater than ten? For this notebook, suppose we are interested in bases that are at most 36; then, we will adopt the convention of using lowercase Roman letters, `a`, `b`, `c`, ..., `z` for \"digits\" whose values correspond to 10, 11, 12, ..., 35.\n",
    "\n",
    "> Before moving on to the next exercise, run the following code cell. It has three functions, which are used in some of the testing code. Given a base, one of these functions checks whether a single-character input string is a valid digit; and the other returns a list of all valid string digits. (The third one simply prints the valid digit list, given a base.) If you want some additional practice reading code, you might inspect these functions."
   ]
  },
  {
   "cell_type": "code",
   "execution_count": 35,
   "metadata": {
    "deletable": false,
    "editable": false,
    "nbgrader": {
     "grade": false,
     "locked": true,
     "solution": false
    }
   },
   "outputs": [
    {
     "name": "stdout",
     "output_type": "stream",
     "text": [
      "The valid base 6 digits: 0, 1, 2, 3, 4, 5\n",
      "The valid base 16 digits: 0, 1, 2, 3, 4, 5, 6, 7, 8, 9, a, b, c, d, e, f\n",
      "The valid base 23 digits: 0, 1, 2, 3, 4, 5, 6, 7, 8, 9, a, b, c, d, e, f, g, h, i, j, k, l, m\n"
     ]
    }
   ],
   "source": [
    "def is_valid_strdigit(c, base=2):\n",
    "    if type (c) is not str: return False # Reject non-string digits\n",
    "    if (type (base) is not int) or (base < 2) or (base > 36): return False # Reject non-integer bases outside 2-36\n",
    "    if base < 2 or base > 36: return False # Reject bases outside 2-36\n",
    "    if len (c) != 1: return False # Reject anything that is not a single character\n",
    "    if '0' <= c <= str (min (base-1, 9)): return True # Numerical digits for bases up to 10\n",
    "    if base > 10 and 0 <= ord (c) - ord ('a') < base-10: return True # Letter digits for bases > 10\n",
    "    return False # Reject everything else\n",
    "\n",
    "def valid_strdigits(base=2):\n",
    "    POSSIBLE_DIGITS = '0123456789abcdefghijklmnopqrstuvwxyz'\n",
    "    return [c for c in POSSIBLE_DIGITS if is_valid_strdigit(c, base)]\n",
    "\n",
    "def print_valid_strdigits(base=2):\n",
    "    valid_list = valid_strdigits(base)\n",
    "    if not valid_list:\n",
    "        msg = '(none)'\n",
    "    else:\n",
    "        msg = ', '.join([c for c in valid_list])\n",
    "    print('The valid base ' + str(base) + ' digits: ' + msg)\n",
    "    \n",
    "# Quick demo:\n",
    "print_valid_strdigits(6)\n",
    "print_valid_strdigits(16)\n",
    "print_valid_strdigits(23)"
   ]
  },
  {
   "cell_type": "markdown",
   "metadata": {
    "deletable": false,
    "editable": false,
    "nbgrader": {
     "grade": false,
     "locked": true,
     "solution": false
    }
   },
   "source": [
    "**Exercise 0** (3 points). Write a function, `eval_strint(s, base)`. It takes a string of digits `s` in the base given by `base`. It returns its value as an integer.\n",
    "\n",
    "That is, this function implements the mathematical object, $[\\![ s ]\\!]_b$, which would convert a string $s$ to its numerical value, assuming its digits are given in base $b$. For example:\n",
    "\n",
    "```python\n",
    "    eval_strint('100111010', base=2) == 314\n",
    "```\n",
    "\n",
    "> Hint: Python makes this exercise very easy. Search Python's online documentation for information about the `int()` constructor to see how you can apply it to solve this problem. (You have encountered this constructor already, in Notebook/Assignment 2.)"
   ]
  },
  {
   "cell_type": "code",
   "execution_count": 36,
   "metadata": {
    "nbgrader": {
     "grade": false,
     "grade_id": "eval_strint",
     "locked": false,
     "schema_version": 1,
     "solution": true
    }
   },
   "outputs": [
    {
     "data": {
      "text/plain": [
       "44"
      ]
     },
     "execution_count": 36,
     "metadata": {},
     "output_type": "execute_result"
    }
   ],
   "source": [
    "def eval_strint(s, base=2):\n",
    "    assert type(s) is str\n",
    "    assert 2 <= base <= 36\n",
    "    return int(s, base)\n",
    "\n",
    "eval_strint('2c', base=16)"
   ]
  },
  {
   "cell_type": "code",
   "execution_count": 37,
   "metadata": {
    "deletable": false,
    "editable": false,
    "nbgrader": {
     "grade": true,
     "grade_id": "eval_strint_test0",
     "locked": true,
     "points": "1",
     "schema_version": 1,
     "solution": false
    }
   },
   "outputs": [
    {
     "name": "stdout",
     "output_type": "stream",
     "text": [
      "'16180339887' -> 16180339887\n",
      "\n",
      "(Passed!)\n"
     ]
    }
   ],
   "source": [
    "# Test: `eval_strint_test0` (1 point)\n",
    "\n",
    "def check_eval_strint(s, v, base=2):\n",
    "    v_s = eval_strint(s, base)\n",
    "    msg = \"'{}' -> {}\".format (s, v_s)\n",
    "    print(msg)\n",
    "    assert v_s == v, \"Results do not match expected solution.\"\n",
    "\n",
    "# Test 0: From the videos\n",
    "check_eval_strint('16180339887', 16180339887, base=10)\n",
    "print (\"\\n(Passed!)\")"
   ]
  },
  {
   "cell_type": "code",
   "execution_count": 38,
   "metadata": {
    "deletable": false,
    "editable": false,
    "nbgrader": {
     "grade": true,
     "grade_id": "eval_strint_test1",
     "locked": true,
     "points": "1",
     "solution": false
    }
   },
   "outputs": [
    {
     "name": "stdout",
     "output_type": "stream",
     "text": [
      "'100111010' -> 314\n",
      "\n",
      "(Passed!)\n"
     ]
    }
   ],
   "source": [
    "# Test: `eval_strint_test1` (1 point)\n",
    "check_eval_strint('100111010', 314, base=2)\n",
    "print (\"\\n(Passed!)\")"
   ]
  },
  {
   "cell_type": "code",
   "execution_count": 39,
   "metadata": {
    "deletable": false,
    "editable": false,
    "nbgrader": {
     "grade": true,
     "grade_id": "eval_strint_test2",
     "locked": true,
     "points": "1",
     "solution": false
    }
   },
   "outputs": [
    {
     "name": "stdout",
     "output_type": "stream",
     "text": [
      "'a205b064' -> 2718281828\n",
      "\n",
      "(Passed!)\n"
     ]
    }
   ],
   "source": [
    "# Test: `eval_strint_test2` (1 point)\n",
    "check_eval_strint('a205b064', 2718281828, base=16)\n",
    "print (\"\\n(Passed!)\")"
   ]
  },
  {
   "cell_type": "markdown",
   "metadata": {
    "deletable": false,
    "editable": false,
    "nbgrader": {
     "grade": false,
     "grade_id": "cell-ba1a6cefcc7cb356",
     "locked": true,
     "schema_version": 1,
     "solution": false
    }
   },
   "source": [
    "## Fractional values\n",
    "\n",
    "Recall that we can extend the basic string representation to include a fractional part by interpreting digits to the right of the \"fractional point\" (i.e., \"the dot\") as having negative indices. For instance,\n",
    "\n",
    "$$\n",
    "    [\\![ \\mathtt{3.14} ]\\!]_{10} = (3 \\times 10^0) + (1 \\times 10^{-1}) + (4 \\times 10^{-2}).\n",
    "$$\n",
    "\n",
    "Or, in general,\n",
    "\n",
    "$$\n",
    "  [\\![ s_d s_{d-1} \\cdots s_1 s_0 \\, \\underset{\\Large\\uparrow}{\\Huge\\mathtt{.}} \\, s_{-1} s_{-2} \\cdots s_{-r} ]\\!]_b = \\sum_{i=-r}^{d} s_i \\times b^i.\n",
    "$$"
   ]
  },
  {
   "cell_type": "markdown",
   "metadata": {},
   "source": [
    "**Exercise 1** (4 points). Suppose a string of digits `s` in base `base` contains up to one fractional point. Complete the function, `eval_strfrac(s, base)`, so that it returns its corresponding floating-point value.\n",
    "\n",
    "Your function should *always* return a value of type `float`, even if the input happens to correspond to an exact integer.\n",
    "\n",
    "Examples:\n",
    "\n",
    "```python\n",
    "    eval_strfrac('3.14', base=10) ~= 3.14\n",
    "    eval_strfrac('100.101', base=2) == 4.625\n",
    "    eval_strfrac('2c', base=16) ~= 44.0   # Note: Must be a float even with an integer input!\n",
    "```\n",
    "\n",
    "> _Comment._ Because of potential floating-point roundoff errors, as explained in the videos, conversions based on the general polynomial formula given previously will not be exact. The testing code will include a built-in tolerance to account for such errors.\n",
    ">\n",
    "> _Hint._ You should be able to construct a solution that reuses the function, `eval_strint()`, from Exercise 0."
   ]
  },
  {
   "cell_type": "code",
   "execution_count": 40,
   "metadata": {
    "collapsed": true,
    "nbgrader": {
     "grade": false,
     "grade_id": "eval_strfrac",
     "locked": false,
     "schema_version": 1,
     "solution": true
    }
   },
   "outputs": [],
   "source": [
    "def is_valid_strfrac(s, base=2):\n",
    "    return all([is_valid_strdigit(c, base) for c in s if c != '.']) \\\n",
    "        and (len([c for c in s if c == '.']) <= 1)\n",
    "    \n",
    "def eval_strfrac(s, base=2):\n",
    "    assert is_valid_strfrac(s, base), \"'{}' contains invalid digits for a base-{} number.\".format(s, base)\n",
    "    \n",
    "    valid_str = valid_strdigits(base)\n",
    "    if \".\" not in s:\n",
    "        return float(int(s, base))\n",
    "    integer_part = s.split(\".\")[0]\n",
    "    decimal_part = s.split(\".\")[1]\n",
    "    ans = 0.0\n",
    "    for i in range(len(integer_part)):\n",
    "        ans += int(valid_str.index(integer_part[::-1][i])) * (base**i)\n",
    "    for i in range(len(decimal_part)):\n",
    "        ans += int(valid_str.index(decimal_part[i])) * (base ** (- (i+1)))\n",
    "    \n",
    "    return ans\n"
   ]
  },
  {
   "cell_type": "code",
   "execution_count": 41,
   "metadata": {},
   "outputs": [
    {
     "data": {
      "text/plain": [
       "-10"
      ]
     },
     "execution_count": 41,
     "metadata": {},
     "output_type": "execute_result"
    }
   ],
   "source": [
    "# Demo:\n",
    "#eval_strfrac('0.11', 2)\n",
    "\n",
    "int(\"-10\")"
   ]
  },
  {
   "cell_type": "code",
   "execution_count": 42,
   "metadata": {
    "deletable": false,
    "editable": false,
    "nbgrader": {
     "grade": true,
     "grade_id": "eval_strfrac_test0",
     "locked": true,
     "points": "1",
     "schema_version": 1,
     "solution": false
    }
   },
   "outputs": [
    {
     "name": "stdout",
     "output_type": "stream",
     "text": [
      "[3.14]_{10} ~= 3.14: You computed 3.14, which differs by 0.0.\n",
      "[100.101]_{2} ~= 4.625: You computed 4.625, which differs by 0.0.\n",
      "[11.0010001111]_{2} ~= 3.1396484375: You computed 3.1396484375, which differs by 0.0.\n",
      "[f.a]_{16} ~= 15.625: You computed 15.625, which differs by 0.0.\n",
      "\n",
      "(Passed!)\n"
     ]
    }
   ],
   "source": [
    "# Test 0: `eval_strfrac_test0` (1 point)\n",
    "\n",
    "def check_eval_strfrac(s, v_true, base=2, tol=1e-7):\n",
    "    v_you = eval_strfrac(s, base)\n",
    "    assert type(v_you) is float, \"Your function did not return a `float` as instructed.\"\n",
    "    delta_v = v_you - v_true\n",
    "    msg = \"[{}]_{{{}}} ~= {}: You computed {}, which differs by {}.\".format(s, base, v_true,\n",
    "                                                                            v_you, delta_v)\n",
    "    print(msg)\n",
    "    assert abs(delta_v) <= tol, \"Difference exceeds expected tolerance.\"\n",
    "    \n",
    "# Test cases from the video\n",
    "check_eval_strfrac('3.14', 3.14, base=10)\n",
    "check_eval_strfrac('100.101', 4.625, base=2)\n",
    "check_eval_strfrac('11.0010001111', 3.1396484375, base=2)\n",
    "\n",
    "# A hex test case\n",
    "check_eval_strfrac('f.a', 15.625, base=16)\n",
    "\n",
    "print(\"\\n(Passed!)\")"
   ]
  },
  {
   "cell_type": "code",
   "execution_count": 43,
   "metadata": {
    "deletable": false,
    "editable": false,
    "nbgrader": {
     "grade": true,
     "grade_id": "eval_strfrac_test1",
     "locked": true,
     "points": "1",
     "solution": false
    },
    "scrolled": false
   },
   "outputs": [
    {
     "name": "stdout",
     "output_type": "stream",
     "text": [
      "[1101]_{2} ~= 13: You computed 13.0, which differs by 0.0.\n"
     ]
    }
   ],
   "source": [
    "# Test 1: `eval_strfrac_test1` (1 point)\n",
    "\n",
    "check_eval_strfrac('1101', 13, base=2)"
   ]
  },
  {
   "cell_type": "code",
   "execution_count": 44,
   "metadata": {
    "deletable": false,
    "editable": false,
    "nbgrader": {
     "grade": true,
     "grade_id": "eval_strfrac_test2",
     "locked": true,
     "points": "2",
     "solution": false
    }
   },
   "outputs": [
    {
     "name": "stdout",
     "output_type": "stream",
     "text": [
      "[89g.f5c]_{19} ~= 3075.805073625893: You computed 3075.805073625893, which differs by 0.0.\n",
      "[ninvk6.i8puo]_{33} ~= 922321593.5535223: You computed 922321593.5535222, which differs by -1.1920928955078125e-07.\n"
     ]
    },
    {
     "ename": "AssertionError",
     "evalue": "Difference exceeds expected tolerance.",
     "output_type": "error",
     "traceback": [
      "\u001b[0;31m---------------------------------------------------------------------------\u001b[0m",
      "\u001b[0;31mAssertionError\u001b[0m                            Traceback (most recent call last)",
      "\u001b[0;32m<ipython-input-44-389551dad086>\u001b[0m in \u001b[0;36m<module>\u001b[0;34m\u001b[0m\n\u001b[1;32m     20\u001b[0m \u001b[0;34m\u001b[0m\u001b[0m\n\u001b[1;32m     21\u001b[0m \u001b[0;32mfor\u001b[0m \u001b[0m_\u001b[0m \u001b[0;32min\u001b[0m \u001b[0mrange\u001b[0m\u001b[0;34m(\u001b[0m\u001b[0;36m10\u001b[0m\u001b[0;34m)\u001b[0m\u001b[0;34m:\u001b[0m\u001b[0;34m\u001b[0m\u001b[0;34m\u001b[0m\u001b[0m\n\u001b[0;32m---> 22\u001b[0;31m     \u001b[0mcheck_random_strfrac\u001b[0m\u001b[0;34m(\u001b[0m\u001b[0;34m)\u001b[0m\u001b[0;34m\u001b[0m\u001b[0;34m\u001b[0m\u001b[0m\n\u001b[0m\u001b[1;32m     23\u001b[0m \u001b[0;34m\u001b[0m\u001b[0m\n\u001b[1;32m     24\u001b[0m \u001b[0mprint\u001b[0m\u001b[0;34m(\u001b[0m\u001b[0;34m\"\\n(Passed!)\"\u001b[0m\u001b[0;34m)\u001b[0m\u001b[0;34m\u001b[0m\u001b[0;34m\u001b[0m\u001b[0m\n",
      "\u001b[0;32m<ipython-input-44-389551dad086>\u001b[0m in \u001b[0;36mcheck_random_strfrac\u001b[0;34m()\u001b[0m\n\u001b[1;32m     17\u001b[0m         \u001b[0;32mif\u001b[0m \u001b[0mi\u001b[0m \u001b[0;34m==\u001b[0m \u001b[0;34m-\u001b[0m\u001b[0;36m1\u001b[0m\u001b[0;34m:\u001b[0m\u001b[0;34m\u001b[0m\u001b[0;34m\u001b[0m\u001b[0m\n\u001b[1;32m     18\u001b[0m             \u001b[0ms\u001b[0m \u001b[0;34m=\u001b[0m \u001b[0;34m'.'\u001b[0m \u001b[0;34m+\u001b[0m \u001b[0ms\u001b[0m\u001b[0;34m\u001b[0m\u001b[0;34m\u001b[0m\u001b[0m\n\u001b[0;32m---> 19\u001b[0;31m     \u001b[0mcheck_eval_strfrac\u001b[0m\u001b[0;34m(\u001b[0m\u001b[0ms\u001b[0m\u001b[0;34m,\u001b[0m \u001b[0mv_true\u001b[0m\u001b[0;34m,\u001b[0m \u001b[0mbase\u001b[0m\u001b[0;34m=\u001b[0m\u001b[0mb\u001b[0m\u001b[0;34m)\u001b[0m\u001b[0;34m\u001b[0m\u001b[0;34m\u001b[0m\u001b[0m\n\u001b[0m\u001b[1;32m     20\u001b[0m \u001b[0;34m\u001b[0m\u001b[0m\n\u001b[1;32m     21\u001b[0m \u001b[0;32mfor\u001b[0m \u001b[0m_\u001b[0m \u001b[0;32min\u001b[0m \u001b[0mrange\u001b[0m\u001b[0;34m(\u001b[0m\u001b[0;36m10\u001b[0m\u001b[0;34m)\u001b[0m\u001b[0;34m:\u001b[0m\u001b[0;34m\u001b[0m\u001b[0;34m\u001b[0m\u001b[0m\n",
      "\u001b[0;32m<ipython-input-42-db1ce880c09d>\u001b[0m in \u001b[0;36mcheck_eval_strfrac\u001b[0;34m(s, v_true, base, tol)\u001b[0m\n\u001b[1;32m      8\u001b[0m                                                                             v_you, delta_v)\n\u001b[1;32m      9\u001b[0m     \u001b[0mprint\u001b[0m\u001b[0;34m(\u001b[0m\u001b[0mmsg\u001b[0m\u001b[0;34m)\u001b[0m\u001b[0;34m\u001b[0m\u001b[0;34m\u001b[0m\u001b[0m\n\u001b[0;32m---> 10\u001b[0;31m     \u001b[0;32massert\u001b[0m \u001b[0mabs\u001b[0m\u001b[0;34m(\u001b[0m\u001b[0mdelta_v\u001b[0m\u001b[0;34m)\u001b[0m \u001b[0;34m<=\u001b[0m \u001b[0mtol\u001b[0m\u001b[0;34m,\u001b[0m \u001b[0;34m\"Difference exceeds expected tolerance.\"\u001b[0m\u001b[0;34m\u001b[0m\u001b[0;34m\u001b[0m\u001b[0m\n\u001b[0m\u001b[1;32m     11\u001b[0m \u001b[0;34m\u001b[0m\u001b[0m\n\u001b[1;32m     12\u001b[0m \u001b[0;31m# Test cases from the video\u001b[0m\u001b[0;34m\u001b[0m\u001b[0;34m\u001b[0m\u001b[0;34m\u001b[0m\u001b[0m\n",
      "\u001b[0;31mAssertionError\u001b[0m: Difference exceeds expected tolerance."
     ]
    }
   ],
   "source": [
    "# Test 2: `eval_strfrac_test2` (2 point)\n",
    "\n",
    "def check_random_strfrac():\n",
    "    from random import randint\n",
    "    b = randint(2, 36) # base\n",
    "    d = randint(0, 5) # leading digits\n",
    "    r = randint(0, 5) # trailing digits\n",
    "    v_true = 0.0\n",
    "    s = ''\n",
    "    possible_digits = valid_strdigits(b)\n",
    "    for i in range(-r, d+1):\n",
    "        v_i = randint(0, b-1)\n",
    "        s_i = possible_digits[v_i]\n",
    "\n",
    "        v_true += v_i * (b**i)\n",
    "        s = s_i + s\n",
    "        if i == -1:\n",
    "            s = '.' + s\n",
    "    check_eval_strfrac(s, v_true, base=b)\n",
    "    \n",
    "for _ in range(10):\n",
    "    check_random_strfrac()\n",
    "    \n",
    "print(\"\\n(Passed!)\")"
   ]
  },
  {
   "cell_type": "markdown",
   "metadata": {
    "deletable": false,
    "editable": false,
    "nbgrader": {
     "grade": false,
     "grade_id": "cell-543fbfe9909512d0",
     "locked": true,
     "schema_version": 1,
     "solution": false
    }
   },
   "source": [
    "## Floating-point encodings\n",
    "\n",
    "Recall that a floating-point encoding or format is a normalized scientific notation consisting of a _base_, a _sign_, a fractional _significand_ or _mantissa_, and a signed integer _exponent_. Conceptually, think of it as a tuple of the form, $(\\pm, [\\![s]\\!]_b, x)$, where $b$ is the digit base (e.g., decimal, binary); $\\pm$ is the sign bit; $s$ is the significand encoded as a base $b$ string; and $x$ is the exponent. For simplicity, let's assume that only the significand $s$ is encoded in base $b$ and treat $x$ as an integer value. Mathematically, the value of this tuple is $\\pm \\, [\\![s]\\!]_b \\times b^x$."
   ]
  },
  {
   "cell_type": "markdown",
   "metadata": {
    "deletable": false,
    "editable": false,
    "nbgrader": {
     "grade": false,
     "grade_id": "cell-b9f97cde14b444f2",
     "locked": true,
     "schema_version": 1,
     "solution": false
    }
   },
   "source": [
    "**IEEE double-precision.** For instance, Python, R, and MATLAB, by default, store their floating-point values in a standard tuple representation known as _IEEE double-precision format_. It's a 64-bit binary encoding having the following components:\n",
    "\n",
    "- The most significant bit indicates the sign of the value.\n",
    "- The significand is a 53-bit string with an _implicit_ leading one. That is, if the bit string representation of $s$ is $s_0 . s_1 s_2 \\cdots s_d$, then $s_0=1$ always and is never stored explicitly. That also means $d=52$.\n",
    "- The exponent is an 11-bit string and is treated as a signed integer in the range $[-1022, 1023]$.\n",
    "\n",
    "Thus, the smallest positive value in this format $2^{-1022} \\approx 2.23 \\times 10^{-308}$, and the smallest positive value greater than 1 is $1 + \\epsilon$, where $\\epsilon=2^{-52} \\approx 2.22 \\times 10^{-16}$ is known as _machine epsilon_ (in this case, for double-precision)."
   ]
  },
  {
   "cell_type": "markdown",
   "metadata": {
    "deletable": false,
    "editable": false,
    "nbgrader": {
     "grade": false,
     "grade_id": "cell-3a5782fd960ec86c",
     "locked": true,
     "schema_version": 1,
     "solution": false
    }
   },
   "source": [
    "**Special values.** You might have noticed that the exponent is slightly asymmetric. Part of the reason is that the IEEE floating-point encoding can also represent several kinds of special values, such as infinities and an odd bird called \"not-a-number\" or `NaN`. This latter value, which you may have seen if you have used any standard statistical packages, can be used to encode certain kinds of floating-point exceptions that result when, for instance, you try to divide zero by zero.\n",
    "\n",
    "> If you are familiar with languages like C, C++, or Java, then IEEE double-precision format is the same as the `double` primitive type. The other common format is single-precision, which is `float` in those same languages."
   ]
  },
  {
   "cell_type": "markdown",
   "metadata": {
    "deletable": false,
    "editable": false,
    "nbgrader": {
     "grade": false,
     "grade_id": "cell-1ca74d723cc75e05",
     "locked": true,
     "schema_version": 1,
     "solution": false
    }
   },
   "source": [
    "**Inspecting a floating-point number in Python.** Python provides support for looking at floating-point values directly! Given any floating-point variable, `v` (that is, `type(v) is float`), the method `v.hex()` returns a string representation of its encoding. It's easiest to see by example, so run the following code cell:"
   ]
  },
  {
   "cell_type": "code",
   "execution_count": null,
   "metadata": {
    "collapsed": true
   },
   "outputs": [],
   "source": [
    "def print_fp_hex(v):\n",
    "    assert type(v) is float\n",
    "    print(\"v = {} ==> v.hex() == '{}'\".format(v, v.hex()))\n",
    "    \n",
    "print_fp_hex(0.0)\n",
    "print_fp_hex(1.0)\n",
    "print_fp_hex(16.0625)\n",
    "print_fp_hex(-0.1)"
   ]
  },
  {
   "cell_type": "markdown",
   "metadata": {
    "deletable": false,
    "editable": false,
    "nbgrader": {
     "grade": false,
     "grade_id": "cell-67b3150d20fe2afe",
     "locked": true,
     "schema_version": 1,
     "solution": false
    }
   },
   "source": [
    "Observe that the format has these properties:\n",
    "* If `v` is negative, the first character of the string is `'-'`.\n",
    "* The next two characters are always `'0x'`.\n",
    "* Following that, the next characters up to but excluding the character `'p'` is a fractional string of hexadecimal (base-16) digits. In other words, this substring corresponds to the significand encoded in base-16.\n",
    "* The `'p'` character separates the significand from the exponent. The exponent follows, as a signed integer (`'+'` or `'-'` prefix). Its implied base is two (2)---**not** base-16, even though the significand is.\n",
    "\n",
    "Thus, to convert this string back into the floating-point value, you could do the following:\n",
    "* Record the sign as a value, `v_sign`, which is either +1 or -1.\n",
    "* Convert the significand into a fractional value, `v_signif`, assuming base-16 digits.\n",
    "* Extract the exponent as a signed integer value, `v_exp`.\n",
    "* Compute the final value as `v_sign * v_signif * (2.0**v_exp)`.\n",
    "\n",
    "For example, here is how you can get 16.025 back from its `hex()` representation, `'0x1.0100000000000p+4'`:"
   ]
  },
  {
   "cell_type": "code",
   "execution_count": null,
   "metadata": {
    "collapsed": true
   },
   "outputs": [],
   "source": [
    "# Recall: v = 16.0625 ==> v.hex() == '0x1.0100000000000p+4'\n",
    "print((+1.0) * eval_strfrac('1.0100000000000', base=16) * (2**4))"
   ]
  },
  {
   "cell_type": "markdown",
   "metadata": {
    "deletable": false,
    "editable": false,
    "nbgrader": {
     "grade": false,
     "grade_id": "cell-a9575a9387d06be3",
     "locked": true,
     "schema_version": 1,
     "solution": false
    }
   },
   "source": [
    "**Exercise 2** (4 points). Write a function, `fp_bin(v)`, that determines the IEEE-754 tuple representation of any double-precision floating-point value, `v`. That is, given the variable `v` such that `type(v) is float`, it should return a tuple with three components, `(s_sign, s_signif, v_exp)` such that\n",
    "\n",
    "* `s_sign` is a string representing the sign bit, encoded as either a `'+'` or `'-'` character;\n",
    "* `s_signif` is the significand, which should be a string of 54 bits having the form, `x.xxx...x`, where there are (at most) 53 `x` bits (0 or 1 values);\n",
    "* `v_exp` is the value of the exponent and should be an _integer_.\n",
    "\n",
    "For example:\n",
    "\n",
    "```python\n",
    "    v = -1280.03125\n",
    "    assert v.hex() == '-0x1.4002000000000p+10'\n",
    "    assert fp_bin(v) == ('-', '1.0100000000000010000000000000000000000000000000000000', 10)\n",
    "```\n",
    "\n",
    "> There are many ways to approach this problem. One we came up exploits the observation that $[\\![\\mathtt{0}]\\!]_{16} == [\\![\\mathtt{0000}]\\!]_2$ and $[\\![\\mathtt{f}]\\!]_{16} = [\\![\\mathtt{1111}]\\!]$ and applies an idea in this Stackoverflow post: https://stackoverflow.com/questions/1425493/convert-hex-to-binary"
   ]
  },
  {
   "cell_type": "code",
   "execution_count": null,
   "metadata": {
    "collapsed": true,
    "nbgrader": {
     "grade": false,
     "grade_id": "fp_bin",
     "locked": false,
     "schema_version": 1,
     "solution": true
    }
   },
   "outputs": [],
   "source": [
    "import struct\n",
    "def fp_bin(v):\n",
    "    # Convert v to binary floating-point format using the struct module\n",
    "    pack = struct.pack('!d', v)\n",
    "    bits = struct.unpack('!Q', pack)[0]\n",
    "    \n",
    "    # Extract the sign bit, exponent bits, and significand bits\n",
    "    s_sign = '+' if not (bits >> 63) else '-'\n",
    "    v_exp = (bits >> 52) & 0x7ff\n",
    "    s_signif = '1.' + bin(bits & 0x000fffffffffffff)[2:].zfill(52)\n",
    "    \n",
    "    return (s_sign, s_signif, v_exp - 1023)\n",
    "\n",
    "\n",
    "fp_bin(3.2)"
   ]
  },
  {
   "cell_type": "code",
   "execution_count": null,
   "metadata": {
    "collapsed": true,
    "deletable": false,
    "editable": false,
    "nbgrader": {
     "grade": true,
     "grade_id": "fp_bin_test0",
     "locked": true,
     "points": "2",
     "schema_version": 1,
     "solution": false
    }
   },
   "outputs": [],
   "source": [
    "# Test: `fp_bin_test0` (2 points)\n",
    "\n",
    "def assert_fp_bin_props(v_you_tuple):\n",
    "    assert len(v_you_tuple) == 3, \"Your floating point value should be a tuple with three components; yours has {}.\".format(len(v_you_tuple))\n",
    "    v_you_sign, v_you_signif, v_you_exp = v_you_tuple\n",
    "    assert v_you_sign in ['+', '-'], \"Your sign is '{}' instead of either '+' or '-'\".format(v_you_sign)\n",
    "    assert type(v_you_signif) is str, \"Your significand is a '{}', rather than a string ('str').\".format(type(v_you_signif))\n",
    "    assert len(v_you_signif) == 54, \"Your significand has {} chars instead of 54.\".format(len(v_you_signif))\n",
    "    assert v_you_signif[1] == '.', \"Your significand should have a point (period) character in it at position 1, but has a '{}' instead.\".format(v_you_signif[1])\n",
    "    assert v_you_signif[0] in ['0', '1'], \"Your significand have a leading 0 or 1, not a '{}'\".format(v_you_signif[1])\n",
    "    assert all([c in ['0', '1'] for c in v_you_signif[2:]]), \"Your significand should only have binary digits ('0' or '1')\"\n",
    "    assert type(v_you_exp) is int, \"Your exponent should be an integer value, but isn't (it has type '{}')\".format(type(v_you_exp))\n",
    "    assert -1022 <= v_you_exp <= 1023, \"The exponent of {} lies outside the interval, [-1022, 1023].\".format(v_you_exp)\n",
    "\n",
    "def check_fp_bin(v, x_true):\n",
    "    x_you = fp_bin(v)\n",
    "    print(\"\"\"{} [{}] ==\n",
    "         {}\n",
    "vs. you: {}\n",
    "\"\"\".format(v, v.hex(), x_true, x_you))\n",
    "    assert_fp_bin_props(x_you)\n",
    "    assert x_you == x_true, \"Results do not match!\"\n",
    "    \n",
    "check_fp_bin(0.0, ('+', '0.0000000000000000000000000000000000000000000000000000', 0))\n",
    "check_fp_bin(-0.1, ('-', '1.1001100110011001100110011001100110011001100110011010', -4))\n",
    "check_fp_bin(1.0 + (2**(-52)), ('+', '1.0000000000000000000000000000000000000000000000000001', 0))\n",
    "\n",
    "check_fp_bin(-1280.03125, ('-', '1.0100000000000010000000000000000000000000000000000000', 10))\n",
    "check_fp_bin(6.2831853072, ('+', '1.1001001000011111101101010100010001001000011011100000', 2))\n",
    "check_fp_bin(-0.7614972118393695, ('-', '1.1000010111100010111101100110100110110000110010000000', -1))\n",
    "\n",
    "print(\"\\n(Passed!)\")"
   ]
  },
  {
   "cell_type": "code",
   "execution_count": null,
   "metadata": {
    "collapsed": true
   },
   "outputs": [],
   "source": [
    "# Demo of `float.hex()`\n",
    "v = 3.2\n",
    "print(v.hex())"
   ]
  },
  {
   "cell_type": "code",
   "execution_count": null,
   "metadata": {
    "collapsed": true
   },
   "outputs": [],
   "source": [
    "def fp_bin(v):\n",
    "    assert type(v) is float\n",
    "### BEGIN SOLUTION\n",
    "    #1. get thr sign right \n",
    "    sign = '-' if v < 0 else '+'\n",
    "    #2. get just the middle part\n",
    "    v = abs(v).hex()[2:]\n",
    "    # v = 1.999999999999ap+1\n",
    "    significand, exponent = v.split('p')\n",
    "    # exponent = 1\n",
    "    exponent = int(exponent)\n",
    "    #significand is then split again\n",
    "    signif_lead, signif_rem = significand.split('.')\n",
    "    # signif_lead = 1\n",
    "    # signif_rem = 999999999999a\n",
    "  \n",
    "    # replace hex character with 4 digit binary literal\n",
    "    # use a for loop for each character in signif_rem\n",
    "    signif_rem = ''.join([hex2bin(x, 4) for x in signif_rem])\n",
    "    \n",
    "    # 1.1001100110011001100110011001100110011001100110011010\n",
    "    #combine it back \n",
    "    signif = signif_lead + '.' + signif_rem\n",
    "    # signif = 1.1001100110011001100110011001100110011001100110011010\n",
    "    # update it with 0 if its not 53 chracter long\n",
    "    signif += '0' * (54 - len(signif))\n",
    "    \n",
    "    return sign, signif, exponent\n",
    "\n",
    "# helps turn hex into bin\n",
    "def hex2bin(num, width=4): # Following hint...\n",
    "    # 1. turn num into base 16\n",
    "    # 2. turn int into bin\n",
    "    # 3. remove the first two character 'ob'\n",
    "    # 4. fill to the leading with 0\n",
    "    return bin(int(num, base=16))[2:].zfill(width)\n",
    "### END SOLUTION\n",
    "\n",
    "fp_bin(3.2)"
   ]
  },
  {
   "cell_type": "markdown",
   "metadata": {},
   "source": [
    "> The following test cell tries some additional cases, which are random floating-point values. The cell uses your `eval_strfrac()` function, so that must be working properly in order for this test to work."
   ]
  },
  {
   "cell_type": "code",
   "execution_count": null,
   "metadata": {
    "collapsed": true,
    "deletable": false,
    "editable": false,
    "nbgrader": {
     "grade": true,
     "grade_id": "fp_bin_test1",
     "locked": true,
     "points": "2",
     "solution": false
    }
   },
   "outputs": [],
   "source": [
    "# Test: `fp_bin_test1` (2 points)\n",
    "\n",
    "def check_rand_case():\n",
    "    from random import random, expovariate\n",
    "    sign_rand0 = 1.0 if random() < 0.5 else -1.0\n",
    "    base_rand = random()\n",
    "    factor_rand = 1.0 if random() < 0.5 else expovariate(1/10000 if random() < 0.5 else 10000)\n",
    "    v_rand = sign_rand0 * base_rand * factor_rand\n",
    "    print(f\"==> Random test case: {v_rand} [{v_rand.hex()}]\")\n",
    "    v_you_tuple = fp_bin(v_rand)\n",
    "    print(f\"    You generated: {v_you_tuple}\")\n",
    "    assert_fp_bin_props(v_you_tuple)\n",
    "    v_you_sign = 1.0 if v_you_tuple[0] == '+' else -1.0\n",
    "    v_you_signif = eval_strfrac(v_you_tuple[1], base=2)\n",
    "    v_you_exp = v_you_tuple[2]\n",
    "    v_you = v_you_sign * v_you_signif * (2.0 ** v_you_exp)\n",
    "    print(f\"    The equivalent value is: {v_you}\")\n",
    "    assert v_you == v_rand, \"Values do not match!\"\n",
    "\n",
    "for _ in range(10):\n",
    "    check_rand_case()\n",
    "    \n",
    "print(\"\\n(Passed.)\")"
   ]
  },
  {
   "cell_type": "markdown",
   "metadata": {},
   "source": [
    "**Exercise 3** (2 points). Suppose you are given a floating-point value in a base given by `base` and in the form of the tuple, `(sign, significand, exponent)`, where\n",
    "\n",
    "* `sign` is either the character '+' if the value is positive and '-' otherwise;\n",
    "* `significand` is a _string_ representation in base-`base`;\n",
    "* `exponent` is an _integer_ representing the exponent value.\n",
    "\n",
    "Complete the function,\n",
    "\n",
    "```python\n",
    "def eval_fp(sign, significand, exponent, base):\n",
    "    ...\n",
    "```\n",
    "\n",
    "so that it converts the tuple into a numerical value (of type `float`) and returns it.\n",
    "\n",
    "For example, `eval_fp('+', '1.25000', -1, base=10)` should return a value that is close to 0.125.\n",
    "\n",
    "> One of the two test cells below uses your implementation of `fp_bin()` from a previous exercise. If you are encountering errors you cannot figure out, it's possible that there is still an unresolved bug in `fp_bin()` that its test cell did *not* catch."
   ]
  },
  {
   "cell_type": "code",
   "execution_count": null,
   "metadata": {
    "collapsed": true,
    "nbgrader": {
     "grade": false,
     "grade_id": "eval_fp",
     "locked": false,
     "schema_version": 1,
     "solution": true
    }
   },
   "outputs": [],
   "source": [
    "def eval_fp(sign, significand, exponent, base=2):\n",
    "    assert sign in ['+', '-'], \"Sign bit must be '+' or '-', not '{}'.\".format(sign)\n",
    "    assert is_valid_strfrac(significand, base), \"Invalid significand for base-{}: '{}'\".format(base, significand)\n",
    "    assert type(exponent) is int\n",
    "    \n",
    "    sign = int(sign+str(1))\n",
    "    print(sign)\n",
    "    number = eval_strfrac(significand, base)\n",
    "    print(number)\n",
    "    \n",
    "    v = sign * number * (base**exponent)\n",
    "    print(v)\n",
    "    return v\n",
    "\n",
    "eval_fp('+', '1.25000', -1, base=10)\n",
    "\n"
   ]
  },
  {
   "cell_type": "code",
   "execution_count": 47,
   "metadata": {},
   "outputs": [
    {
     "name": "stdout",
     "output_type": "stream",
     "text": [
      "v_sign 1.0\n",
      "1.25\n"
     ]
    },
    {
     "data": {
      "text/plain": [
       "0.125"
      ]
     },
     "execution_count": 47,
     "metadata": {},
     "output_type": "execute_result"
    }
   ],
   "source": [
    "def eval_fp(sign, significand, exponent, base=2):\n",
    "\n",
    "    ### BEGIN SOLUTION\n",
    "    \n",
    "    v_sign = 1.0 if sign == '+' else -1.0\n",
    "    #v_sign = 1.0\n",
    "    \n",
    "    v_significand = eval_strfrac(significand, base)\n",
    "    # v_significand = 1.25\n",
    "    \n",
    "    \n",
    "    return v_sign * v_significand * (base ** exponent)\n",
    "    \n",
    "    ### END SOLUTION\n",
    "    \n",
    "eval_fp('+', '1.25000', -1, base=10)"
   ]
  },
  {
   "cell_type": "code",
   "execution_count": 31,
   "metadata": {
    "deletable": false,
    "editable": false,
    "nbgrader": {
     "grade": true,
     "grade_id": "eval_fp_test0",
     "locked": true,
     "points": "1",
     "schema_version": 1,
     "solution": false
    }
   },
   "outputs": [
    {
     "name": "stdout",
     "output_type": "stream",
     "text": [
      "('+', ['1.25000']_{10}, -1) ~= 0.125: You computed 0.125, which differs by 0.0.\n",
      "\n",
      "(Passed.)\n"
     ]
    }
   ],
   "source": [
    "# Test: `eval_fp_test0` (1 point)\n",
    "\n",
    "def check_eval_fp(sign, significand, exponent, v_true, base=2, tol=1e-7):\n",
    "    v_you = eval_fp(sign, significand, exponent, base)\n",
    "    delta_v = v_you - v_true\n",
    "    msg = \"('{}', ['{}']_{{{}}}, {}) ~= {}: You computed {}, which differs by {}.\".format(sign, significand, base, exponent, v_true, v_you, delta_v)\n",
    "    print(msg)\n",
    "    assert abs(delta_v) <= tol, \"Difference exceeds expected tolerance.\"\n",
    "    \n",
    "# Test 0: From the videos\n",
    "check_eval_fp('+', '1.25000', -1, 0.125, base=10)\n",
    "\n",
    "print(\"\\n(Passed.)\")"
   ]
  },
  {
   "cell_type": "markdown",
   "metadata": {},
   "source": [
    "> Here is an additional test cell that you must pass. Note that it uses your `fp_bin()` function from a previous exercise, assuming that is correct. Therefore, if it has bugs, that may cause this test to fail or give strange errors."
   ]
  },
  {
   "cell_type": "code",
   "execution_count": null,
   "metadata": {
    "collapsed": true,
    "deletable": false,
    "editable": false,
    "nbgrader": {
     "grade": true,
     "grade_id": "eval_fp_test1",
     "locked": true,
     "points": "1",
     "solution": false
    }
   },
   "outputs": [],
   "source": [
    "# Test: `eval_fp_test1` -- Random floating-point binary values (1 point)\n",
    "def gen_rand_fp_bin():\n",
    "    from random import random, randint\n",
    "    v_sign = 1.0 if (random() < 0.5) else -1.0\n",
    "    v_mag = random() * (10**randint(-5, 5))\n",
    "    v = v_sign * v_mag\n",
    "    s_sign, s_bin, s_exp = fp_bin(v)\n",
    "    return v, s_sign, s_bin, s_exp\n",
    "\n",
    "for _ in range(5):\n",
    "    (v_true, sign, significand, exponent) = gen_rand_fp_bin()\n",
    "    check_eval_fp(sign, significand, exponent, v_true, base=2)\n",
    "\n",
    "print(\"\\n(Passed.)\")"
   ]
  },
  {
   "cell_type": "markdown",
   "metadata": {
    "deletable": false,
    "editable": false,
    "nbgrader": {
     "grade": false,
     "grade_id": "cell-920054b7b2795e3f",
     "locked": true,
     "schema_version": 1,
     "solution": false
    }
   },
   "source": [
    "**Exercise 4** (2 points). Suppose you are given two binary floating-point values, `u` and `v`, in the tuple form given above. That is,\n",
    "```python\n",
    "    u == (u_sign, u_signif, u_exp)\n",
    "    v == (v_sign, v_signif, v_exp)\n",
    "```\n",
    "where the base for both `u` and `v` is two (2). Complete the function `add_fp_bin(u, v, signif_bits)`, so that it returns the sum of these two values with the resulting significand _truncated_ to `signif_bits` digits.\n",
    "\n",
    "For example:\n",
    "```python\n",
    "u = ('+', '1.010010', 0)\n",
    "v = ('-', '1.000000', -2)\n",
    "assert add_fp_bin(u, v, 7) == ('+', '1.000010', 0)  # Caller asks for a significand with 7 digits\n",
    "```\n",
    "and:\n",
    "```python\n",
    "u = ('+', '1.00000', 0)\n",
    "v = ('-', '1.00000', -6)\n",
    "assert add_fp_bin(u, v, 6) == ('+', '1.11111', -1)  # Caller asks for a significand with 6 digits\n",
    "```\n",
    "(Check these examples by hand to make sure you understand the intended output.)\n",
    "\n",
    "> _Note 0_: Assume that `signif_bits` _includes_ the leading 1. For instance, suppose `signif_bits == 4`. Then the significand will have the form, `1.xxx`.\n",
    ">\n",
    "> _Note 1_: You may assume that `u_signif` and `v_signif` use `signif_bits` bits (including the leading `1`). Furthermore, you may assume each uses far fewer bits than the underlying native floating-point type (`float`) does, so that you can use native floating-point to compute intermediate values.\n",
    ">\n",
    "> _Hint_: An earlier exercise defines a function, `fp_bin(v)`, which you can use to convert a Python native floating-point value (i.e., `type(v) is float`) into a binary tuple representation."
   ]
  },
  {
   "cell_type": "code",
   "execution_count": 49,
   "metadata": {
    "nbgrader": {
     "grade": false,
     "grade_id": "add_fp_bin",
     "locked": false,
     "schema_version": 1,
     "solution": true
    }
   },
   "outputs": [
    {
     "name": "stdout",
     "output_type": "stream",
     "text": [
      "v_sign 1.0\n",
      "1.0\n",
      "v_sign -1.0\n",
      "1.0\n",
      "1.1111100000000000000000000000000000000000000000000000\n"
     ]
    },
    {
     "data": {
      "text/plain": [
       "('+', '1.11111', -1)"
      ]
     },
     "execution_count": 49,
     "metadata": {},
     "output_type": "execute_result"
    }
   ],
   "source": [
    "def add_fp_bin(u, v, signif_bits):\n",
    "    u_sign, u_signif, u_exp = u\n",
    "    v_sign, v_signif, v_exp = v\n",
    "\n",
    "    \n",
    "    u_eval = eval_fp(u_sign, u_signif, u_exp, base = 2)\n",
    "    v_eval = eval_fp(v_sign, v_signif, v_exp, base = 2)\n",
    "    add = u_eval + v_eval\n",
    "    add = fp_bin(add)\n",
    "    return (add[0], add[1][0:signif_bits+1], add[2])\n",
    "\n",
    "add_fp_bin(u, v, 6)"
   ]
  },
  {
   "cell_type": "code",
   "execution_count": 59,
   "metadata": {},
   "outputs": [
    {
     "name": "stdout",
     "output_type": "stream",
     "text": [
      "v_sign 1.0\n",
      "1.0\n",
      "v_sign -1.0\n",
      "1.0\n",
      "1.1111100000000000000000000000000000000000000000000000\n"
     ]
    },
    {
     "data": {
      "text/plain": [
       "('+', '1.11111', -1)"
      ]
     },
     "execution_count": 59,
     "metadata": {},
     "output_type": "execute_result"
    }
   ],
   "source": [
    "def add_fp_bin(u, v, signif_bits):\n",
    "    u_sign, u_signif, u_exp = u\n",
    "    v_sign, v_signif, v_exp = v\n",
    "    \n",
    "    ### BEGIN SOLUTION\n",
    "    u_value = eval_fp(u_sign, u_signif, u_exp, base=2)\n",
    "    # used previous function, return back to float\n",
    "    # u_value = 1.0\n",
    "    \n",
    "    v_value = eval_fp(v_sign, v_signif, v_exp, base=2)  \n",
    "    # v_value = -0.015625\n",
    "    \n",
    "    w_value = u_value + v_value\n",
    "    # Addition w_value = 0.984375\n",
    "    \n",
    "    \n",
    "    w_sign, w_signif, w_exp = fp_bin(w_value)\n",
    "    # ('+', '1.1111100000000000000000000000000000000000000000000000', -1)\n",
    "    # divide\n",
    "    \n",
    "    w_signif = w_signif[:(signif_bits+1)] \n",
    "    # May need to truncate\n",
    "    \n",
    "    return (w_sign, w_signif, w_exp)\n",
    "    ### END SOLUTION\n",
    "\n",
    "add_fp_bin(u, v, 6)"
   ]
  },
  {
   "cell_type": "code",
   "execution_count": null,
   "metadata": {
    "collapsed": true,
    "deletable": false,
    "editable": false,
    "nbgrader": {
     "grade": true,
     "grade_id": "add_fp_bin_test",
     "locked": true,
     "points": 2,
     "schema_version": 1,
     "solution": false
    }
   },
   "outputs": [],
   "source": [
    "# Test: `add_fp_bin_test`\n",
    "\n",
    "def check_add_fp_bin(u, v, signif_bits, w_true):\n",
    "    w_you = add_fp_bin(u, v, signif_bits)\n",
    "    msg = \"{} + {} == {}: You produced {}.\".format(u, v, w_true, w_you)\n",
    "    print(msg)\n",
    "    assert w_you == w_true, \"Results do not match.\"\n",
    "\n",
    "u = ('+', '1.010010', 0)\n",
    "v = ('-', '1.000000', -2)\n",
    "w_true = ('+', '1.000010', 0)\n",
    "check_add_fp_bin(u, v, 7, w_true)\n",
    "\n",
    "u = ('+', '1.00000', 0)\n",
    "v = ('+', '1.00000', -5)\n",
    "w_true = ('+', '1.00001', 0)\n",
    "check_add_fp_bin(u, v, 6, w_true)\n",
    "\n",
    "u = ('+', '1.00000', 0)\n",
    "v = ('-', '1.00000', -5)\n",
    "w_true = ('+', '1.11110', -1)\n",
    "check_add_fp_bin(u, v, 6, w_true)\n",
    "\n",
    "u = ('+', '1.00000', 0)\n",
    "v = ('+', '1.00000', -6)\n",
    "w_true = ('+', '1.00000', 0)\n",
    "check_add_fp_bin(u, v, 6, w_true)\n",
    "\n",
    "u = ('+', '1.00000', 0)\n",
    "v = ('-', '1.00000', -6)\n",
    "w_true = ('+', '1.11111', -1)\n",
    "check_add_fp_bin(u, v, 6, w_true)\n",
    "\n",
    "print(\"\\n(Passed!)\")"
   ]
  },
  {
   "cell_type": "markdown",
   "metadata": {
    "deletable": false,
    "editable": false,
    "nbgrader": {
     "grade": false,
     "grade_id": "cell-3051088851ca001c",
     "locked": true,
     "schema_version": 1,
     "solution": false
    }
   },
   "source": [
    "**Done!** You've reached the end of `part0`. Be sure to save and submit your work. Once you are satisfied, move on to `part1`."
   ]
  },
  {
   "cell_type": "code",
   "execution_count": 1,
   "metadata": {},
   "outputs": [
    {
     "name": "stdout",
     "output_type": "stream",
     "text": [
      "tar: Removing leading `../../' from member names\n",
      "../../asn1346269_1/\n",
      "../../asn1346269_1/resource/\n",
      "../../asn1346269_1/resource/startercode/\n",
      "tar: ../../asn1346269_1/resource/startercode/resource: File removed before we read it\n",
      "../../asn1346269_1/resource/startercode/.jupyter/\n",
      "../../asn1346269_1/resource/startercode/.jupyter/nbconfig/\n",
      "../../asn1346269_1/resource/startercode/part0.ipynb\n",
      "../../asn1346269_1/resource/scripts/\n",
      "../../asn1346269_1/resource/scripts/run.sh\n",
      "../../asn1346269_1/resource/scripts/build.sh\n",
      "../../asn1346269_1/resource/asnlib/\n",
      "../../asn1346269_1/resource/asnlib/publicdata/\n",
      "../../asn1346269_1/resource/asnlib/public/\n",
      "../../asn1346269_1/resource/asnlib/public/docs/\n",
      "../../asn1346269_1/resource/lib/\n",
      "../../asn1346269_1/resource/lib/publicdata/\n",
      "../../asn1346269_1/resource/lib/publicdata/data/\n",
      "../../asn1346269_1/resource/lib/public/\n",
      "../../asn1346269_1/work/\n",
      "../../asn1346269_1/work/.gitconfig\n",
      "../../asn1346269_1/work/resource/\n",
      "../../asn1346269_1/work/resource/startercode/\n",
      "tar: ../../asn1346269_1/work/resource/startercode/resource: File removed before we read it\n",
      "../../asn1346269_1/work/resource/startercode/.jupyter/\n",
      "../../asn1346269_1/work/resource/startercode/.jupyter/nbconfig/\n",
      "tar: Removing leading `../../' from hard link targets\n",
      "../../asn1346269_1/work/resource/startercode/part0.ipynb\n",
      "../../asn1346269_1/work/resource/scripts/\n",
      "../../asn1346269_1/work/resource/scripts/run.sh\n",
      "../../asn1346269_1/work/resource/scripts/build.sh\n",
      "../../asn1346269_1/work/resource/asnlib/\n",
      "../../asn1346269_1/work/resource/asnlib/publicdata/\n",
      "../../asn1346269_1/work/resource/asnlib/public/\n",
      "../../asn1346269_1/work/resource/asnlib/public/docs/\n",
      "../../asn1346269_1/work/resource/lib/\n",
      "../../asn1346269_1/work/resource/lib/publicdata/\n",
      "../../asn1346269_1/work/resource/lib/publicdata/data/\n",
      "../../asn1346269_1/work/resource/lib/public/\n",
      "../../asn1346269_1/work/.ipynb_checkpoints/\n",
      "../../asn1346269_1/work/.ipynb_checkpoints/part0-checkpoint.ipynb\n",
      "../../asn1346269_1/work/.jupyter/\n",
      "../../asn1346269_1/work/.jupyter/nbconfig/\n",
      "../../asn1346269_1/work/.jupyter/migrated\n",
      "../../asn1346269_1/work/.ipython/\n",
      "../../asn1346269_1/work/.ipython/nbextensions/\n",
      "../../asn1346269_1/work/.ipython/extensions/\n",
      "../../asn1346269_1/work/.ipython/profile_default/\n",
      "../../asn1346269_1/work/.ipython/profile_default/security/\n",
      "../../asn1346269_1/work/.ipython/profile_default/history.sqlite\n",
      "../../asn1346269_1/work/.ipython/profile_default/log/\n",
      "../../asn1346269_1/work/.ipython/profile_default/db/\n",
      "../../asn1346269_1/work/.ipython/profile_default/pid/\n",
      "../../asn1346269_1/work/.ipython/profile_default/startup/\n",
      "../../asn1346269_1/work/.ipython/profile_default/startup/README\n",
      "../../asn1346269_1/work/.local/\n",
      "../../asn1346269_1/work/.local/share/\n",
      "../../asn1346269_1/work/.local/share/jupyter/\n",
      "../../asn1346269_1/work/.local/share/jupyter/runtime/\n",
      "../../asn1346269_1/work/.local/share/jupyter/runtime/kernel-eba9b86c-6d64-4c5e-96b8-b8e213b9a739.json\n",
      "../../asn1346269_1/work/.local/share/jupyter/runtime/nbserver-18644.json\n",
      "../../asn1346269_1/work/.local/share/jupyter/runtime/nbserver-14613.json\n",
      "../../asn1346269_1/work/.local/share/jupyter/runtime/kernel-d01c95b4-7203-447f-989f-cd9c4ea1e4b7.json\n",
      "../../asn1346269_1/work/.local/share/jupyter/runtime/notebook_cookie_secret\n",
      "../../asn1346269_1/work/.local/share/jupyter/notebook_secret\n",
      "../../asn1346269_1/work/.local/share/jupyter/nbsignatures.db\n",
      "../../asn1346269_1/work/notebook.tar.gz\n",
      "../../asn1346269_1/work/part0.ipynb\n",
      "../../asn1346271_2/\n",
      "../../asn1346271_2/resource/\n",
      "../../asn1346271_2/resource/startercode/\n",
      "../../asn1346271_2/resource/startercode/part1.ipynb\n",
      "tar: ../../asn1346271_2/resource/startercode/resource: File removed before we read it\n",
      "../../asn1346271_2/resource/startercode/.jupyter/\n",
      "../../asn1346271_2/resource/startercode/.jupyter/nbconfig/\n",
      "../../asn1346271_2/resource/scripts/\n",
      "../../asn1346271_2/resource/scripts/run.sh\n",
      "../../asn1346271_2/resource/scripts/build.sh\n",
      "../../asn1346271_2/resource/asnlib/\n",
      "../../asn1346271_2/resource/asnlib/publicdata/\n",
      "../../asn1346271_2/resource/asnlib/public/\n",
      "../../asn1346271_2/resource/asnlib/public/docs/\n",
      "../../asn1346271_2/resource/lib/\n",
      "../../asn1346271_2/resource/lib/publicdata/\n",
      "../../asn1346271_2/resource/lib/publicdata/data/\n",
      "../../asn1346271_2/resource/lib/public/\n",
      "../../asn1346271_2/work/\n",
      "../../asn1346271_2/work/part1.ipynb\n",
      "../../asn1346271_2/work/.gitconfig\n",
      "../../asn1346271_2/work/resource/\n",
      "../../asn1346271_2/work/resource/startercode/\n",
      "../../asn1346271_2/work/resource/startercode/part1.ipynb\n",
      "tar: ../../asn1346271_2/work/resource/startercode/resource: File removed before we read it\n",
      "../../asn1346271_2/work/resource/startercode/.jupyter/\n",
      "../../asn1346271_2/work/resource/startercode/.jupyter/nbconfig/\n",
      "../../asn1346271_2/work/resource/scripts/\n",
      "../../asn1346271_2/work/resource/scripts/run.sh\n",
      "../../asn1346271_2/work/resource/scripts/build.sh\n",
      "../../asn1346271_2/work/resource/asnlib/\n",
      "../../asn1346271_2/work/resource/asnlib/publicdata/\n",
      "../../asn1346271_2/work/resource/asnlib/public/\n",
      "../../asn1346271_2/work/resource/asnlib/public/docs/\n",
      "../../asn1346271_2/work/resource/lib/\n",
      "../../asn1346271_2/work/resource/lib/publicdata/\n",
      "../../asn1346271_2/work/resource/lib/publicdata/data/\n",
      "../../asn1346271_2/work/resource/lib/public/\n",
      "../../asn1346271_2/work/.config/\n",
      "../../asn1346271_2/work/.config/matplotlib/\n",
      "../../asn1346271_2/work/.cache/\n",
      "../../asn1346271_2/work/.cache/matplotlib/\n",
      "../../asn1346271_2/work/.cache/matplotlib/fontlist-v330.json\n",
      "../../asn1346271_2/work/.cache/fontconfig/\n",
      "../../asn1346271_2/work/.cache/fontconfig/5c8985f1-0236-4b7a-9f8d-399e77af7700-le64.cache-7\n",
      "../../asn1346271_2/work/.cache/fontconfig/60b00ae1-6d08-468a-a34a-3b1fde241032-le64.cache-7\n",
      "../../asn1346271_2/work/.cache/fontconfig/5fc40d07-7180-4ceb-ac48-1d60317b6ad0-le64.cache-7\n",
      "../../asn1346271_2/work/.cache/fontconfig/b9e4bcfd-424b-44ec-ae4f-9e769de8ac51-le64.cache-7\n",
      "../../asn1346271_2/work/.cache/fontconfig/7402609e-e2ee-4cc0-a7a2-4114ba5f1e63-le64.cache-7\n",
      "../../asn1346271_2/work/.cache/fontconfig/a9b14952-ef3e-4320-98a0-86f956b46eea-le64.cache-7\n",
      "../../asn1346271_2/work/.cache/fontconfig/0670d6a2-67dc-4345-83b2-f8c9db6b9ec8-le64.cache-7\n",
      "../../asn1346271_2/work/.cache/fontconfig/27f84546-442a-4660-aed5-3475a9b791a1-le64.cache-7\n",
      "../../asn1346271_2/work/.cache/fontconfig/3c84d4ae-5905-4935-8712-1e65469d5447-le64.cache-7\n",
      "../../asn1346271_2/work/.cache/fontconfig/212fed6e-05f4-45bb-b771-71204ff318ac-le64.cache-7\n",
      "../../asn1346271_2/work/.cache/fontconfig/080d7a28-b7d3-406d-b398-5f6181a6c708-le64.cache-7\n",
      "../../asn1346271_2/work/.cache/fontconfig/1b713cb5-14a8-4c08-ac91-6ac75a7c258c-le64.cache-7\n",
      "../../asn1346271_2/work/.cache/fontconfig/acd5666e-7acf-45f4-bb24-9a2be5e2f393-le64.cache-7\n",
      "../../asn1346271_2/work/.cache/fontconfig/1d5232c0-4e5e-4845-8971-9afe23448887-le64.cache-7\n",
      "../../asn1346271_2/work/.cache/fontconfig/ec059177-83b8-48ed-898f-cfbf124181c3-le64.cache-7\n",
      "../../asn1346271_2/work/.cache/fontconfig/deae8e0d-7a3e-4f78-b484-dbf9376435ee-le64.cache-7\n",
      "../../asn1346271_2/work/.cache/fontconfig/f0f9b913-8120-4ee2-936d-0cc6b27c872f-le64.cache-7\n",
      "../../asn1346271_2/work/.cache/fontconfig/040d641e-475d-44e9-bfe9-c17faadda7ef-le64.cache-7\n",
      "../../asn1346271_2/work/.cache/fontconfig/adba5796-c28e-4cea-9200-528fd63a908e-le64.cache-7\n",
      "../../asn1346271_2/work/.cache/fontconfig/0723470f-3f78-4dae-8b4a-d99dab1df0e3-le64.cache-7\n",
      "../../asn1346271_2/work/.cache/fontconfig/f1ef4f2e-8e1c-4fa1-83a3-c02eb79cf473-le64.cache-7\n",
      "../../asn1346271_2/work/.cache/fontconfig/912af442-bf2d-49bc-916d-d15f306c97bc-le64.cache-7\n",
      "../../asn1346271_2/work/.cache/fontconfig/170f43f1-68e8-4e9f-8a63-cad3f13a40d3-le64.cache-7\n",
      "../../asn1346271_2/work/.cache/fontconfig/98f3fc2d-914b-4a82-b992-c5f54eb8082d-le64.cache-7\n",
      "../../asn1346271_2/work/.cache/fontconfig/840b9104-1f61-407e-a9d3-777b067373bd-le64.cache-7\n",
      "../../asn1346271_2/work/.cache/fontconfig/4b829e10-f1ba-4bb5-ae58-95f1edd86414-le64.cache-7\n",
      "../../asn1346271_2/work/.cache/fontconfig/58fc6535-f41c-4d63-bb05-7d114f8e13e4-le64.cache-7\n",
      "../../asn1346271_2/work/.cache/fontconfig/7ee0af05-9abc-4ac2-b134-9e640c068162-le64.cache-7\n",
      "../../asn1346271_2/work/.cache/fontconfig/e2db307a-4d1e-453c-b4ef-6cc947961884-le64.cache-7\n",
      "../../asn1346271_2/work/.cache/fontconfig/54207a09-1347-4211-920e-e85f5b33b097-le64.cache-7\n",
      "../../asn1346271_2/work/.cache/fontconfig/80f74005-2f13-412d-b7b1-dc1cd231bd86-le64.cache-7\n",
      "../../asn1346271_2/work/.cache/fontconfig/7b7ecb0e-6ca9-48ee-9bd2-136999a94a58-le64.cache-7\n",
      "../../asn1346271_2/work/.cache/fontconfig/9e87fa66-1c0a-4ca0-ba20-e7df8aa9c138-le64.cache-7\n"
     ]
    },
    {
     "name": "stdout",
     "output_type": "stream",
     "text": [
      "../../asn1346271_2/work/.cache/fontconfig/87488a1e-98cd-4dcc-bf7c-5a14dc4036c6-le64.cache-7\n",
      "../../asn1346271_2/work/.cache/fontconfig/f875d20b-bccb-4f1f-bd36-d491de50b129-le64.cache-7\n",
      "../../asn1346271_2/work/.cache/fontconfig/3f0a61dd-19b6-46ab-9e13-9bdb1681fafb-le64.cache-7\n",
      "../../asn1346271_2/work/.cache/fontconfig/aa5278e8-8611-4ac4-9519-5cc8f9a256fa-le64.cache-7\n",
      "../../asn1346271_2/work/.cache/fontconfig/e3274531-fc78-4c85-970c-b82d83326f70-le64.cache-7\n",
      "../../asn1346271_2/work/.cache/fontconfig/0837d737-2061-4ef8-b039-2e195d1a31b9-le64.cache-7\n",
      "../../asn1346271_2/work/.cache/fontconfig/62743364-04d0-4643-a5de-27bf774eb029-le64.cache-7\n",
      "../../asn1346271_2/work/.cache/fontconfig/4c43d431-32a1-47cd-9eec-a292ea59753f-le64.cache-7\n",
      "../../asn1346271_2/work/.cache/fontconfig/da2477a4-9ad0-4968-8ff0-cbc4e066ff39-le64.cache-7\n",
      "../../asn1346271_2/work/.cache/fontconfig/f75f9e1e-bab0-49af-b801-9c4d656a71a1-le64.cache-7\n",
      "../../asn1346271_2/work/.cache/fontconfig/b382e5c8-8501-4537-a26d-b693d5fb30ae-le64.cache-7\n",
      "../../asn1346271_2/work/.cache/fontconfig/249955a3-6932-4e5b-892b-d65aba76e282-le64.cache-7\n",
      "../../asn1346271_2/work/.cache/fontconfig/39e66762-ddec-4941-9163-7a2453ff67e3-le64.cache-7\n",
      "../../asn1346271_2/work/.cache/fontconfig/16bd52ab-16cb-4ddf-abea-ef82b6ef6b82-le64.cache-7\n",
      "../../asn1346271_2/work/.cache/fontconfig/7705ec08-4e1d-44e3-8f5c-a4e6be256b6e-le64.cache-7\n",
      "../../asn1346271_2/work/.cache/fontconfig/c4280af0-5c84-4443-a6d7-844466eb46d6-le64.cache-7\n",
      "../../asn1346271_2/work/.cache/fontconfig/87c5bbc3-681f-4af4-bbd8-260ae7e8a844-le64.cache-7\n",
      "../../asn1346271_2/work/.cache/fontconfig/dd3de025-8cee-435a-b398-ff442a8e28a6-le64.cache-7\n",
      "../../asn1346271_2/work/.cache/fontconfig/caa53efb-b0ee-4cb6-a044-ae05acbbadaa-le64.cache-7\n",
      "../../asn1346271_2/work/.cache/fontconfig/21a94f41-e181-403c-a177-137ee2a358d7-le64.cache-7\n",
      "../../asn1346271_2/work/.cache/fontconfig/428efc68-23ca-4285-8f25-abcf93249099-le64.cache-7\n",
      "../../asn1346271_2/work/.cache/fontconfig/64cff209-13fd-465b-b223-e9e5b5102033-le64.cache-7\n",
      "../../asn1346271_2/work/.cache/fontconfig/e46547b5-9828-490d-a6eb-c73f58ccabe6-le64.cache-7\n",
      "../../asn1346271_2/work/.cache/fontconfig/bc150489-5ae9-4d50-be95-1129656be027-le64.cache-7\n",
      "../../asn1346271_2/work/.cache/fontconfig/565dc1e6-594c-4be6-9e1e-8e305d23601b-le64.cache-7\n",
      "../../asn1346271_2/work/.cache/fontconfig/40e34697-39df-4628-8e3a-ee8f7873ab87-le64.cache-7\n",
      "../../asn1346271_2/work/.cache/fontconfig/2f405b9a-dbcd-4b16-a7d9-189cc2bc5389-le64.cache-7\n",
      "../../asn1346271_2/work/.cache/fontconfig/fbe112f1-5cfe-481f-b3fa-8e8e199db2d1-le64.cache-7\n",
      "../../asn1346271_2/work/.cache/fontconfig/352e8af1-7ddd-4202-b5b4-2437c3335d62-le64.cache-7\n",
      "../../asn1346271_2/work/.cache/fontconfig/72452902-010d-4621-b5c0-7c1c1b13e4a2-le64.cache-7\n",
      "../../asn1346271_2/work/.cache/fontconfig/f299e67b-23d2-4539-876c-5b2628681ff2-le64.cache-7\n",
      "../../asn1346271_2/work/.cache/fontconfig/eea86927-36b5-4dc8-8663-3ef48e21eb95-le64.cache-7\n",
      "../../asn1346271_2/work/.cache/fontconfig/111ab816-9ec6-4b4e-8b08-73a716bd7d05-le64.cache-7\n",
      "../../asn1346271_2/work/.cache/fontconfig/c49443e7-16df-4c51-a67b-806d759db2c5-le64.cache-7\n",
      "../../asn1346271_2/work/.cache/fontconfig/e3dfa944-d502-4332-a805-d23d873b8ae4-le64.cache-7\n",
      "../../asn1346271_2/work/.cache/fontconfig/a69dc5ee-3785-4cb9-8ccf-3e34c1948f38-le64.cache-7\n",
      "../../asn1346271_2/work/.cache/fontconfig/6b0f2b5b-212a-4b51-92df-f4fb50c72a44-le64.cache-7\n",
      "../../asn1346271_2/work/.cache/fontconfig/67d7d935-b395-4bf3-ad11-afecc77d1ffe-le64.cache-7\n",
      "../../asn1346271_2/work/.cache/fontconfig/bf486811-f7ac-45cb-a53f-4e595bb84068-le64.cache-7\n",
      "../../asn1346271_2/work/.cache/fontconfig/b228a099-de09-4746-a3ba-ea3991965385-le64.cache-7\n",
      "../../asn1346271_2/work/.cache/fontconfig/5a3bf869-4bbd-4f8a-9964-cb2d9657da10-le64.cache-7\n",
      "../../asn1346271_2/work/.cache/fontconfig/884bd92e-7f7a-40ed-94f9-84719ec86929-le64.cache-7\n",
      "../../asn1346271_2/work/.cache/fontconfig/376f1e00-487b-4502-a722-a42bc1d5d346-le64.cache-7\n",
      "../../asn1346271_2/work/.cache/fontconfig/af43d034-ac36-4db4-95f4-5f753c37ab7b-le64.cache-7\n",
      "../../asn1346271_2/work/.cache/fontconfig/c80a0d35-ad71-402e-860f-201aa5e72d69-le64.cache-7\n",
      "../../asn1346271_2/work/.cache/fontconfig/ebd22426-17bc-47a7-bf81-cdf8ed664c9a-le64.cache-7\n",
      "../../asn1346271_2/work/.cache/fontconfig/8ef62e51-d0aa-455f-bdad-ef76f21a2ae2-le64.cache-7\n",
      "../../asn1346271_2/work/.cache/fontconfig/e6b97223-864b-415c-a795-5c7524f2bbea-le64.cache-7\n",
      "../../asn1346271_2/work/.cache/fontconfig/e4c96c52-13bd-4791-8625-06dbae659800-le64.cache-7\n",
      "../../asn1346271_2/work/.cache/fontconfig/8ec9e50e-a023-484b-ab84-9c5bbfd59d25-le64.cache-7\n",
      "../../asn1346271_2/work/.cache/fontconfig/3f8709ab-a76c-4087-bdf5-1984f293f53f-le64.cache-7\n",
      "../../asn1346271_2/work/.cache/fontconfig/3de4bd23-4308-4f3a-b7b8-8d2c992e86d0-le64.cache-7\n",
      "../../asn1346271_2/work/.cache/fontconfig/02ad32da-e4df-4cb4-8daa-0dc9af94818c-le64.cache-7\n",
      "../../asn1346271_2/work/.cache/fontconfig/508eda58-32d0-42ae-94a7-b5c9b9f8f02e-le64.cache-7\n",
      "../../asn1346271_2/work/.cache/fontconfig/9f711523-5f94-49a8-b358-9290dcf1bd45-le64.cache-7\n",
      "../../asn1346271_2/work/.cache/fontconfig/647b5812-1ca2-4e14-8f65-1e2e2377b439-le64.cache-7\n",
      "../../asn1346271_2/work/.cache/fontconfig/0e5fdad5-82c3-4194-b66b-2d593aff8a0f-le64.cache-7\n",
      "../../asn1346271_2/work/.cache/fontconfig/2ccbffc1-fb9b-4611-9fcf-014ff8037dc8-le64.cache-7\n",
      "../../asn1346271_2/work/.cache/fontconfig/0a29f4a4-0482-4ced-a722-5943ab81b1ee-le64.cache-7\n",
      "../../asn1346271_2/work/.cache/fontconfig/61116549-f3b5-4d2e-9315-72fe9ba73d12-le64.cache-7\n",
      "../../asn1346271_2/work/.cache/fontconfig/9b0b1286-5465-4656-a9d4-593ef520d298-le64.cache-7\n",
      "../../asn1346271_2/work/.cache/fontconfig/ae718d31-57d9-4a7e-b8db-a9ff6c1cf87c-le64.cache-7\n",
      "../../asn1346271_2/work/.cache/fontconfig/c58d6481-9217-4d52-a0e3-caf859639def-le64.cache-7\n",
      "../../asn1346271_2/work/.cache/fontconfig/4221270c-8550-44a7-ad6a-177ffbe6339a-le64.cache-7\n",
      "../../asn1346271_2/work/.cache/fontconfig/0a381482-17db-4f30-983c-c3624690ca81-le64.cache-7\n",
      "../../asn1346271_2/work/.cache/fontconfig/bff40f2c-bc92-4e7f-b745-5cf230998b70-le64.cache-7\n",
      "../../asn1346271_2/work/.cache/fontconfig/CACHEDIR.TAG\n",
      "../../asn1346271_2/work/.cache/fontconfig/4924444d-1d89-4844-865f-18df22280a30-le64.cache-7\n",
      "../../asn1346271_2/work/.cache/fontconfig/1a6bd6a9-e71f-464d-8e8d-5593b3110ff6-le64.cache-7\n",
      "../../asn1346271_2/work/.cache/fontconfig/3f3a1f49-b098-4568-8e21-664d4b582430-le64.cache-7\n",
      "../../asn1346271_2/work/.cache/fontconfig/2509f91e-e769-4dcb-a23a-98bc5b4ba0a2-le64.cache-7\n",
      "../../asn1346271_2/work/.cache/fontconfig/d3dbb34b-14eb-476c-a4a1-fa3b7d45a1ee-le64.cache-7\n",
      "../../asn1346271_2/work/.cache/fontconfig/03cda4c1-d075-4905-8cbb-ff11c7d4f88a-le64.cache-7\n",
      "../../asn1346271_2/work/.cache/fontconfig/ad32d83b-2b70-4022-bdb3-196ac85cbd44-le64.cache-7\n",
      "../../asn1346271_2/work/.cache/fontconfig/81439952-744d-4cbc-b0af-196f151ad25a-le64.cache-7\n",
      "../../asn1346271_2/work/.cache/fontconfig/98ec90a9-5fdb-4245-b384-a6828167136c-le64.cache-7\n",
      "../../asn1346271_2/work/.cache/fontconfig/d12ba99f-287d-4aa9-bbe7-3e88a823b757-le64.cache-7\n",
      "../../asn1346271_2/work/.cache/fontconfig/a5ab9b45-6575-423a-83a5-b27e0c20e1a6-le64.cache-7\n",
      "../../asn1346271_2/work/.cache/fontconfig/6a1ef5c5-cc3e-4a41-baa3-9bff4c9a3a24-le64.cache-7\n",
      "../../asn1346271_2/work/.cache/fontconfig/3ed39b69-df76-4731-afce-07430617d0a2-le64.cache-7\n",
      "../../asn1346271_2/work/.cache/fontconfig/3c6b3f2a-33a8-4750-8054-006020f29c74-le64.cache-7\n",
      "../../asn1346271_2/work/.cache/fontconfig/12c9ecd9-5b06-4cab-a931-c7e5ef6353f2-le64.cache-7\n",
      "../../asn1346271_2/work/.cache/fontconfig/d9a334f7-28d9-4290-9a12-742540620812-le64.cache-7\n",
      "../../asn1346271_2/work/.cache/fontconfig/a3dd0b8b-a0e3-4c7f-9b89-233c4c041b25-le64.cache-7\n",
      "../../asn1346271_2/work/.cache/fontconfig/643d55f9-4bcd-4158-a7a8-bb4c420827d9-le64.cache-7\n",
      "../../asn1346271_2/work/.cache/fontconfig/3c0b2b1a-3212-4b98-8347-71a79263c6c6-le64.cache-7\n",
      "../../asn1346271_2/work/.cache/fontconfig/5bd19a53-9035-46cb-91b5-1fb765430db2-le64.cache-7\n",
      "../../asn1346271_2/work/.cache/fontconfig/66147408-4c8b-46ff-88fd-817c7f40c9ac-le64.cache-7\n",
      "../../asn1346271_2/work/.cache/fontconfig/e62987ba-5c78-468f-806f-cedd11468262-le64.cache-7\n",
      "../../asn1346271_2/work/.cache/fontconfig/00e6dec3-964d-46a3-904c-399ce0a22080-le64.cache-7\n",
      "../../asn1346271_2/work/.cache/fontconfig/b07fcc63-240d-404c-84b9-a0fe2f373c38-le64.cache-7\n",
      "../../asn1346271_2/work/.cache/fontconfig/42e1d6ff-422a-497a-ba1a-7c0dab3717a0-le64.cache-7\n",
      "../../asn1346271_2/work/.cache/fontconfig/0e48f4da-edc1-43ec-b02c-bf75d4e58da3-le64.cache-7\n",
      "../../asn1346271_2/work/.cache/fontconfig/dec30fcb-40e7-45eb-aaf0-565c0ba17eb2-le64.cache-7\n",
      "../../asn1346271_2/work/.cache/fontconfig/e0858171-5784-4f0d-9102-be9d1d8b7bbf-le64.cache-7\n",
      "../../asn1346271_2/work/.cache/fontconfig/23fb8dff-8384-4d6a-93db-91b8599e7010-le64.cache-7\n"
     ]
    },
    {
     "name": "stdout",
     "output_type": "stream",
     "text": [
      "../../asn1346271_2/work/.cache/fontconfig/095c14f9-d9bb-4800-acb6-40b5d5dc403e-le64.cache-7\n",
      "../../asn1346271_2/work/.cache/fontconfig/a7db6b51-6722-4260-ae71-9d4c929772db-le64.cache-7\n",
      "../../asn1346271_2/work/.cache/fontconfig/b78385f1-12ba-4785-8477-ec00c1b508ee-le64.cache-7\n",
      "../../asn1346271_2/work/.cache/fontconfig/f067a278-2724-4bcd-9d1f-0ceec70381e8-le64.cache-7\n",
      "../../asn1346271_2/work/.cache/fontconfig/781d6c3f-8f9a-41e5-ab67-55e81d5c25f7-le64.cache-7\n",
      "../../asn1346271_2/work/.cache/fontconfig/ca76fbea-9db1-46d8-92a8-cc8bec54af40-le64.cache-7\n",
      "../../asn1346271_2/work/.cache/fontconfig/ef9a8a01-c073-450d-b312-8f921aec1817-le64.cache-7\n",
      "../../asn1346271_2/work/.cache/fontconfig/bcbd4ce1-f2e8-4f79-a9a2-3faf3e03629e-le64.cache-7\n",
      "../../asn1346271_2/work/.cache/fontconfig/20144b64-a81f-446a-9a6c-92894fcc7270-le64.cache-7\n",
      "../../asn1346271_2/work/.cache/fontconfig/ee78f51d-b896-4d22-938e-3aa18dc067e7-le64.cache-7\n",
      "../../asn1346271_2/work/.cache/fontconfig/6bb45685-27d5-414f-af2a-c11fe67f9699-le64.cache-7\n",
      "../../asn1346271_2/work/.cache/fontconfig/0ce79fe5-9ce3-4546-83b9-bd6d3384642b-le64.cache-7\n",
      "../../asn1346271_2/work/.cache/fontconfig/bd095c13-2a16-4813-8192-4388240bb1df-le64.cache-7\n",
      "../../asn1346271_2/work/.cache/fontconfig/e6549d3f-3455-4793-a46c-e80a1868753a-le64.cache-7\n",
      "../../asn1346271_2/work/.cache/fontconfig/d3615794-876a-45d4-9c8a-370a86fdc35d-le64.cache-7\n",
      "../../asn1346271_2/work/.cache/fontconfig/c8ea16f9-fe67-466c-a6ff-5c0e21ea26fd-le64.cache-7\n",
      "../../asn1346271_2/work/.cache/fontconfig/cb3eca5b-3b15-4db2-8d89-8e0181326b8e-le64.cache-7\n",
      "../../asn1346271_2/work/.cache/fontconfig/0b3a3a56-1067-429f-b277-3f0bd8ec9a64-le64.cache-7\n",
      "../../asn1346271_2/work/.cache/fontconfig/4f3b8e74-fe29-41e0-81ea-426cdf336765-le64.cache-7\n",
      "../../asn1346271_2/work/.cache/fontconfig/afa7e6ce-1a62-4c25-8cde-ccd70db6d3c8-le64.cache-7\n",
      "../../asn1346271_2/work/.cache/fontconfig/c2164f4d-c182-4f1f-a3c8-e71fd57db0c5-le64.cache-7\n",
      "../../asn1346271_2/work/.cache/fontconfig/8db3d76f-1db2-4b1e-b7ef-a6c5cbbf2f26-le64.cache-7\n",
      "../../asn1346271_2/work/.cache/fontconfig/4c756059-8dfd-4328-82f5-2c4c567612ab-le64.cache-7\n",
      "../../asn1346271_2/work/.cache/fontconfig/a6d62445-374f-443f-b504-7fa4cabcab69-le64.cache-7\n",
      "../../asn1346271_2/work/.cache/fontconfig/9c3007bb-5de0-47b9-91d7-dd14b70b5eb6-le64.cache-7\n",
      "../../asn1346271_2/work/.cache/fontconfig/9661c695-1a3f-43a6-a14c-3a10e14c0237-le64.cache-7\n",
      "../../asn1346271_2/work/.ipynb_checkpoints/\n",
      "../../asn1346271_2/work/.ipynb_checkpoints/part1-checkpoint.ipynb\n",
      "../../asn1346271_2/work/.jupyter/\n",
      "../../asn1346271_2/work/.jupyter/nbconfig/\n",
      "../../asn1346271_2/work/.jupyter/migrated\n",
      "../../asn1346271_2/work/.ipython/\n",
      "../../asn1346271_2/work/.ipython/nbextensions/\n",
      "../../asn1346271_2/work/.ipython/extensions/\n",
      "../../asn1346271_2/work/.ipython/profile_default/\n",
      "../../asn1346271_2/work/.ipython/profile_default/security/\n",
      "../../asn1346271_2/work/.ipython/profile_default/history.sqlite\n",
      "../../asn1346271_2/work/.ipython/profile_default/log/\n",
      "../../asn1346271_2/work/.ipython/profile_default/db/\n",
      "../../asn1346271_2/work/.ipython/profile_default/pid/\n",
      "../../asn1346271_2/work/.ipython/profile_default/startup/\n",
      "../../asn1346271_2/work/.ipython/profile_default/startup/README\n",
      "../../asn1346271_2/work/.local/\n",
      "../../asn1346271_2/work/.local/share/\n",
      "../../asn1346271_2/work/.local/share/jupyter/\n",
      "../../asn1346271_2/work/.local/share/jupyter/runtime/\n",
      "../../asn1346271_2/work/.local/share/jupyter/runtime/notebook_cookie_secret\n",
      "../../asn1346271_2/work/.local/share/jupyter/notebook_secret\n",
      "../../asn1346271_2/work/.local/share/jupyter/nbsignatures.db\n"
     ]
    }
   ],
   "source": [
    "!tar --exclude='*/.voc' --exclude='*/.voc.work' -chvzf notebook.tar.gz ../../*"
   ]
  },
  {
   "cell_type": "code",
   "execution_count": null,
   "metadata": {
    "collapsed": true
   },
   "outputs": [],
   "source": []
  }
 ],
 "metadata": {
  "celltoolbar": "Create Assignment",
  "kernelspec": {
   "display_name": "Python 3.8",
   "language": "python",
   "name": "python38"
  },
  "language_info": {
   "codemirror_mode": {
    "name": "ipython",
    "version": 3
   },
   "file_extension": ".py",
   "mimetype": "text/x-python",
   "name": "python",
   "nbconvert_exporter": "python",
   "pygments_lexer": "ipython3",
   "version": "3.8.7"
  }
 },
 "nbformat": 4,
 "nbformat_minor": 1
}
