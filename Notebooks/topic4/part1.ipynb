{
 "cells": [
  {
   "cell_type": "markdown",
   "metadata": {
    "deletable": false,
    "editable": false,
    "nbgrader": {
     "grade": false,
     "grade_id": "cell-9aaf26a925783c90",
     "locked": true,
     "schema_version": 1,
     "solution": false
    }
   },
   "source": [
    "# Floating-point arithmetic\n",
    "\n",
    "As a data analyst, you will be concerned primarily with _numerical programs_ in which the bulk of the computational work involves floating-point computation. This notebook guides you through some of the most fundamental concepts in how computers store real numbers, so you can be smarter about your number crunching."
   ]
  },
  {
   "cell_type": "markdown",
   "metadata": {
    "deletable": false,
    "editable": false,
    "nbgrader": {
     "grade": false,
     "grade_id": "cell-024b2bd877479b1d",
     "locked": true,
     "schema_version": 1,
     "solution": false
    }
   },
   "source": [
    "## WYSInnWYG, or \"what you see is not necessarily what you get.\"\n",
    "\n",
    "One important consequence of a binary format is that when you print values in base ten, what you see may not be what you get! For instance, try running the code below.\n",
    "\n",
    "> This code invokes Python's [`decimal`](https://docs.python.org/3/library/decimal.html) package, which implements base-10 floating-point arithmetic in software."
   ]
  },
  {
   "cell_type": "code",
   "execution_count": 2,
   "metadata": {
    "collapsed": true,
    "deletable": false,
    "editable": false,
    "nbgrader": {
     "grade": false,
     "grade_id": "cell-c0e27a92bd395366",
     "locked": true,
     "schema_version": 1,
     "solution": false
    }
   },
   "outputs": [],
   "source": [
    "from decimal import Decimal\n",
    "# Asks for a help page on the Decimal() constructor\n",
    "?Decimal "
   ]
  },
  {
   "cell_type": "code",
   "execution_count": 3,
   "metadata": {
    "deletable": false,
    "editable": false,
    "nbgrader": {
     "grade": false,
     "grade_id": "cell-f43436f5b27c8d5f",
     "locked": true,
     "schema_version": 1,
     "solution": false
    }
   },
   "outputs": [
    {
     "name": "stdout",
     "output_type": "stream",
     "text": [
      "1.0000000000000002\n",
      "1.0000000000000002220446049250313080847263336181640625\n",
      "5.551115123125782702118158340E-18\n"
     ]
    }
   ],
   "source": [
    "x = 1.0 + 2.0**(-52)\n",
    "\n",
    "print(x)\n",
    "print(Decimal(x)) # What does this do?\n",
    "\n",
    "print(Decimal(0.1) - Decimal('0.1')) # Why does the output appear as it does?"
   ]
  },
  {
   "cell_type": "markdown",
   "metadata": {
    "deletable": false,
    "editable": false,
    "nbgrader": {
     "grade": false,
     "grade_id": "cell-cd4af9ff41ebbca3",
     "locked": true,
     "schema_version": 1,
     "solution": false
    }
   },
   "source": [
    "> Aside: If you ever need true decimal storage with no loss of precision (e.g., an accounting application), turn to the `decimal` package. Just be warned it might be slower. See the following experiment for a practical demonstration."
   ]
  },
  {
   "cell_type": "code",
   "execution_count": 4,
   "metadata": {
    "deletable": false,
    "editable": false,
    "nbgrader": {
     "grade": false,
     "grade_id": "cell-e88714f8211a3bcc",
     "locked": true,
     "schema_version": 1,
     "solution": false
    }
   },
   "outputs": [
    {
     "name": "stdout",
     "output_type": "stream",
     "text": [
      "Native arithmetic:\n",
      "206 ms ± 2.4 ms per loop (mean ± std. dev. of 7 runs, 1 loop each)\n",
      "\n",
      "Decimal package:\n",
      "631 ms ± 2.63 ms per loop (mean ± std. dev. of 7 runs, 1 loop each)\n"
     ]
    }
   ],
   "source": [
    "from random import random\n",
    "\n",
    "NUM_TRIALS = 2500000\n",
    "\n",
    "print(\"Native arithmetic:\")\n",
    "A_native = [random() for _ in range(NUM_TRIALS)]\n",
    "B_native = [random() for _ in range(NUM_TRIALS)]\n",
    "%timeit [a+b for a, b in zip(A_native, B_native)]\n",
    "\n",
    "print(\"\\nDecimal package:\")\n",
    "A_decimal = [Decimal(a) for a in A_native]\n",
    "B_decimal = [Decimal(b) for b in B_native]\n",
    "%timeit [a+b for a, b in zip(A_decimal, B_decimal)]"
   ]
  },
  {
   "cell_type": "markdown",
   "metadata": {
    "deletable": false,
    "editable": false,
    "nbgrader": {
     "grade": false,
     "grade_id": "cell-e9a030191e73cb30",
     "locked": true,
     "schema_version": 1,
     "solution": false
    }
   },
   "source": [
    "**The same and not the same.** Consider the following two program fragments:\n",
    "\n",
    "_Program 1_:\n",
    "\n",
    "    s = a - b\n",
    "    t = s + b\n",
    "    \n",
    "_Program 2_:\n",
    "\n",
    "    s = a + b\n",
    "    t = s - b\n",
    "\n",
    "Let $a=1.0$ and $b=\\epsilon_d / 2 \\approx 1.11 \\times 10^{-16}$, i.e., machine epsilon for IEEE-754 double-precision. Recall that we do not expect these programs to return the same value; let's run some Python code to see.\n",
    "\n",
    "> Note: The IEEE standard guarantees that given two finite-precision floating-point values, the result of applying any binary operator to them is the same as if the operator were applied in infinite-precision and then rounded back to finite-precision. The precise nature of rounding can be controlled by so-called _rounding modes_; the default rounding mode is \"[round-half-to-even](http://en.wikipedia.org/wiki/Rounding).\""
   ]
  },
  {
   "cell_type": "code",
   "execution_count": 5,
   "metadata": {
    "deletable": false,
    "editable": false,
    "nbgrader": {
     "grade": false,
     "grade_id": "cell-876de55144201fcb",
     "locked": true,
     "schema_version": 1,
     "solution": false
    }
   },
   "outputs": [
    {
     "name": "stdout",
     "output_type": "stream",
     "text": [
      "s1: 0x1.fffffffffffffp-1\n",
      "t1: 0x1.0000000000000p+0\n",
      "\n",
      "\n",
      "s2: 0x1.0000000000000p+0\n",
      "t2: 0x1.fffffffffffffp-1\n",
      "\n",
      "1.0 vs. 0.9999999999999999\n",
      "(t1 == t2) == False\n"
     ]
    }
   ],
   "source": [
    "a = 1.0\n",
    "b = 2.**(-53) # == $\\epsilon_d$ / 2.0\n",
    "\n",
    "s1 =  a - b\n",
    "t1 = s1 + b\n",
    "\n",
    "s2 =  a + b\n",
    "t2 = s2 - b\n",
    "\n",
    "print(\"s1:\", s1.hex())\n",
    "print(\"t1:\", t1.hex())\n",
    "print(\"\\n\")\n",
    "print(\"s2:\", s2.hex())\n",
    "print(\"t2:\", t2.hex())\n",
    "\n",
    "print(\"\")\n",
    "print(t1, \"vs.\", t2)\n",
    "print(\"(t1 == t2) == {}\".format(t1 == t2))"
   ]
  },
  {
   "cell_type": "markdown",
   "metadata": {
    "deletable": false,
    "editable": false,
    "nbgrader": {
     "grade": false,
     "grade_id": "cell-6d6d732b7fa4ba17",
     "locked": true,
     "schema_version": 1,
     "solution": false
    }
   },
   "source": [
    "By the way, the NumPy/SciPy package, which we will cover later in the semester, allows you to determine machine epsilon in a portable way. Just note this fact for now.\n",
    "\n",
    "Here is an example of printing machine epsilon for both single-precision and double-precision values."
   ]
  },
  {
   "cell_type": "code",
   "execution_count": 6,
   "metadata": {
    "deletable": false,
    "editable": false,
    "nbgrader": {
     "grade": false,
     "grade_id": "cell-896df87879b06cf5",
     "locked": true,
     "schema_version": 1,
     "solution": false
    },
    "scrolled": true
   },
   "outputs": [
    {
     "name": "stdout",
     "output_type": "stream",
     "text": [
      "Single-precision machine epsilon: 0x1.0000000000000p-23 ~ 1.1920929e-07\n",
      "Double-precision machine epsilon: 0x1.0000000000000p-52 ~ 2.220446049250313e-16\n"
     ]
    }
   ],
   "source": [
    "import numpy as np\n",
    "\n",
    "EPS_S = np.finfo (np.float32).eps\n",
    "EPS_D = np.finfo (float).eps\n",
    "\n",
    "print(\"Single-precision machine epsilon:\", float(EPS_S).hex(), \"~\", EPS_S)\n",
    "print(\"Double-precision machine epsilon:\", float(EPS_D).hex(), \"~\", EPS_D)"
   ]
  },
  {
   "cell_type": "markdown",
   "metadata": {
    "deletable": false,
    "editable": false,
    "nbgrader": {
     "grade": false,
     "grade_id": "cell-ecc3f3af12361b94",
     "locked": true,
     "schema_version": 1,
     "solution": false
    }
   },
   "source": [
    "## Analyzing floating-point programs\n",
    "\n",
    "Let's say someone devises an algorithm to compute $f(x)$. For a given value $x$, let's suppose this algorithm produces the value $\\mathrm{alg}(x)$. One important question might be, is that output \"good\" or \"bad?\""
   ]
  },
  {
   "cell_type": "markdown",
   "metadata": {
    "deletable": false,
    "editable": false,
    "nbgrader": {
     "grade": false,
     "grade_id": "cell-8fbd68808071301a",
     "locked": true,
     "schema_version": 1,
     "solution": false
    }
   },
   "source": [
    "**Forward stability.** One way to show that the algorithm is good is to show that\n",
    "\n",
    "$$\n",
    "  \\left| \\mathrm{alg}(x) - f(x) \\right|\n",
    "$$\n",
    "\n",
    "is \"small\" for all $x$ of interest to your application. What is small depends on context. In any case, if you can show it then you can claim that the algorithm is _forward stable_."
   ]
  },
  {
   "cell_type": "markdown",
   "metadata": {
    "deletable": false,
    "editable": false,
    "nbgrader": {
     "grade": false,
     "grade_id": "cell-4077b0fb1889dd35",
     "locked": true,
     "schema_version": 1,
     "solution": false
    }
   },
   "source": [
    "**Backward stability.** Sometimes it is not easy to show forward stability directly. In such cases, you can also try a different technique, which is to show that the algorithm is, instead, _backward stable_.\n",
    "\n",
    "In particular, $\\mathrm{alg}(x)$ is a _backward stable algorithm_ to compute $f(x)$ if, for all $x$, there exists a \"small\" $\\Delta x$ such that\n",
    "\n",
    "$$\\mathrm{alg}(x) = f(x + \\Delta x).$$\n",
    "\n",
    "In other words, if you can show that the algorithm produces the exact answer to a slightly different input problem (meaning $\\Delta x$ is small, again in a context-dependent sense), then you can claim that the algorithm is backward stable."
   ]
  },
  {
   "cell_type": "markdown",
   "metadata": {
    "deletable": false,
    "editable": false,
    "nbgrader": {
     "grade": false,
     "grade_id": "cell-26a015d4f6f2c8a8",
     "locked": true,
     "schema_version": 1,
     "solution": false
    }
   },
   "source": [
    "**Round-off errors.** You already know that numerical values can only be represented finitely, which introduces round-off error. Thus, at the very least we should hope that a scheme to compute $f(x)$ is as insensitive to round-off errors as possible. In other words, given that there will be round-off errors, if you can prove that $\\mathrm{alg}(x)$ is either forward or backward stable, then that will give you some measure of confidence that your algorithm is good.\n",
    "\n",
    "Here is the \"standard model\" of round-off error. Start by assuming that every scalar floating-point operation incurs some bounded error. That is, let $a \\odot b$ be the exact mathematical result of some operation on the inputs, $a$ and $b$, and let $\\mathrm{fl}(a \\odot b)$ be the _computed_ value, after rounding in finite-precision. The standard model says that\n",
    "\n",
    "$$\\mathrm{fl}(a \\odot b) \\equiv (a \\odot b) (1 + \\delta),$$\n",
    "\n",
    "where $|\\delta| \\leq \\epsilon$, machine epsilon."
   ]
  },
  {
   "cell_type": "markdown",
   "metadata": {
    "deletable": false,
    "editable": false,
    "nbgrader": {
     "grade": false,
     "grade_id": "cell-b2b501f052de6506",
     "locked": true,
     "schema_version": 1,
     "solution": false
    }
   },
   "source": [
    "Let's apply these concepts on an example."
   ]
  },
  {
   "cell_type": "markdown",
   "metadata": {
    "deletable": false,
    "editable": false,
    "nbgrader": {
     "grade": false,
     "grade_id": "cell-0e3d4b4b01fc90c8",
     "locked": true,
     "schema_version": 1,
     "solution": false
    }
   },
   "source": [
    "## Example: Computing a sum\n",
    "\n",
    "Let $x \\equiv (x_0, \\ldots, x_{n-1})$ be a collection of input data values. Suppose we wish to compute their sum.\n",
    "\n",
    "The exact mathematical result is\n",
    "\n",
    "$$\n",
    "  f(x) \\equiv \\sum_{i=0}^{n-1} x_i.\n",
    "$$\n",
    "\n",
    "Given $x$, let's also denote its exact sum by the synonym $s_{n-1} \\equiv f(x)$.\n",
    "  \n",
    "Now consider the following Python program to compute its sum:"
   ]
  },
  {
   "cell_type": "code",
   "execution_count": 7,
   "metadata": {
    "collapsed": true,
    "deletable": false,
    "editable": false,
    "nbgrader": {
     "grade": false,
     "grade_id": "cell-4f98471e698ccef1",
     "locked": true,
     "schema_version": 1,
     "solution": false
    }
   },
   "outputs": [],
   "source": [
    "def alg_sum(x): # x == x[:n]\n",
    "    s = 0.\n",
    "    for x_i in x: # x_0, x_1, \\ldots, x_{n-1}\n",
    "        s += x_i\n",
    "    return s"
   ]
  },
  {
   "cell_type": "markdown",
   "metadata": {
    "deletable": false,
    "editable": false,
    "nbgrader": {
     "grade": false,
     "grade_id": "cell-e6f9811a80a0ab35",
     "locked": true,
     "schema_version": 1,
     "solution": false
    }
   },
   "source": [
    "In exact arithmetic, meaning without any rounding errors, this program would compute the exact sum. (See also the note below.) However, you know that finite arithmetic means there will be some rounding error after each addition.\n",
    "\n",
    "Let $\\delta_i$ denote the (unknown) error at iteration $i$. Then, assuming the collection `x` represents the input values exactly, you can show that `alg_sum(x)` computes $\\hat{s}_{n-1}$ where\n",
    "\n",
    "$$\n",
    "  \\hat{s}_{n-1} \\approx s_{n-1} + \\sum_{i=0}^{n-1} s_i \\delta_i,\n",
    "$$\n",
    "\n",
    "that is, the exact sum _plus_ a perturbation, which is the second term (the sum). The question, then, is under what conditions will this sum will be small?"
   ]
  },
  {
   "cell_type": "markdown",
   "metadata": {
    "deletable": false,
    "editable": false,
    "nbgrader": {
     "grade": false,
     "grade_id": "cell-f9348f14bcb9e7c7",
     "locked": true,
     "schema_version": 1,
     "solution": false
    }
   },
   "source": [
    "Using a *backward error analysis*, you can show that\n",
    "\n",
    "$$\n",
    "  \\hat{s}_{n-1} \\approx \\sum_{i=0}^{n-1} x_i(1 + \\Delta_i) = f(x + \\Delta),\n",
    "$$\n",
    "\n",
    "where $\\Delta \\equiv (\\Delta_0, \\Delta_1, \\ldots, \\Delta_{n-1})$. In other words, the computed sum is the exact solution to a slightly different problem, $x + \\Delta$.\n",
    "\n",
    "To complete the analysis, you can at last show that\n",
    "\n",
    "$$\n",
    "  |\\Delta_i| \\leq (n-i) \\epsilon,\n",
    "$$\n",
    "\n",
    "where $\\epsilon$ is machine precision. Thus, as long as $n \\epsilon \\ll 1$, then the algorithm is backward stable and you should expect the computed result to be close to the true result. Interpreted differently, as long as you are summing $n \\ll \\frac{1}{\\epsilon}$ values, then you needn't worry about the accuracy of the computed result compared to the true result:"
   ]
  },
  {
   "cell_type": "code",
   "execution_count": 8,
   "metadata": {
    "deletable": false,
    "editable": false,
    "nbgrader": {
     "grade": false,
     "grade_id": "cell-466a2e8b4f4994f6",
     "locked": true,
     "schema_version": 1,
     "solution": false
    }
   },
   "outputs": [
    {
     "name": "stdout",
     "output_type": "stream",
     "text": [
      "Single-precision: 1/epsilon_s ~= 8.4 million\n",
      "Double-precision: 1/epsilon_d ~= 4.5 quadrillion\n"
     ]
    }
   ],
   "source": [
    "print(\"Single-precision: 1/epsilon_s ~= {:.1f} million\".format(1e-6 / EPS_S))\n",
    "print(\"Double-precision: 1/epsilon_d ~= {:.1f} quadrillion\".format(1e-15 / EPS_D))"
   ]
  },
  {
   "cell_type": "markdown",
   "metadata": {},
   "source": [
    "Based on this result, you can probably surmise why double-precision is usually the default in many languages."
   ]
  },
  {
   "cell_type": "markdown",
   "metadata": {
    "deletable": false,
    "editable": false,
    "nbgrader": {
     "grade": false,
     "grade_id": "cell-7ec9aec926538bfe",
     "locked": true,
     "schema_version": 1,
     "solution": false
    }
   },
   "source": [
    "In the case of this summation, we can quantify not just the _backward error_ (i.e., $\\Delta_i$) but also the _forward error_. In that case, it turns out that\n",
    "\n",
    "$$\n",
    "  \\left| \\hat{s}_{n-1} - s_{n-1} \\right| \\lessapprox n \\epsilon \\|x\\|_1.\n",
    "$$"
   ]
  },
  {
   "cell_type": "markdown",
   "metadata": {
    "deletable": false,
    "editable": false,
    "nbgrader": {
     "grade": false,
     "grade_id": "cell-39255e00fa2a1910",
     "locked": true,
     "schema_version": 1,
     "solution": false
    }
   },
   "source": [
    "> **Note: Analysis in exact arithmetic.** We claimed above that `alg_sum()` is correct _in exact arithmetic_, i.e., in the absence of round-off error. You probably have a good sense of that just reading the code.\n",
    ">\n",
    "> However, if you wanted to argue about its correctness more formally, you might do so as follows using the technique of [proof by induction](https://en.wikipedia.org/wiki/Mathematical_induction). When your loops are more complicated and you want to prove that they are correct, you can often adapt this technique to your problem.\n",
    ">\n",
    "> First, assume that the `for` loop enumerates each element `p[i]` in order from `i=0` to `n-1`, where `n=len(p)`. That is, assume `p_i` is `p[i]`.\n",
    ">\n",
    "> Let $p_k \\equiv \\mathtt{p[}k\\mathtt{]}$ be the $k$-th element of `p[:]`. Let $s_i \\equiv \\sum_{k=0}^{i} p_k$; in other words, $s_i$ is the _exact_ mathematical sum of `p[:i+1]`. Thus, $s_{n-1}$ is the exact sum of `p[:]`.\n",
    ">\n",
    "> Let $\\hat{s}_{-1}$ denote the initial value of the variable `s`, which is 0. For any $i \\geq 0$, let $\\hat{s}_i$ denote the _computed_ value of the variable `s` immediately after the execution of line 4, where $i=\\mathtt{i}$. When $i=\\mathtt{i}=0$, $\\hat{s}_0 = \\hat{s}_{-1} + p_0 = p_0$, which is the exact sum of `p[:1]`. Thus, $\\hat{s}_0 = s_0$.\n",
    "> \n",
    "> Now suppose that $\\hat{s}_{i-1} = s_{i-1}$. When $\\mathtt{i}=i$, we want to show that $\\hat{s}_i = s_i$. After line 4 executes, $\\hat{s}_{i} = \\hat{s}_{i-1} + p_i = s_{i-1} + p_i = s_i$. Thus, the computed value $\\hat{s}_i$ is the exact sum $s_i$.\n",
    ">\n",
    "> If $i=n$, then, at line 5, the value $\\mathtt{s}=\\hat{s}_{n-1}=s_{n-1}$, and thus the program must in line 5 return the exact sum."
   ]
  },
  {
   "cell_type": "markdown",
   "metadata": {
    "deletable": false,
    "editable": false,
    "nbgrader": {
     "grade": false,
     "grade_id": "cell-de8661c6704ebdf6",
     "locked": true,
     "schema_version": 1,
     "solution": false
    }
   },
   "source": [
    "## A numerical experiment: Summation\n",
    "\n",
    "Let's do an experiment to verify that these bounds hold."
   ]
  },
  {
   "cell_type": "markdown",
   "metadata": {
    "deletable": false,
    "editable": false,
    "nbgrader": {
     "grade": false,
     "locked": true,
     "solution": false
    }
   },
   "source": [
    "**Exercise 0** (2 points). In the code cell below, we've defined a list,\n",
    "\n",
    "```python\n",
    "    N = [10, 100, 1000, 10000, 100000, 1000000, 10000000]\n",
    "```\n",
    "\n",
    "* Take each entry `N[i]` to be a problem size.\n",
    "* Let `t[:len(N)]` be a list, which will hold computed sums.\n",
    "* For each `N[i]`, run an experiment where you sum a list of values `x[:N[i]]` using `alg_sum()`. You should initialize `x[:]` so that all elements have the value **`0.1`**. Store the computed sum in `t[i]`."
   ]
  },
  {
   "cell_type": "code",
   "execution_count": 11,
   "metadata": {
    "nbgrader": {
     "grade": false,
     "grade_id": "experiment",
     "locked": false,
     "schema_version": 1,
     "solution": true
    }
   },
   "outputs": [
    {
     "data": {
      "text/plain": [
       "9.99999999999998"
      ]
     },
     "execution_count": 11,
     "metadata": {},
     "output_type": "execute_result"
    }
   ],
   "source": [
    "N = [10, 100, 1000, 10000, 100000, 1000000, 10000000]\n",
    "\n",
    "#compute the exact sum\n",
    "def alg_sum(x): # x == x[:n]\n",
    "    s = 0.\n",
    "    for x_i in x: # x_0, x_1, \\ldots, x_{n-1}\n",
    "        s += x_i\n",
    "    return s\n",
    "\n",
    "# Initialize an array t of size len(N) to all zeroes.\n",
    "t = [0.0] * len(N)  \n",
    "\n",
    "# Your code should do the experiment described above for\n",
    "# each problem size N[i], and store the computed sum in t[i].\n",
    "\n",
    "### BEGIN SOLUTION\n",
    "# creating the empty list of 0.1\n",
    "x = [0.1] * max(N)\n",
    "\n",
    "t = []\n",
    "for n in N:\n",
    "    t.append(alg_sum(x[0:n]))\n",
    "\n",
    "\n",
    "#t = [alg_sum(x[0:n]) for n in N]\n",
    "### END SOLUTION\n",
    "\n",
    "#print(t)\n",
    "\n"
   ]
  },
  {
   "cell_type": "code",
   "execution_count": 1,
   "metadata": {
    "collapsed": true
   },
   "outputs": [],
   "source": []
  },
  {
   "cell_type": "code",
   "execution_count": 2,
   "metadata": {
    "deletable": false,
    "editable": false,
    "nbgrader": {
     "grade": true,
     "grade_id": "experiment_results",
     "locked": true,
     "points": 2,
     "schema_version": 1,
     "solution": false
    }
   },
   "outputs": [
    {
     "ename": "NameError",
     "evalue": "name 't' is not defined",
     "output_type": "error",
     "traceback": [
      "\u001b[0;31m---------------------------------------------------------------------------\u001b[0m",
      "\u001b[0;31mNameError\u001b[0m                                 Traceback (most recent call last)",
      "\u001b[0;32m<ipython-input-2-7fff081a0834>\u001b[0m in \u001b[0;36m<module>\u001b[0;34m\u001b[0m\n\u001b[1;32m      7\u001b[0m \u001b[0;34m\u001b[0m\u001b[0m\n\u001b[1;32m      8\u001b[0m \u001b[0ms\u001b[0m \u001b[0;34m=\u001b[0m \u001b[0;34m[\u001b[0m\u001b[0;36m1.\u001b[0m\u001b[0;34m,\u001b[0m \u001b[0;36m10.\u001b[0m\u001b[0;34m,\u001b[0m \u001b[0;36m100.\u001b[0m\u001b[0;34m,\u001b[0m \u001b[0;36m1000.\u001b[0m\u001b[0;34m,\u001b[0m \u001b[0;36m10000.\u001b[0m\u001b[0;34m,\u001b[0m \u001b[0;36m100000.\u001b[0m\u001b[0;34m,\u001b[0m \u001b[0;36m1000000.\u001b[0m\u001b[0;34m]\u001b[0m \u001b[0;31m# exact sums\u001b[0m\u001b[0;34m\u001b[0m\u001b[0;34m\u001b[0m\u001b[0m\n\u001b[0;32m----> 9\u001b[0;31m \u001b[0mt_minus_s_rel\u001b[0m \u001b[0;34m=\u001b[0m \u001b[0;34m[\u001b[0m\u001b[0;34m(\u001b[0m\u001b[0mt_i\u001b[0m \u001b[0;34m-\u001b[0m \u001b[0ms_i\u001b[0m\u001b[0;34m)\u001b[0m \u001b[0;34m/\u001b[0m \u001b[0ms_i\u001b[0m \u001b[0;32mfor\u001b[0m \u001b[0ms_i\u001b[0m\u001b[0;34m,\u001b[0m \u001b[0mt_i\u001b[0m \u001b[0;32min\u001b[0m \u001b[0mzip\u001b[0m \u001b[0;34m(\u001b[0m\u001b[0ms\u001b[0m\u001b[0;34m,\u001b[0m \u001b[0mt\u001b[0m\u001b[0;34m)\u001b[0m\u001b[0;34m]\u001b[0m\u001b[0;34m\u001b[0m\u001b[0;34m\u001b[0m\u001b[0m\n\u001b[0m\u001b[1;32m     10\u001b[0m \u001b[0mrel_err_computed\u001b[0m \u001b[0;34m=\u001b[0m \u001b[0;34m[\u001b[0m\u001b[0mabs\u001b[0m\u001b[0;34m(\u001b[0m\u001b[0mr\u001b[0m\u001b[0;34m)\u001b[0m \u001b[0;32mfor\u001b[0m \u001b[0mr\u001b[0m \u001b[0;32min\u001b[0m \u001b[0mt_minus_s_rel\u001b[0m\u001b[0;34m]\u001b[0m\u001b[0;34m\u001b[0m\u001b[0;34m\u001b[0m\u001b[0m\n\u001b[1;32m     11\u001b[0m \u001b[0mrel_err_bound\u001b[0m \u001b[0;34m=\u001b[0m \u001b[0;34m[\u001b[0m\u001b[0mni\u001b[0m\u001b[0;34m*\u001b[0m\u001b[0mEPS_D\u001b[0m \u001b[0;32mfor\u001b[0m \u001b[0mni\u001b[0m \u001b[0;32min\u001b[0m \u001b[0mN\u001b[0m\u001b[0;34m]\u001b[0m\u001b[0;34m\u001b[0m\u001b[0;34m\u001b[0m\u001b[0m\n",
      "\u001b[0;31mNameError\u001b[0m: name 't' is not defined"
     ]
    }
   ],
   "source": [
    "# Test: `experiment_results`\n",
    "import pandas as pd\n",
    "from IPython.display import display\n",
    "\n",
    "import matplotlib.pyplot as plt\n",
    "%matplotlib inline\n",
    "\n",
    "s = [1., 10., 100., 1000., 10000., 100000., 1000000.] # exact sums\n",
    "t_minus_s_rel = [(t_i - s_i) / s_i for s_i, t_i in zip (s, t)]\n",
    "rel_err_computed = [abs(r) for r in t_minus_s_rel]\n",
    "rel_err_bound = [ni*EPS_D for ni in N]\n",
    "\n",
    "# Plot of the relative error bound\n",
    "plt.loglog (N, rel_err_computed, 'b*', N, rel_err_bound, 'r--')\n",
    "\n",
    "print(\"Relative errors in the computed result:\")\n",
    "display (pd.DataFrame ({'n': N, 'rel_err': rel_err_computed, 'rel_err_bound': [n*EPS_D for n in N]}))\n",
    "\n",
    "assert all([abs(r) <= n*EPS_D for r, n in zip(t_minus_s_rel, N)])\n",
    "\n",
    "print(\"\\n(Passed!)\")"
   ]
  },
  {
   "cell_type": "markdown",
   "metadata": {
    "deletable": false,
    "editable": false,
    "nbgrader": {
     "grade": false,
     "grade_id": "cell-2d67178513630b52",
     "locked": true,
     "schema_version": 1,
     "solution": false
    }
   },
   "source": [
    "## Computing dot products\n",
    "\n",
    "Let $x$ and $y$ be two vectors of length $n$, and denote their dot product by $f(x, y) \\equiv x^T y$.\n",
    "\n",
    "Now suppose we store the values of $x$ and $y$ _exactly_ in two Python arrays, `x[0:n]` and `y[0:n]`. Further suppose we compute their dot product by the program, `alg_dot()`."
   ]
  },
  {
   "cell_type": "code",
   "execution_count": null,
   "metadata": {
    "collapsed": true,
    "deletable": false,
    "editable": false,
    "nbgrader": {
     "grade": false,
     "grade_id": "cell-256d6516a8aa67c6",
     "locked": true,
     "schema_version": 1,
     "solution": false
    }
   },
   "outputs": [],
   "source": [
    "def alg_dot (x, y):\n",
    "    p = [xi*yi for (xi, yi) in zip (x, y)]\n",
    "    s = alg_sum (p)\n",
    "    return s"
   ]
  },
  {
   "cell_type": "markdown",
   "metadata": {
    "deletable": false,
    "editable": false,
    "nbgrader": {
     "grade": false,
     "grade_id": "cell-daf2b1bb13ba22dd",
     "locked": true,
     "schema_version": 1,
     "solution": false
    }
   },
   "source": [
    "**Exercise 1** (OPTIONAL -- 0 points, not graded or collected). Show under what conditions `alg_dot()` is backward stable.\n",
    "\n",
    "> _Hint._ Let $(x_k, y_k)$ denote the exact values of the corresponding inputs, $(\\mathtt{x}[k], \\mathtt{y}[k])$. Then the true dot product, $x^T y = \\sum_{l=0}^{n-1} x_l y_l$. Next, let $\\hat{p}_k$ denote the $k$-th computed product, i.e., $\\hat{p}_k \\equiv x_k y_k (1 + \\gamma_k)$, where $\\gamma_k$ is the $k$-th round-off error and $|\\gamma_k| \\leq \\epsilon$. Then apply the results for `alg_sum()` to analyze `alg_dot()`."
   ]
  },
  {
   "cell_type": "markdown",
   "metadata": {
    "nbgrader": {
     "grade": true,
     "grade_id": "alg_dot",
     "locked": false,
     "points": 0,
     "schema_version": 1,
     "solution": true
    }
   },
   "source": [
    "**Answer.** Following the hint, `alg_sum` will compute $\\hat{s}_{n-1}$ on the _computed_ inputs, $\\{\\hat{p}_k\\}$. Thus,\n",
    "\n",
    "$$\n",
    "\\begin{eqnarray}\n",
    "  \\hat{s}_{n-1}\n",
    "    & \\approx &\n",
    "      \\sum_{l=0}^{n-1} \\hat{p}_l (1 + \\Delta_l) \\\\\n",
    "    & = &\n",
    "      \\sum_{l=0}^{n-1} x_l y_l (1 + \\gamma_l) (1 + \\Delta_l) \\\\\n",
    "    & = &\n",
    "      \\sum_{l=0}^{n-1} x_l y_l (1 + \\gamma_l + \\Delta_l + \\gamma_l \\Delta_l).\n",
    "\\end{eqnarray}\n",
    "$$\n",
    "\n",
    "Mathematically, this appears to be the exact dot product to an input in which $x$ is exact and $y$ is perturbed (or vice-versa). To argue that `alg_dot` is backward stable, we need to establish under what conditions the perturbation, $\\left| \\gamma_l + \\Delta_l + \\gamma_l \\Delta_l \\right|$, is \"small.\" Since $|\\gamma_l| \\leq \\epsilon$ and $|\\Delta_l| \\leq n \\epsilon$,\n",
    "\n",
    "$$\n",
    "  \\left| \\gamma_l + \\Delta_l + \\gamma_l \\Delta_l \\right|\n",
    "  \\leq | \\gamma_l | + | \\Delta_l | + |\\gamma_l| \\cdot |\\Delta_l|\n",
    "  \\leq (n+1) \\epsilon + \\mathcal{O}(n \\epsilon^2)\n",
    "  \\approx (n+1) \\epsilon.\n",
    "$$"
   ]
  },
  {
   "cell_type": "markdown",
   "metadata": {
    "deletable": false,
    "editable": false,
    "nbgrader": {
     "grade": false,
     "grade_id": "cell-8e70ce54ace6fe03",
     "locked": true,
     "schema_version": 1,
     "solution": false
    }
   },
   "source": [
    "## More accurate summation\n",
    "\n",
    "Suppose you wish to compute the sum, $s = x_0 + x_1 + x_2 + x_3$. Let's say you use the \"standard algorithm,\" which accumulates the terms one-by-one from left-to-right, as done by `alg_sum()` above.\n",
    "\n",
    "For the standard algorithm, let the $i$-th addition incur a roundoff error, $\\delta_i$. Then our usual error analysis would reveal that the absolute error in the computed sum, $\\hat{s}$, is approximately:\n",
    "\n",
    "$$\n",
    "\\begin{array}{rcl}\n",
    "  \\hat{s} - s\n",
    "    & \\approx &\n",
    "      x_0(\\delta_0 + \\delta_1 + \\delta_2 + \\delta_3)\n",
    "      + x_1(\\delta_1 + \\delta_2 + \\delta_3)\n",
    "      + x_2(\\delta_2 + \\delta_3)\n",
    "      + x_3\\delta_3.\n",
    "\\end{array}\n",
    "$$\n",
    "\n",
    "And since $|\\delta_i| \\leq \\epsilon$, you would bound the absolute value of the error by,\n",
    "\n",
    "$$\n",
    "\\begin{array}{rcl}\n",
    "  \\left| \\hat{s} - s \\right|\n",
    "    & \\lesssim &\n",
    "      (4|x_0| + 3|x_1| + 2|x_2| + 1|x_3|)\\epsilon.\n",
    "\\end{array}\n",
    "$$\n",
    "\n",
    "Notice that $|x_0|$ is multiplied by 4, $|x_1|$ by 3, and so on.\n",
    "\n",
    "In general, if there are $n$ values to sum, the $|x_i|$ term will be multiplied by $n-i$."
   ]
  },
  {
   "cell_type": "markdown",
   "metadata": {
    "deletable": false,
    "editable": false,
    "nbgrader": {
     "grade": false,
     "grade_id": "cell-f7d423dd67ec7407",
     "locked": true,
     "schema_version": 1,
     "solution": false
    }
   },
   "source": [
    "**Exercise 2** (3 points). Based on the preceding observation, implement a new summation function, `alg_sum_accurate(x)` that computes a more accurate sum than `alg_sum()`.\n",
    "\n",
    "> _Hint 1._ You do **not** need `Decimal()` in this problem. Some of you will try to use it, but it's not necessary. In fact, using it is likely to generate \"out-of-memory\" errors.\n",
    ">\n",
    "> _Hint 2._ Some of you will try to \"implement\" the error formula to somehow compensate for the round-off error. But that shouldn't make sense to do. (Why not? Because the formula above is a _bound_, not an exact formula.) Instead, the intent of this problem is to see if you can look at the formula and understand how to interpret it. That is, how does the formula tell you to perform the summation to make it more accurate than the conventional method?\n",
    ">\n",
    "> _Hint 3._ Some of you will look up fancy algorithms to compensate for error. That's great, because you may learn something deep in the process, but it's also not necessary. Again, see Hint 2.\n",
    ">\n",
    "> _Note._ The test cell will disallow certain \"shortcuts\" on this problem, namely, importing certain implementations of summation. Only basic Python is needed."
   ]
  },
  {
   "cell_type": "code",
   "execution_count": 16,
   "metadata": {
    "collapsed": true,
    "nbgrader": {
     "grade": false,
     "grade_id": "alg_sum_accurate",
     "locked": false,
     "schema_version": 1,
     "solution": true
    }
   },
   "outputs": [],
   "source": [
    "def alg_sum_accurate(x):\n",
    "    assert type(x) is list\n",
    "    y = sorted(x)\n",
    "    return alg_sum(y)\n"
   ]
  },
  {
   "cell_type": "code",
   "execution_count": 17,
   "metadata": {
    "deletable": false,
    "editable": false,
    "nbgrader": {
     "grade": true,
     "grade_id": "alg_sum_accurate_test",
     "locked": true,
     "points": "3",
     "schema_version": 1,
     "solution": false
    },
    "scrolled": true
   },
   "outputs": [
    {
     "name": "stdout",
     "output_type": "stream",
     "text": [
      "Generating non-uniform random values...\n",
      "Range of input values: [3.5975720469203665e-28, 4.939403820765591e+16]\n",
      "Computing the 'exact' sum. May be slow so please wait...\n",
      "==> [30.079941532355893, 1094664356752.9729, 1.5077716261813747e+17]\n",
      "Running alg_sum()...\n",
      "==> [30.079941532355896, 1094664356752.9702, 1.507771626175651e+17]\n",
      "Running alg_sum_accurate()...\n",
      "==> [30.079941532355893, 1094664356752.9729, 1.5077716261813747e+17]\n",
      "Summary of relative errors:\n"
     ]
    },
    {
     "data": {
      "text/html": [
       "<div>\n",
       "<style scoped>\n",
       "    .dataframe tbody tr th:only-of-type {\n",
       "        vertical-align: middle;\n",
       "    }\n",
       "\n",
       "    .dataframe tbody tr th {\n",
       "        vertical-align: top;\n",
       "    }\n",
       "\n",
       "    .dataframe thead th {\n",
       "        text-align: right;\n",
       "    }\n",
       "</style>\n",
       "<table border=\"1\" class=\"dataframe\">\n",
       "  <thead>\n",
       "    <tr style=\"text-align: right;\">\n",
       "      <th></th>\n",
       "      <th>n</th>\n",
       "      <th>rel_err(alg_sum)</th>\n",
       "      <th>rel_err(alg_sum_accurate)</th>\n",
       "    </tr>\n",
       "  </thead>\n",
       "  <tbody>\n",
       "    <tr>\n",
       "      <th>0</th>\n",
       "      <td>5</td>\n",
       "      <td>1.181091e-16</td>\n",
       "      <td>0.0</td>\n",
       "    </tr>\n",
       "    <tr>\n",
       "      <th>1</th>\n",
       "      <td>5000</td>\n",
       "      <td>2.453306e-15</td>\n",
       "      <td>0.0</td>\n",
       "    </tr>\n",
       "    <tr>\n",
       "      <th>2</th>\n",
       "      <td>5000000</td>\n",
       "      <td>3.796225e-12</td>\n",
       "      <td>0.0</td>\n",
       "    </tr>\n",
       "  </tbody>\n",
       "</table>\n",
       "</div>"
      ],
      "text/plain": [
       "         n  rel_err(alg_sum)  rel_err(alg_sum_accurate)\n",
       "0        5      1.181091e-16                        0.0\n",
       "1     5000      2.453306e-15                        0.0\n",
       "2  5000000      3.796225e-12                        0.0"
      ]
     },
     "metadata": {},
     "output_type": "display_data"
    },
    {
     "name": "stdout",
     "output_type": "stream",
     "text": [
      "\n",
      "(Passed!)\n"
     ]
    }
   ],
   "source": [
    "# Test: `alg_sum_accurate_test`\n",
    "from math import exp\n",
    "from numpy.random import lognormal\n",
    "\n",
    "# Disallow certain implementations:\n",
    "import numpy\n",
    "if 'sum' in dir(numpy): del numpy.sum\n",
    "\n",
    "print(\"Generating non-uniform random values...\")\n",
    "N = [5, 5000, 5000000]\n",
    "x = [lognormal(-10.0, 10.0) for _ in range(max(N))]\n",
    "print(\"Range of input values: [{}, {}]\".format(min(x), max(x)))\n",
    "\n",
    "print(\"Computing the 'exact' sum. May be slow so please wait...\")\n",
    "x_exact = [Decimal(x_i) for x_i in x]\n",
    "s_exact = [float(sum(x_exact[:n])) for n in N]\n",
    "print(\"==>\", s_exact)\n",
    "\n",
    "print(\"Running alg_sum()...\")\n",
    "s_alg = [alg_sum(x[:n]) for n in N]\n",
    "print(\"==>\", s_alg)\n",
    "\n",
    "print(\"Running alg_sum_accurate()...\")\n",
    "s_acc = [alg_sum_accurate(x[:n]) for n in N]\n",
    "print(\"==>\", s_acc)\n",
    "\n",
    "print(\"Summary of relative errors:\")\n",
    "ds_alg = [abs(s_a - s_e) / s_e for s_a, s_e in zip(s_alg, s_exact)]\n",
    "ds_acc = [abs(s_a - s_e) / s_e for s_a, s_e in zip(s_acc, s_exact)]\n",
    "display (pd.DataFrame ({'n': N,\n",
    "                        'rel_err(alg_sum)': ds_alg,\n",
    "                        'rel_err(alg_sum_accurate)': ds_acc}))\n",
    "\n",
    "assert all([r_acc < r_alg for r_acc, r_alg in zip(ds_acc[1:], ds_alg[1:])]), \\\n",
    "       \"The 'accurate' algorithm appears to be less accurate than the conventional one!\"\n",
    "\n",
    "print(\"\\n(Passed!)\")"
   ]
  },
  {
   "cell_type": "markdown",
   "metadata": {
    "collapsed": true,
    "deletable": false,
    "editable": false,
    "nbgrader": {
     "grade": false,
     "grade_id": "cell-1b03f5b32a35fb6b",
     "locked": true,
     "schema_version": 1,
     "solution": false
    }
   },
   "source": [
    "**Done!** You have reached the end of Part 1. There are no additional parts, so if you are satisfied, be sure to submit both parts, declare victory, and move on!"
   ]
  },
  {
   "cell_type": "code",
   "execution_count": null,
   "metadata": {},
   "outputs": [
    {
     "name": "stdout",
     "output_type": "stream",
     "text": [
      "tar: Removing leading `../../' from member names\n",
      "../../asn1346269_1/\n",
      "../../asn1346269_1/resource/\n",
      "../../asn1346269_1/resource/startercode/\n",
      "tar: ../../asn1346269_1/resource/startercode/resource: File removed before we read it\n",
      "../../asn1346269_1/resource/startercode/.jupyter/\n",
      "../../asn1346269_1/resource/startercode/.jupyter/nbconfig/\n",
      "../../asn1346269_1/resource/startercode/part0.ipynb\n",
      "../../asn1346269_1/resource/scripts/\n",
      "../../asn1346269_1/resource/scripts/run.sh\n",
      "../../asn1346269_1/resource/scripts/build.sh\n",
      "../../asn1346269_1/resource/asnlib/\n",
      "../../asn1346269_1/resource/asnlib/publicdata/\n",
      "../../asn1346269_1/resource/asnlib/public/\n",
      "../../asn1346269_1/resource/asnlib/public/docs/\n",
      "../../asn1346269_1/resource/lib/\n",
      "../../asn1346269_1/resource/lib/publicdata/\n",
      "../../asn1346269_1/resource/lib/publicdata/data/\n",
      "../../asn1346269_1/resource/lib/public/\n",
      "../../asn1346269_1/work/\n",
      "../../asn1346269_1/work/.gitconfig\n",
      "../../asn1346269_1/work/resource/\n",
      "../../asn1346269_1/work/resource/startercode/\n",
      "tar: ../../asn1346269_1/work/resource/startercode/resource: File removed before we read it\n",
      "../../asn1346269_1/work/resource/startercode/.jupyter/\n",
      "../../asn1346269_1/work/resource/startercode/.jupyter/nbconfig/\n",
      "tar: Removing leading `../../' from hard link targets\n",
      "../../asn1346269_1/work/resource/startercode/part0.ipynb\n",
      "../../asn1346269_1/work/resource/scripts/\n",
      "../../asn1346269_1/work/resource/scripts/run.sh\n",
      "../../asn1346269_1/work/resource/scripts/build.sh\n",
      "../../asn1346269_1/work/resource/asnlib/\n",
      "../../asn1346269_1/work/resource/asnlib/publicdata/\n",
      "../../asn1346269_1/work/resource/asnlib/public/\n",
      "../../asn1346269_1/work/resource/asnlib/public/docs/\n",
      "../../asn1346269_1/work/resource/lib/\n",
      "../../asn1346269_1/work/resource/lib/publicdata/\n",
      "../../asn1346269_1/work/resource/lib/publicdata/data/\n",
      "../../asn1346269_1/work/resource/lib/public/\n",
      "../../asn1346269_1/work/.ipynb_checkpoints/\n",
      "../../asn1346269_1/work/.ipynb_checkpoints/part0-checkpoint.ipynb\n",
      "../../asn1346269_1/work/.jupyter/\n",
      "../../asn1346269_1/work/.jupyter/nbconfig/\n",
      "../../asn1346269_1/work/.jupyter/migrated\n",
      "../../asn1346269_1/work/.ipython/\n",
      "../../asn1346269_1/work/.ipython/nbextensions/\n",
      "../../asn1346269_1/work/.ipython/extensions/\n",
      "../../asn1346269_1/work/.ipython/profile_default/\n",
      "../../asn1346269_1/work/.ipython/profile_default/security/\n",
      "../../asn1346269_1/work/.ipython/profile_default/history.sqlite\n",
      "../../asn1346269_1/work/.ipython/profile_default/log/\n",
      "../../asn1346269_1/work/.ipython/profile_default/db/\n",
      "../../asn1346269_1/work/.ipython/profile_default/pid/\n",
      "../../asn1346269_1/work/.ipython/profile_default/startup/\n",
      "../../asn1346269_1/work/.ipython/profile_default/startup/README\n",
      "../../asn1346269_1/work/.local/\n",
      "../../asn1346269_1/work/.local/share/\n",
      "../../asn1346269_1/work/.local/share/jupyter/\n",
      "../../asn1346269_1/work/.local/share/jupyter/runtime/\n",
      "../../asn1346269_1/work/.local/share/jupyter/runtime/kernel-eba9b86c-6d64-4c5e-96b8-b8e213b9a739.json\n",
      "../../asn1346269_1/work/.local/share/jupyter/runtime/nbserver-18644.json\n",
      "../../asn1346269_1/work/.local/share/jupyter/runtime/nbserver-14613.json\n",
      "../../asn1346269_1/work/.local/share/jupyter/runtime/kernel-d01c95b4-7203-447f-989f-cd9c4ea1e4b7.json\n",
      "../../asn1346269_1/work/.local/share/jupyter/runtime/notebook_cookie_secret\n",
      "../../asn1346269_1/work/.local/share/jupyter/notebook_secret\n",
      "../../asn1346269_1/work/.local/share/jupyter/nbsignatures.db\n",
      "../../asn1346269_1/work/notebook.tar.gz\n",
      "../../asn1346269_1/work/part0.ipynb\n",
      "../../asn1346271_2/\n",
      "../../asn1346271_2/resource/\n",
      "../../asn1346271_2/resource/startercode/\n",
      "../../asn1346271_2/resource/startercode/part1.ipynb\n",
      "tar: ../../asn1346271_2/resource/startercode/resource: File removed before we read it\n",
      "../../asn1346271_2/resource/startercode/.jupyter/\n",
      "../../asn1346271_2/resource/startercode/.jupyter/nbconfig/\n",
      "../../asn1346271_2/resource/scripts/\n",
      "../../asn1346271_2/resource/scripts/run.sh\n",
      "../../asn1346271_2/resource/scripts/build.sh\n",
      "../../asn1346271_2/resource/asnlib/\n",
      "../../asn1346271_2/resource/asnlib/publicdata/\n",
      "../../asn1346271_2/resource/asnlib/public/\n",
      "../../asn1346271_2/resource/asnlib/public/docs/\n",
      "../../asn1346271_2/resource/lib/\n",
      "../../asn1346271_2/resource/lib/publicdata/\n",
      "../../asn1346271_2/resource/lib/publicdata/data/\n",
      "../../asn1346271_2/resource/lib/public/\n",
      "../../asn1346271_2/work/\n",
      "../../asn1346271_2/work/part1.ipynb\n",
      "../../asn1346271_2/work/.gitconfig\n",
      "../../asn1346271_2/work/resource/\n",
      "../../asn1346271_2/work/resource/startercode/\n",
      "../../asn1346271_2/work/resource/startercode/part1.ipynb\n",
      "tar: ../../asn1346271_2/work/resource/startercode/resource: File removed before we read it\n",
      "../../asn1346271_2/work/resource/startercode/.jupyter/\n",
      "../../asn1346271_2/work/resource/startercode/.jupyter/nbconfig/\n",
      "../../asn1346271_2/work/resource/scripts/\n",
      "../../asn1346271_2/work/resource/scripts/run.sh\n",
      "../../asn1346271_2/work/resource/scripts/build.sh\n",
      "../../asn1346271_2/work/resource/asnlib/\n",
      "../../asn1346271_2/work/resource/asnlib/publicdata/\n",
      "../../asn1346271_2/work/resource/asnlib/public/\n",
      "../../asn1346271_2/work/resource/asnlib/public/docs/\n",
      "../../asn1346271_2/work/resource/lib/\n",
      "../../asn1346271_2/work/resource/lib/publicdata/\n",
      "../../asn1346271_2/work/resource/lib/publicdata/data/\n",
      "../../asn1346271_2/work/resource/lib/public/\n",
      "../../asn1346271_2/work/.config/\n",
      "../../asn1346271_2/work/.config/matplotlib/\n",
      "../../asn1346271_2/work/.cache/\n",
      "../../asn1346271_2/work/.cache/matplotlib/\n",
      "../../asn1346271_2/work/.cache/matplotlib/fontlist-v330.json\n",
      "../../asn1346271_2/work/.cache/fontconfig/\n",
      "../../asn1346271_2/work/.cache/fontconfig/5c8985f1-0236-4b7a-9f8d-399e77af7700-le64.cache-7\n",
      "../../asn1346271_2/work/.cache/fontconfig/60b00ae1-6d08-468a-a34a-3b1fde241032-le64.cache-7\n",
      "../../asn1346271_2/work/.cache/fontconfig/5fc40d07-7180-4ceb-ac48-1d60317b6ad0-le64.cache-7\n",
      "../../asn1346271_2/work/.cache/fontconfig/b9e4bcfd-424b-44ec-ae4f-9e769de8ac51-le64.cache-7\n",
      "../../asn1346271_2/work/.cache/fontconfig/7402609e-e2ee-4cc0-a7a2-4114ba5f1e63-le64.cache-7\n",
      "../../asn1346271_2/work/.cache/fontconfig/a9b14952-ef3e-4320-98a0-86f956b46eea-le64.cache-7\n",
      "../../asn1346271_2/work/.cache/fontconfig/0670d6a2-67dc-4345-83b2-f8c9db6b9ec8-le64.cache-7\n",
      "../../asn1346271_2/work/.cache/fontconfig/27f84546-442a-4660-aed5-3475a9b791a1-le64.cache-7\n",
      "../../asn1346271_2/work/.cache/fontconfig/3c84d4ae-5905-4935-8712-1e65469d5447-le64.cache-7\n",
      "../../asn1346271_2/work/.cache/fontconfig/212fed6e-05f4-45bb-b771-71204ff318ac-le64.cache-7\n",
      "../../asn1346271_2/work/.cache/fontconfig/080d7a28-b7d3-406d-b398-5f6181a6c708-le64.cache-7\n",
      "../../asn1346271_2/work/.cache/fontconfig/1b713cb5-14a8-4c08-ac91-6ac75a7c258c-le64.cache-7\n",
      "../../asn1346271_2/work/.cache/fontconfig/acd5666e-7acf-45f4-bb24-9a2be5e2f393-le64.cache-7\n",
      "../../asn1346271_2/work/.cache/fontconfig/1d5232c0-4e5e-4845-8971-9afe23448887-le64.cache-7\n",
      "../../asn1346271_2/work/.cache/fontconfig/ec059177-83b8-48ed-898f-cfbf124181c3-le64.cache-7\n",
      "../../asn1346271_2/work/.cache/fontconfig/deae8e0d-7a3e-4f78-b484-dbf9376435ee-le64.cache-7\n",
      "../../asn1346271_2/work/.cache/fontconfig/f0f9b913-8120-4ee2-936d-0cc6b27c872f-le64.cache-7\n",
      "../../asn1346271_2/work/.cache/fontconfig/040d641e-475d-44e9-bfe9-c17faadda7ef-le64.cache-7\n",
      "../../asn1346271_2/work/.cache/fontconfig/adba5796-c28e-4cea-9200-528fd63a908e-le64.cache-7\n",
      "../../asn1346271_2/work/.cache/fontconfig/0723470f-3f78-4dae-8b4a-d99dab1df0e3-le64.cache-7\n",
      "../../asn1346271_2/work/.cache/fontconfig/f1ef4f2e-8e1c-4fa1-83a3-c02eb79cf473-le64.cache-7\n",
      "../../asn1346271_2/work/.cache/fontconfig/912af442-bf2d-49bc-916d-d15f306c97bc-le64.cache-7\n",
      "../../asn1346271_2/work/.cache/fontconfig/170f43f1-68e8-4e9f-8a63-cad3f13a40d3-le64.cache-7\n",
      "../../asn1346271_2/work/.cache/fontconfig/98f3fc2d-914b-4a82-b992-c5f54eb8082d-le64.cache-7\n",
      "../../asn1346271_2/work/.cache/fontconfig/840b9104-1f61-407e-a9d3-777b067373bd-le64.cache-7\n",
      "../../asn1346271_2/work/.cache/fontconfig/4b829e10-f1ba-4bb5-ae58-95f1edd86414-le64.cache-7\n",
      "../../asn1346271_2/work/.cache/fontconfig/58fc6535-f41c-4d63-bb05-7d114f8e13e4-le64.cache-7\n",
      "../../asn1346271_2/work/.cache/fontconfig/7ee0af05-9abc-4ac2-b134-9e640c068162-le64.cache-7\n",
      "../../asn1346271_2/work/.cache/fontconfig/e2db307a-4d1e-453c-b4ef-6cc947961884-le64.cache-7\n",
      "../../asn1346271_2/work/.cache/fontconfig/54207a09-1347-4211-920e-e85f5b33b097-le64.cache-7\n",
      "../../asn1346271_2/work/.cache/fontconfig/80f74005-2f13-412d-b7b1-dc1cd231bd86-le64.cache-7\n",
      "../../asn1346271_2/work/.cache/fontconfig/7b7ecb0e-6ca9-48ee-9bd2-136999a94a58-le64.cache-7\n",
      "../../asn1346271_2/work/.cache/fontconfig/9e87fa66-1c0a-4ca0-ba20-e7df8aa9c138-le64.cache-7\n",
      "../../asn1346271_2/work/.cache/fontconfig/87488a1e-98cd-4dcc-bf7c-5a14dc4036c6-le64.cache-7\n",
      "../../asn1346271_2/work/.cache/fontconfig/f875d20b-bccb-4f1f-bd36-d491de50b129-le64.cache-7\n",
      "../../asn1346271_2/work/.cache/fontconfig/3f0a61dd-19b6-46ab-9e13-9bdb1681fafb-le64.cache-7\n"
     ]
    },
    {
     "name": "stdout",
     "output_type": "stream",
     "text": [
      "../../asn1346271_2/work/.cache/fontconfig/aa5278e8-8611-4ac4-9519-5cc8f9a256fa-le64.cache-7\n",
      "../../asn1346271_2/work/.cache/fontconfig/e3274531-fc78-4c85-970c-b82d83326f70-le64.cache-7\n",
      "../../asn1346271_2/work/.cache/fontconfig/0837d737-2061-4ef8-b039-2e195d1a31b9-le64.cache-7\n",
      "../../asn1346271_2/work/.cache/fontconfig/62743364-04d0-4643-a5de-27bf774eb029-le64.cache-7\n",
      "../../asn1346271_2/work/.cache/fontconfig/4c43d431-32a1-47cd-9eec-a292ea59753f-le64.cache-7\n",
      "../../asn1346271_2/work/.cache/fontconfig/da2477a4-9ad0-4968-8ff0-cbc4e066ff39-le64.cache-7\n",
      "../../asn1346271_2/work/.cache/fontconfig/f75f9e1e-bab0-49af-b801-9c4d656a71a1-le64.cache-7\n",
      "../../asn1346271_2/work/.cache/fontconfig/b382e5c8-8501-4537-a26d-b693d5fb30ae-le64.cache-7\n",
      "../../asn1346271_2/work/.cache/fontconfig/249955a3-6932-4e5b-892b-d65aba76e282-le64.cache-7\n",
      "../../asn1346271_2/work/.cache/fontconfig/39e66762-ddec-4941-9163-7a2453ff67e3-le64.cache-7\n",
      "../../asn1346271_2/work/.cache/fontconfig/16bd52ab-16cb-4ddf-abea-ef82b6ef6b82-le64.cache-7\n",
      "../../asn1346271_2/work/.cache/fontconfig/7705ec08-4e1d-44e3-8f5c-a4e6be256b6e-le64.cache-7\n",
      "../../asn1346271_2/work/.cache/fontconfig/c4280af0-5c84-4443-a6d7-844466eb46d6-le64.cache-7\n",
      "../../asn1346271_2/work/.cache/fontconfig/87c5bbc3-681f-4af4-bbd8-260ae7e8a844-le64.cache-7\n",
      "../../asn1346271_2/work/.cache/fontconfig/dd3de025-8cee-435a-b398-ff442a8e28a6-le64.cache-7\n",
      "../../asn1346271_2/work/.cache/fontconfig/caa53efb-b0ee-4cb6-a044-ae05acbbadaa-le64.cache-7\n",
      "../../asn1346271_2/work/.cache/fontconfig/21a94f41-e181-403c-a177-137ee2a358d7-le64.cache-7\n",
      "../../asn1346271_2/work/.cache/fontconfig/428efc68-23ca-4285-8f25-abcf93249099-le64.cache-7\n",
      "../../asn1346271_2/work/.cache/fontconfig/64cff209-13fd-465b-b223-e9e5b5102033-le64.cache-7\n",
      "../../asn1346271_2/work/.cache/fontconfig/e46547b5-9828-490d-a6eb-c73f58ccabe6-le64.cache-7\n",
      "../../asn1346271_2/work/.cache/fontconfig/bc150489-5ae9-4d50-be95-1129656be027-le64.cache-7\n",
      "../../asn1346271_2/work/.cache/fontconfig/565dc1e6-594c-4be6-9e1e-8e305d23601b-le64.cache-7\n",
      "../../asn1346271_2/work/.cache/fontconfig/40e34697-39df-4628-8e3a-ee8f7873ab87-le64.cache-7\n",
      "../../asn1346271_2/work/.cache/fontconfig/2f405b9a-dbcd-4b16-a7d9-189cc2bc5389-le64.cache-7\n",
      "../../asn1346271_2/work/.cache/fontconfig/fbe112f1-5cfe-481f-b3fa-8e8e199db2d1-le64.cache-7\n",
      "../../asn1346271_2/work/.cache/fontconfig/352e8af1-7ddd-4202-b5b4-2437c3335d62-le64.cache-7\n",
      "../../asn1346271_2/work/.cache/fontconfig/72452902-010d-4621-b5c0-7c1c1b13e4a2-le64.cache-7\n",
      "../../asn1346271_2/work/.cache/fontconfig/f299e67b-23d2-4539-876c-5b2628681ff2-le64.cache-7\n",
      "../../asn1346271_2/work/.cache/fontconfig/eea86927-36b5-4dc8-8663-3ef48e21eb95-le64.cache-7\n",
      "../../asn1346271_2/work/.cache/fontconfig/111ab816-9ec6-4b4e-8b08-73a716bd7d05-le64.cache-7\n",
      "../../asn1346271_2/work/.cache/fontconfig/c49443e7-16df-4c51-a67b-806d759db2c5-le64.cache-7\n",
      "../../asn1346271_2/work/.cache/fontconfig/e3dfa944-d502-4332-a805-d23d873b8ae4-le64.cache-7\n",
      "../../asn1346271_2/work/.cache/fontconfig/a69dc5ee-3785-4cb9-8ccf-3e34c1948f38-le64.cache-7\n",
      "../../asn1346271_2/work/.cache/fontconfig/6b0f2b5b-212a-4b51-92df-f4fb50c72a44-le64.cache-7\n",
      "../../asn1346271_2/work/.cache/fontconfig/67d7d935-b395-4bf3-ad11-afecc77d1ffe-le64.cache-7\n",
      "../../asn1346271_2/work/.cache/fontconfig/bf486811-f7ac-45cb-a53f-4e595bb84068-le64.cache-7\n",
      "../../asn1346271_2/work/.cache/fontconfig/b228a099-de09-4746-a3ba-ea3991965385-le64.cache-7\n",
      "../../asn1346271_2/work/.cache/fontconfig/5a3bf869-4bbd-4f8a-9964-cb2d9657da10-le64.cache-7\n",
      "../../asn1346271_2/work/.cache/fontconfig/884bd92e-7f7a-40ed-94f9-84719ec86929-le64.cache-7\n",
      "../../asn1346271_2/work/.cache/fontconfig/376f1e00-487b-4502-a722-a42bc1d5d346-le64.cache-7\n",
      "../../asn1346271_2/work/.cache/fontconfig/af43d034-ac36-4db4-95f4-5f753c37ab7b-le64.cache-7\n",
      "../../asn1346271_2/work/.cache/fontconfig/c80a0d35-ad71-402e-860f-201aa5e72d69-le64.cache-7\n",
      "../../asn1346271_2/work/.cache/fontconfig/ebd22426-17bc-47a7-bf81-cdf8ed664c9a-le64.cache-7\n",
      "../../asn1346271_2/work/.cache/fontconfig/8ef62e51-d0aa-455f-bdad-ef76f21a2ae2-le64.cache-7\n",
      "../../asn1346271_2/work/.cache/fontconfig/e6b97223-864b-415c-a795-5c7524f2bbea-le64.cache-7\n",
      "../../asn1346271_2/work/.cache/fontconfig/e4c96c52-13bd-4791-8625-06dbae659800-le64.cache-7\n",
      "../../asn1346271_2/work/.cache/fontconfig/8ec9e50e-a023-484b-ab84-9c5bbfd59d25-le64.cache-7\n",
      "../../asn1346271_2/work/.cache/fontconfig/3f8709ab-a76c-4087-bdf5-1984f293f53f-le64.cache-7\n",
      "../../asn1346271_2/work/.cache/fontconfig/3de4bd23-4308-4f3a-b7b8-8d2c992e86d0-le64.cache-7\n",
      "../../asn1346271_2/work/.cache/fontconfig/02ad32da-e4df-4cb4-8daa-0dc9af94818c-le64.cache-7\n",
      "../../asn1346271_2/work/.cache/fontconfig/508eda58-32d0-42ae-94a7-b5c9b9f8f02e-le64.cache-7\n",
      "../../asn1346271_2/work/.cache/fontconfig/9f711523-5f94-49a8-b358-9290dcf1bd45-le64.cache-7\n",
      "../../asn1346271_2/work/.cache/fontconfig/647b5812-1ca2-4e14-8f65-1e2e2377b439-le64.cache-7\n",
      "../../asn1346271_2/work/.cache/fontconfig/0e5fdad5-82c3-4194-b66b-2d593aff8a0f-le64.cache-7\n",
      "../../asn1346271_2/work/.cache/fontconfig/2ccbffc1-fb9b-4611-9fcf-014ff8037dc8-le64.cache-7\n",
      "../../asn1346271_2/work/.cache/fontconfig/0a29f4a4-0482-4ced-a722-5943ab81b1ee-le64.cache-7\n",
      "../../asn1346271_2/work/.cache/fontconfig/61116549-f3b5-4d2e-9315-72fe9ba73d12-le64.cache-7\n",
      "../../asn1346271_2/work/.cache/fontconfig/9b0b1286-5465-4656-a9d4-593ef520d298-le64.cache-7\n",
      "../../asn1346271_2/work/.cache/fontconfig/ae718d31-57d9-4a7e-b8db-a9ff6c1cf87c-le64.cache-7\n",
      "../../asn1346271_2/work/.cache/fontconfig/c58d6481-9217-4d52-a0e3-caf859639def-le64.cache-7\n",
      "../../asn1346271_2/work/.cache/fontconfig/4221270c-8550-44a7-ad6a-177ffbe6339a-le64.cache-7\n",
      "../../asn1346271_2/work/.cache/fontconfig/0a381482-17db-4f30-983c-c3624690ca81-le64.cache-7\n",
      "../../asn1346271_2/work/.cache/fontconfig/bff40f2c-bc92-4e7f-b745-5cf230998b70-le64.cache-7\n",
      "../../asn1346271_2/work/.cache/fontconfig/CACHEDIR.TAG\n",
      "../../asn1346271_2/work/.cache/fontconfig/4924444d-1d89-4844-865f-18df22280a30-le64.cache-7\n",
      "../../asn1346271_2/work/.cache/fontconfig/1a6bd6a9-e71f-464d-8e8d-5593b3110ff6-le64.cache-7\n",
      "../../asn1346271_2/work/.cache/fontconfig/3f3a1f49-b098-4568-8e21-664d4b582430-le64.cache-7\n",
      "../../asn1346271_2/work/.cache/fontconfig/2509f91e-e769-4dcb-a23a-98bc5b4ba0a2-le64.cache-7\n",
      "../../asn1346271_2/work/.cache/fontconfig/d3dbb34b-14eb-476c-a4a1-fa3b7d45a1ee-le64.cache-7\n",
      "../../asn1346271_2/work/.cache/fontconfig/03cda4c1-d075-4905-8cbb-ff11c7d4f88a-le64.cache-7\n",
      "../../asn1346271_2/work/.cache/fontconfig/ad32d83b-2b70-4022-bdb3-196ac85cbd44-le64.cache-7\n",
      "../../asn1346271_2/work/.cache/fontconfig/81439952-744d-4cbc-b0af-196f151ad25a-le64.cache-7\n",
      "../../asn1346271_2/work/.cache/fontconfig/98ec90a9-5fdb-4245-b384-a6828167136c-le64.cache-7\n",
      "../../asn1346271_2/work/.cache/fontconfig/d12ba99f-287d-4aa9-bbe7-3e88a823b757-le64.cache-7\n",
      "../../asn1346271_2/work/.cache/fontconfig/a5ab9b45-6575-423a-83a5-b27e0c20e1a6-le64.cache-7\n",
      "../../asn1346271_2/work/.cache/fontconfig/6a1ef5c5-cc3e-4a41-baa3-9bff4c9a3a24-le64.cache-7\n",
      "../../asn1346271_2/work/.cache/fontconfig/3ed39b69-df76-4731-afce-07430617d0a2-le64.cache-7\n",
      "../../asn1346271_2/work/.cache/fontconfig/3c6b3f2a-33a8-4750-8054-006020f29c74-le64.cache-7\n",
      "../../asn1346271_2/work/.cache/fontconfig/12c9ecd9-5b06-4cab-a931-c7e5ef6353f2-le64.cache-7\n",
      "../../asn1346271_2/work/.cache/fontconfig/d9a334f7-28d9-4290-9a12-742540620812-le64.cache-7\n",
      "../../asn1346271_2/work/.cache/fontconfig/a3dd0b8b-a0e3-4c7f-9b89-233c4c041b25-le64.cache-7\n",
      "../../asn1346271_2/work/.cache/fontconfig/643d55f9-4bcd-4158-a7a8-bb4c420827d9-le64.cache-7\n"
     ]
    }
   ],
   "source": [
    "!tar --exclude='*/.voc' --exclude='*/.voc.work' -chvzf notebook.tar.gz ../../*"
   ]
  },
  {
   "cell_type": "code",
   "execution_count": null,
   "metadata": {
    "collapsed": true
   },
   "outputs": [],
   "source": []
  }
 ],
 "metadata": {
  "celltoolbar": "Create Assignment",
  "kernelspec": {
   "display_name": "Python 3.8",
   "language": "python",
   "name": "python38"
  },
  "language_info": {
   "codemirror_mode": {
    "name": "ipython",
    "version": 3
   },
   "file_extension": ".py",
   "mimetype": "text/x-python",
   "name": "python",
   "nbconvert_exporter": "python",
   "pygments_lexer": "ipython3",
   "version": "3.8.7"
  }
 },
 "nbformat": 4,
 "nbformat_minor": 1
}
